{
 "cells": [
  {
   "cell_type": "code",
   "execution_count": 4,
   "metadata": {},
   "outputs": [
    {
     "name": "stdout",
     "output_type": "stream",
     "text": [
      "-1.8\n",
      "-1.77534\n",
      "-1.7755200000000002\n"
     ]
    }
   ],
   "source": [
    "# BINOMIAL DISTRIBUTION\n",
    "\n",
    "# DISCRETE RVs\n",
    "# CONDITIONS FOR USING BINOMIAL DISTRIBUTION:  1. DISCRETE RVs,  2. IT CAN TAKE ONLY 2 POSSIBLE VALUES OF RV  3. RANDOM VARIABLES SHOULD BE INDEPENDENT\n",
    "\n",
    "# P(A|B)= P(A ^ B) / P(B)\n",
    "\n",
    "# PROBABILITY OF OCCURENCE OF A PROVIDED B HAS ALREADY HAPPENED, i.e., IF A & B ARE DISJOINT\n",
    "\n",
    "# P(A|B)= P(A ^ B) / P(B) ..... eqn1\n",
    "# THEN P(A|B)=P(A) .......eqn2\n",
    "# then P(A^B) =P(A) * P(B)\n",
    "\n",
    "# BINOMIAL DISTRIBUTION\n",
    "\n",
    "# P(X=k) = nCk . p^k . q^(n-k)             , q=1-p\n",
    "# X= number of times we get the desired outcome of RV,  0<=k<=n\n",
    "\n",
    "# P(4<=X<=7)= P(X=4) + P(X=5) + P(X=6) + P(X=7)  \n",
    "\n",
    "# if p=k:  binomial distribution bcms the discrete version of gaussian.\n",
    "\n",
    "# else if p>k: binomial distribution get skewed to the left i.e., bulge moved to right\n",
    "\n",
    "# else if p<k: binomial distribution get skewed to the right i.e., bulge moved to left\n",
    "\n",
    "# p is the natural parameter in this case\n",
    "# For binomian ,           mean = np, variance= npq\n",
    "uu\n",
    "#Descriptive Statistics,         Reading = mean + z * standrd deviation\n",
    "\n",
    "#  -4<=z<=+4,    z is called z-score, z is u \n",
    "#for any reading, z= (reading - mean) / standrd deviation\n",
    "\n",
    "# standard normal distribution\n",
    "\n",
    "print((63-72)/5)\n",
    "print((63.1233-72)/5)\n",
    "print((63.1224-72)/5)\n",
    "\n",
    "# -3.745 to -3.790 ???????"
   ]
  },
  {
   "cell_type": "code",
   "execution_count": null,
   "metadata": {},
   "outputs": [],
   "source": []
  }
 ],
 "metadata": {
  "kernelspec": {
   "display_name": "Python 3",
   "language": "python",
   "name": "python3"
  },
  "language_info": {
   "codemirror_mode": {
    "name": "ipython",
    "version": 3
   },
   "file_extension": ".py",
   "mimetype": "text/x-python",
   "name": "python",
   "nbconvert_exporter": "python",
   "pygments_lexer": "ipython3",
   "version": "3.6.4"
  }
 },
 "nbformat": 4,
 "nbformat_minor": 2
}
