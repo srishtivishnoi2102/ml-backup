{
 "cells": [
  {
   "cell_type": "code",
   "execution_count": 4,
   "metadata": {},
   "outputs": [],
   "source": [
    "import pandas as pd\n",
    "from scipy.io import loadmat\n",
    "import numpy as np\n",
    "import scipy.stats as s\n",
    "from sklearn.preprocessing import StandardScaler"
   ]
  },
  {
   "cell_type": "code",
   "execution_count": 5,
   "metadata": {},
   "outputs": [],
   "source": [
    "TrainData = pd.read_csv('datasets/train.csv')\n"
   ]
  },
  {
   "cell_type": "code",
   "execution_count": 6,
   "metadata": {},
   "outputs": [],
   "source": [
    "sc = StandardScaler()\n",
    "\n",
    "X_Train_Data = TrainData.iloc[:,1:]\n",
    "Y_Train_Data = TrainData.iloc[:,0]\n",
    "# X_Train_Data = sc.fit_transform(X_Train_Data\n",
    "\n",
    "TestData = pd.read_csv('datasets/test.csv')\n",
    "X_Test_Data = TestData.iloc[:,:]\n",
    "Y_Test_Data = TestData.iloc[:,0]\n",
    "# X_Test_Data = sc.fit_transform(X_Test_Data)\n",
    "\n"
   ]
  },
  {
   "cell_type": "code",
   "execution_count": 35,
   "metadata": {},
   "outputs": [],
   "source": [
    "def PCA(Train_Data,Test_Data):\n",
    "    Cov = np.cov(Train_Data.T)\n",
    "    eigen_pairs = {}\n",
    "    eigen_vals,eigen_vecs = np.linalg.eig(Cov)\n",
    "\n",
    "    for i in range(len(eigen_vals)):\n",
    "        eigen_pairs[eigen_vals[i]] = eigen_vecs[i] \n",
    "\n",
    "    tot = sum(eigen_vals)\n",
    "\n",
    "    var_exp = [(i/tot) for i in sorted(eigen_vals,reverse= True)]\n",
    "    cum_var_exp = np.cumsum(var_exp)\n",
    "\n",
    "\n",
    "    for i in range(len(cum_var_exp)):\n",
    "        if cum_var_exp[i] >= 0.95:\n",
    "            k = i\n",
    "            break;\n",
    "\n",
    "    print(\"K :\",k)\n",
    "    print(\"LEN: \",len(eigen_vals))\n",
    "\n",
    "\n",
    "    sorted(eigen_vals,reverse=True)\n",
    "\n",
    "\n",
    "    w = []\n",
    "    for i in eigen_vals:\n",
    "        w.append(np.real(eigen_pairs[i][:k]))\n",
    "\n",
    "    w = np.array(w)\n",
    "\n",
    "\n",
    "    X_Train_Data_PCA = Train_Data.dot(w)\n",
    "#     print(\"X_Train_Data_PCA.shape\",X_Train_Data_PCA.shape)\n",
    "\n",
    "    X_Test_Data_PCA = Test_Data.dot(w)\n",
    "#     print(\"X_Test_Data_PCA.shape\",X_Test_Data_PCA.shape)\n",
    "    \n",
    "    return X_Train_Data_PCA,X_Test_Data_PCA"
   ]
  },
  {
   "cell_type": "code",
   "execution_count": null,
   "metadata": {},
   "outputs": [],
   "source": []
  },
  {
   "cell_type": "code",
   "execution_count": 36,
   "metadata": {},
   "outputs": [
    {
     "data": {
      "text/plain": [
       "[0.06886666666666667,\n",
       " 0.07806666666666667,\n",
       " 0.06961666666666666,\n",
       " 0.07251666666666666,\n",
       " 0.06786666666666667,\n",
       " 0.06325,\n",
       " 0.06895,\n",
       " 0.07335,\n",
       " 0.06771666666666666,\n",
       " 0.0698]"
      ]
     },
     "execution_count": 36,
     "metadata": {},
     "output_type": "execute_result"
    }
   ],
   "source": [
    "PCapList =[Y_Train_Data[Y_Train_Data == i].shape[0]/60000 for i in range(10)]\n",
    "PCapList\n"
   ]
  },
  {
   "cell_type": "code",
   "execution_count": 37,
   "metadata": {
    "scrolled": true
   },
   "outputs": [
    {
     "name": "stdout",
     "output_type": "stream",
     "text": [
      "(4132, 784)\n",
      "(4684, 784)\n",
      "(4177, 784)\n",
      "(4351, 784)\n",
      "(4072, 784)\n",
      "(3795, 784)\n",
      "(4137, 784)\n",
      "(4401, 784)\n",
      "(4063, 784)\n",
      "(4188, 784)\n"
     ]
    }
   ],
   "source": [
    "NumberList = {}\n",
    "for i in range(10):\n",
    "    NumberList[i] = X_Train_Data[Y_Train_Data == i]\n",
    "    print(NumberList[i].shape)"
   ]
  },
  {
   "cell_type": "code",
   "execution_count": 38,
   "metadata": {},
   "outputs": [
    {
     "name": "stdout",
     "output_type": "stream",
     "text": [
      "K : 113\n",
      "LEN:  784\n",
      "K : 69\n",
      "LEN:  784\n",
      "K : 140\n",
      "LEN:  784\n",
      "K : 135\n",
      "LEN:  784\n",
      "K : 132\n",
      "LEN:  784\n",
      "K : 128\n",
      "LEN:  784\n",
      "K : 111\n",
      "LEN:  784\n",
      "K : 119\n",
      "LEN:  784\n",
      "K : 134\n",
      "LEN:  784\n",
      "K : 110\n",
      "LEN:  784\n"
     ]
    }
   ],
   "source": [
    "def calProb(Test_Data_PCA,Pcap,Mean,cov):\n",
    "    return Pcap * s.multivariate_normal.pdf(Test_Data_PCA,Mean,cov)\n",
    "\n",
    "ProbList = []\n",
    "for i in range(10):\n",
    "    X_Train_Data_PCA,X_Test_Data_PCA = PCA(NumberList[i],X_Test_Data)\n",
    "    Mean = np.mean(a = X_Train_Data_PCA,axis=0)\n",
    "    Cov = np.cov(X_Train_Data_PCA.T)\n",
    "    ProbList.append(calProb(X_Test_Data_PCA,PCapList[i],Mean,Cov))\n",
    "    \n",
    "    \n",
    "\n"
   ]
  },
  {
   "cell_type": "code",
   "execution_count": 44,
   "metadata": {},
   "outputs": [
    {
     "data": {
      "text/plain": [
       "(10, 28000)"
      ]
     },
     "execution_count": 44,
     "metadata": {},
     "output_type": "execute_result"
    }
   ],
   "source": [
    "probList=np.array(ProbList)\n",
    "probList.shape"
   ]
  },
  {
   "cell_type": "code",
   "execution_count": 46,
   "metadata": {},
   "outputs": [
    {
     "data": {
      "text/plain": [
       "601"
      ]
     },
     "execution_count": 46,
     "metadata": {},
     "output_type": "execute_result"
    }
   ],
   "source": [
    "r=np.argmax(probList[1,:])\n",
    "r"
   ]
  },
  {
   "cell_type": "code",
   "execution_count": null,
   "metadata": {},
   "outputs": [],
   "source": []
  },
  {
   "cell_type": "code",
   "execution_count": 10,
   "metadata": {},
   "outputs": [
    {
     "name": "stdout",
     "output_type": "stream",
     "text": [
      "[0.00000000e+000 3.06993295e-268 3.00367383e-220 ... 2.97264706e-275\n",
      " 1.19234983e-241 0.00000000e+000]\n"
     ]
    },
    {
     "name": "stderr",
     "output_type": "stream",
     "text": [
      "C:\\Users\\Srishti Vishnoi\\Anaconda3\\lib\\site-packages\\ipykernel_launcher.py:8: RuntimeWarning: invalid value encountered in true_divide\n",
      "  \n"
     ]
    }
   ],
   "source": [
    "  \n",
    "    \n",
    "Predicted = []\n",
    "All_Tot = sum(ProbList)\n",
    "print(All_Tot)\n",
    "Pred_Prob = []\n",
    "for i in range(10):\n",
    "    Pred_Prob.append(ProbList[i]/All_Tot)\n",
    "\n",
    "Pred_Prob = np.array(Pred_Prob)\n",
    "# print(Pred_Prob)\n",
    "\n",
    "for j in range(len(X_Test_Data_PCA)):\n",
    "    tslist = list(Pred_Prob[:,j])\n",
    "#     print(sum(tslist))\n",
    "#     print(tslist)\n",
    "    idx = tslist.index(max(tslist))\n",
    "#     print(idx,\" : \", Y_Test_Data[j] )\n",
    "    Predicted.append(idx)\n",
    "    \n",
    "count = 0\n",
    "for i in range(len(Y_Test_Data)):\n",
    "    if Predicted[i] == Y_Test_Data[i]:\n",
    "        count += 1\n",
    "# print(\"Accuracy: \",(count/len(Y_Test_Data))*100)"
   ]
  },
  {
   "cell_type": "code",
   "execution_count": 30,
   "metadata": {
    "scrolled": true
   },
   "outputs": [
    {
     "data": {
      "text/plain": [
       "10"
      ]
     },
     "execution_count": 30,
     "metadata": {},
     "output_type": "execute_result"
    }
   ],
   "source": [
    "len(ProbList)"
   ]
  },
  {
   "cell_type": "code",
   "execution_count": 12,
   "metadata": {},
   "outputs": [
    {
     "data": {
      "text/plain": [
       "[array([0.00000000e+000, 3.06993295e-268, 7.78238865e-293, ...,\n",
       "        5.37033759e-296, 6.70568144e-287, 0.00000000e+000]),\n",
       " array([0.00000000e+000, 0.00000000e+000, 3.00367383e-220, ...,\n",
       "        5.45885389e-313, 2.29073043e-318, 0.00000000e+000]),\n",
       " array([0., 0., 0., ..., 0., 0., 0.]),\n",
       " array([0.00000000e+000, 0.00000000e+000, 0.00000000e+000, ...,\n",
       "        3.04695492e-296, 1.20343862e-315, 0.00000000e+000]),\n",
       " array([0.0000e+000, 0.0000e+000, 0.0000e+000, ..., 0.0000e+000,\n",
       "        1.3196e-320, 0.0000e+000]),\n",
       " array([0.00000000e+000, 0.00000000e+000, 8.15504755e-320, ...,\n",
       "        1.28185457e-313, 4.31220496e-320, 0.00000000e+000]),\n",
       " array([0.00000000e+000, 0.00000000e+000, 2.63032293e-279, ...,\n",
       "        6.51617110e-306, 2.20845702e-296, 0.00000000e+000]),\n",
       " array([0.00000000e+000, 0.00000000e+000, 1.36998982e-283, ...,\n",
       "        0.00000000e+000, 5.91381957e-291, 0.00000000e+000]),\n",
       " array([0.00000000e+000, 0.00000000e+000, 4.21941904e-307, ...,\n",
       "        2.75028279e-300, 3.64783059e-312, 0.00000000e+000]),\n",
       " array([0.00000000e+000, 0.00000000e+000, 7.27177233e-248, ...,\n",
       "        2.97264706e-275, 1.19234983e-241, 0.00000000e+000])]"
      ]
     },
     "execution_count": 12,
     "metadata": {},
     "output_type": "execute_result"
    }
   ],
   "source": [
    "ProbList"
   ]
  },
  {
   "cell_type": "markdown",
   "metadata": {},
   "source": [
    "### Using SkLearn"
   ]
  },
  {
   "cell_type": "markdown",
   "metadata": {},
   "source": [
    "#### Without Dimensionality "
   ]
  },
  {
   "cell_type": "code",
   "execution_count": 20,
   "metadata": {},
   "outputs": [],
   "source": [
    "from sklearn.naive_bayes import GaussianNB\n",
    "\n",
    "classifier = GaussianNB()\n",
    "\n",
    "classifier.fit(X_Train_Data,Y_Train_Data)\n",
    "\n",
    "predict_by_model = classifier.predict(X_Test_Data)\n"
   ]
  },
  {
   "cell_type": "code",
   "execution_count": 22,
   "metadata": {},
   "outputs": [
    {
     "name": "stdout",
     "output_type": "stream",
     "text": [
      "Accuracy is: 10.77%\n"
     ]
    }
   ],
   "source": [
    "# for i in range(len(predict_by_model)):\n",
    "#     print(predict_by_model[i],Y_Test_Data[i])\n",
    "\n",
    "accuracy = sum(predict_by_model == Y_Test_Data)/(Y_Test_Data.shape[0])\n",
    "print('Accuracy is: {}%'.format(accuracy*100))"
   ]
  },
  {
   "cell_type": "markdown",
   "metadata": {},
   "source": [
    "#### With Dimensionality Reduction "
   ]
  },
  {
   "cell_type": "code",
   "execution_count": 23,
   "metadata": {},
   "outputs": [
    {
     "name": "stdout",
     "output_type": "stream",
     "text": [
      "K : 330\n",
      "LEN:  784\n",
      "w.shape (784, 330)\n",
      "X_Train_Data_PCA.shape (60000, 330)\n",
      "X_Test_Data_PCA.shape (10000, 330)\n"
     ]
    }
   ],
   "source": [
    "X_Train_Data_PCA,X_Test_Data_PCA = PCA(X_Train_Data,X_Test_Data)"
   ]
  },
  {
   "cell_type": "code",
   "execution_count": 24,
   "metadata": {},
   "outputs": [],
   "source": [
    "\n",
    "classifier.fit(X_Train_Data_PCA,Y_Train_Data)\n",
    "\n",
    "predict_by_model_PCA = classifier.predict(X_Test_Data_PCA)"
   ]
  },
  {
   "cell_type": "code",
   "execution_count": 25,
   "metadata": {},
   "outputs": [
    {
     "name": "stdout",
     "output_type": "stream",
     "text": [
      "Accuracy is: 45.660000000000004%\n"
     ]
    }
   ],
   "source": [
    "accuracy = sum(predict_by_model_PCA == Y_Test_Data)/(Y_Test_Data.shape[0])\n",
    "print('Accuracy is: {}%'.format(accuracy*100))"
   ]
  }
 ],
 "metadata": {
  "kernelspec": {
   "display_name": "Python 3",
   "language": "python",
   "name": "python3"
  },
  "language_info": {
   "codemirror_mode": {
    "name": "ipython",
    "version": 3
   },
   "file_extension": ".py",
   "mimetype": "text/x-python",
   "name": "python",
   "nbconvert_exporter": "python",
   "pygments_lexer": "ipython3",
   "version": "3.6.5"
  }
 },
 "nbformat": 4,
 "nbformat_minor": 2
}
