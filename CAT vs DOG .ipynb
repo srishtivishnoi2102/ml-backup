{
 "cells": [
  {
   "cell_type": "code",
   "execution_count": 1,
   "metadata": {},
   "outputs": [],
   "source": [
    "from google_images_download import google_images_download"
   ]
  },
  {
   "cell_type": "code",
   "execution_count": 392,
   "metadata": {},
   "outputs": [],
   "source": [
    "import numpy as np\n",
    "import pandas as pd\n",
    "from IPython.display import clear_output\n",
    "import matplotlib.pyplot as plt\n",
    "import os\n",
    "from sklearn.utils import shuffle\n",
    "import math\n",
    "from sklearn.model_selection import train_test_split\n",
    "import cv2"
   ]
  },
  {
   "cell_type": "code",
   "execution_count": 29,
   "metadata": {},
   "outputs": [],
   "source": [
    "image_dir=os.listdir('datasets/catvsdog')"
   ]
  },
  {
   "cell_type": "code",
   "execution_count": 30,
   "metadata": {},
   "outputs": [
    {
     "data": {
      "text/plain": [
       "['cats', 'dogs']"
      ]
     },
     "execution_count": 30,
     "metadata": {},
     "output_type": "execute_result"
    }
   ],
   "source": [
    "image_dir"
   ]
  },
  {
   "cell_type": "code",
   "execution_count": 32,
   "metadata": {},
   "outputs": [],
   "source": [
    "all_cat_names=os.listdir('datasets/catvsdog/cats')\n",
    "all_dog_names=os.listdir('datasets/catvsdog/dogs/')\n"
   ]
  },
  {
   "cell_type": "markdown",
   "metadata": {},
   "source": [
    "# converting each image into 75*75"
   ]
  },
  {
   "cell_type": "code",
   "execution_count": 200,
   "metadata": {},
   "outputs": [],
   "source": [
    "IMG_SIZE=75"
   ]
  },
  {
   "cell_type": "code",
   "execution_count": 201,
   "metadata": {},
   "outputs": [],
   "source": [
    "cat_image_array=[]\n",
    "for i in range(len(all_cat_names)):\n",
    "    temp=plt.imread('datasets/catvsdog/cats/'+all_cat_names[i])\n",
    "    temp=(cv2.resize(temp,(IMG_SIZE,IMG_SIZE)).T[0]).T\n",
    "    temp=np.ndarray.flatten(temp).reshape(IMG_SIZE*IMG_SIZE)\n",
    "    cat_image_array.append(temp)\n",
    "    \n",
    "\n",
    "    \n",
    "dog_image_array=[]\n",
    "for i in range(len(all_dog_names)):\n",
    "    temp=plt.imread('datasets/catvsdog/dogs/'+all_dog_names[i])\n",
    "    temp=(cv2.resize(temp,(IMG_SIZE,IMG_SIZE)).T[0]).T\n",
    "    temp=np.ndarray.flatten(temp).reshape(IMG_SIZE*IMG_SIZE)\n",
    "    dog_image_array.append(temp)"
   ]
  },
  {
   "cell_type": "code",
   "execution_count": 202,
   "metadata": {},
   "outputs": [],
   "source": [
    "dog_image_array=np.array(dog_image_array)\n",
    "cat_image_array=np.array(cat_image_array)"
   ]
  },
  {
   "cell_type": "code",
   "execution_count": 203,
   "metadata": {},
   "outputs": [
    {
     "data": {
      "text/plain": [
       "(798, 5625)"
      ]
     },
     "execution_count": 203,
     "metadata": {},
     "output_type": "execute_result"
    }
   ],
   "source": [
    "dog_image_array.shape"
   ]
  },
  {
   "cell_type": "code",
   "execution_count": null,
   "metadata": {},
   "outputs": [],
   "source": []
  },
  {
   "cell_type": "code",
   "execution_count": 310,
   "metadata": {},
   "outputs": [],
   "source": [
    "cat_image_df=pd.DataFrame(cat_image_array)\n",
    "dog_image_df=pd.DataFrame(dog_image_array)\n",
    "\n",
    "\n",
    "cat_image_df=(cat_image_df-cat_image_df.mean(axis=0))/cat_image_df.std(axis=0)\n",
    "dog_image_df=(dog_image_df-dog_image_df.mean(axis=0))/dog_image_df.std(axis=0)"
   ]
  },
  {
   "cell_type": "markdown",
   "metadata": {},
   "source": [
    "# Adding label column, 0 for cat, 1 for dog"
   ]
  },
  {
   "cell_type": "code",
   "execution_count": 313,
   "metadata": {},
   "outputs": [],
   "source": [
    "cat_image_df['label']=0\n",
    "dog_image_df['label']=1"
   ]
  },
  {
   "cell_type": "markdown",
   "metadata": {},
   "source": [
    "# creating final dataset "
   ]
  },
  {
   "cell_type": "code",
   "execution_count": 314,
   "metadata": {},
   "outputs": [],
   "source": [
    "data=pd.concat([cat_image_df,dog_image_df])"
   ]
  },
  {
   "cell_type": "code",
   "execution_count": 315,
   "metadata": {},
   "outputs": [
    {
     "data": {
      "text/html": [
       "<div>\n",
       "<style scoped>\n",
       "    .dataframe tbody tr th:only-of-type {\n",
       "        vertical-align: middle;\n",
       "    }\n",
       "\n",
       "    .dataframe tbody tr th {\n",
       "        vertical-align: top;\n",
       "    }\n",
       "\n",
       "    .dataframe thead th {\n",
       "        text-align: right;\n",
       "    }\n",
       "</style>\n",
       "<table border=\"1\" class=\"dataframe\">\n",
       "  <thead>\n",
       "    <tr style=\"text-align: right;\">\n",
       "      <th></th>\n",
       "      <th>0</th>\n",
       "      <th>1</th>\n",
       "      <th>2</th>\n",
       "      <th>3</th>\n",
       "      <th>4</th>\n",
       "      <th>5</th>\n",
       "      <th>6</th>\n",
       "      <th>7</th>\n",
       "      <th>8</th>\n",
       "      <th>9</th>\n",
       "      <th>...</th>\n",
       "      <th>5616</th>\n",
       "      <th>5617</th>\n",
       "      <th>5618</th>\n",
       "      <th>5619</th>\n",
       "      <th>5620</th>\n",
       "      <th>5621</th>\n",
       "      <th>5622</th>\n",
       "      <th>5623</th>\n",
       "      <th>5624</th>\n",
       "      <th>label</th>\n",
       "    </tr>\n",
       "  </thead>\n",
       "  <tbody>\n",
       "    <tr>\n",
       "      <th>0</th>\n",
       "      <td>0.077665</td>\n",
       "      <td>0.279652</td>\n",
       "      <td>-0.175798</td>\n",
       "      <td>-0.153335</td>\n",
       "      <td>-0.129931</td>\n",
       "      <td>0.032905</td>\n",
       "      <td>0.023447</td>\n",
       "      <td>-0.240227</td>\n",
       "      <td>-0.283893</td>\n",
       "      <td>-0.342708</td>\n",
       "      <td>...</td>\n",
       "      <td>-1.376611</td>\n",
       "      <td>-1.178075</td>\n",
       "      <td>-1.142901</td>\n",
       "      <td>-1.169901</td>\n",
       "      <td>-1.172098</td>\n",
       "      <td>-1.187596</td>\n",
       "      <td>-1.068367</td>\n",
       "      <td>-0.969141</td>\n",
       "      <td>-0.942901</td>\n",
       "      <td>0</td>\n",
       "    </tr>\n",
       "    <tr>\n",
       "      <th>1</th>\n",
       "      <td>0.119943</td>\n",
       "      <td>0.081348</td>\n",
       "      <td>0.091800</td>\n",
       "      <td>0.157259</td>\n",
       "      <td>0.204871</td>\n",
       "      <td>0.312949</td>\n",
       "      <td>0.107737</td>\n",
       "      <td>0.283452</td>\n",
       "      <td>0.013111</td>\n",
       "      <td>-0.286330</td>\n",
       "      <td>...</td>\n",
       "      <td>-0.176342</td>\n",
       "      <td>-0.264250</td>\n",
       "      <td>-0.255304</td>\n",
       "      <td>-0.269501</td>\n",
       "      <td>-0.311599</td>\n",
       "      <td>-0.367471</td>\n",
       "      <td>-0.379258</td>\n",
       "      <td>-0.468961</td>\n",
       "      <td>-0.408462</td>\n",
       "      <td>0</td>\n",
       "    </tr>\n",
       "    <tr>\n",
       "      <th>2</th>\n",
       "      <td>-0.796084</td>\n",
       "      <td>-0.711872</td>\n",
       "      <td>-0.654658</td>\n",
       "      <td>-0.732169</td>\n",
       "      <td>-0.492633</td>\n",
       "      <td>-0.457171</td>\n",
       "      <td>-0.398005</td>\n",
       "      <td>-0.381762</td>\n",
       "      <td>-0.566754</td>\n",
       "      <td>-0.131290</td>\n",
       "      <td>...</td>\n",
       "      <td>0.367966</td>\n",
       "      <td>0.368398</td>\n",
       "      <td>0.378694</td>\n",
       "      <td>0.222905</td>\n",
       "      <td>0.379621</td>\n",
       "      <td>0.091242</td>\n",
       "      <td>0.103118</td>\n",
       "      <td>0.378567</td>\n",
       "      <td>0.454863</td>\n",
       "      <td>0</td>\n",
       "    </tr>\n",
       "    <tr>\n",
       "      <th>3</th>\n",
       "      <td>-0.077355</td>\n",
       "      <td>-0.074463</td>\n",
       "      <td>0.232641</td>\n",
       "      <td>0.326674</td>\n",
       "      <td>0.218821</td>\n",
       "      <td>0.298946</td>\n",
       "      <td>0.430850</td>\n",
       "      <td>0.170224</td>\n",
       "      <td>0.352544</td>\n",
       "      <td>0.235167</td>\n",
       "      <td>...</td>\n",
       "      <td>0.172574</td>\n",
       "      <td>0.185633</td>\n",
       "      <td>0.350516</td>\n",
       "      <td>0.419868</td>\n",
       "      <td>0.450154</td>\n",
       "      <td>0.549956</td>\n",
       "      <td>0.489019</td>\n",
       "      <td>0.503612</td>\n",
       "      <td>0.633009</td>\n",
       "      <td>0</td>\n",
       "    </tr>\n",
       "    <tr>\n",
       "      <th>4</th>\n",
       "      <td>1.895626</td>\n",
       "      <td>1.469482</td>\n",
       "      <td>1.415707</td>\n",
       "      <td>1.385517</td>\n",
       "      <td>1.306927</td>\n",
       "      <td>1.293101</td>\n",
       "      <td>1.259704</td>\n",
       "      <td>1.359116</td>\n",
       "      <td>0.663690</td>\n",
       "      <td>1.884223</td>\n",
       "      <td>...</td>\n",
       "      <td>1.679888</td>\n",
       "      <td>1.633694</td>\n",
       "      <td>1.717135</td>\n",
       "      <td>1.728262</td>\n",
       "      <td>1.635103</td>\n",
       "      <td>1.675889</td>\n",
       "      <td>1.729416</td>\n",
       "      <td>1.781852</td>\n",
       "      <td>1.729294</td>\n",
       "      <td>0</td>\n",
       "    </tr>\n",
       "  </tbody>\n",
       "</table>\n",
       "<p>5 rows × 5626 columns</p>\n",
       "</div>"
      ],
      "text/plain": [
       "          0         1         2         3         4         5         6  \\\n",
       "0  0.077665  0.279652 -0.175798 -0.153335 -0.129931  0.032905  0.023447   \n",
       "1  0.119943  0.081348  0.091800  0.157259  0.204871  0.312949  0.107737   \n",
       "2 -0.796084 -0.711872 -0.654658 -0.732169 -0.492633 -0.457171 -0.398005   \n",
       "3 -0.077355 -0.074463  0.232641  0.326674  0.218821  0.298946  0.430850   \n",
       "4  1.895626  1.469482  1.415707  1.385517  1.306927  1.293101  1.259704   \n",
       "\n",
       "          7         8         9  ...        5616      5617      5618  \\\n",
       "0 -0.240227 -0.283893 -0.342708  ...   -1.376611 -1.178075 -1.142901   \n",
       "1  0.283452  0.013111 -0.286330  ...   -0.176342 -0.264250 -0.255304   \n",
       "2 -0.381762 -0.566754 -0.131290  ...    0.367966  0.368398  0.378694   \n",
       "3  0.170224  0.352544  0.235167  ...    0.172574  0.185633  0.350516   \n",
       "4  1.359116  0.663690  1.884223  ...    1.679888  1.633694  1.717135   \n",
       "\n",
       "       5619      5620      5621      5622      5623      5624  label  \n",
       "0 -1.169901 -1.172098 -1.187596 -1.068367 -0.969141 -0.942901      0  \n",
       "1 -0.269501 -0.311599 -0.367471 -0.379258 -0.468961 -0.408462      0  \n",
       "2  0.222905  0.379621  0.091242  0.103118  0.378567  0.454863      0  \n",
       "3  0.419868  0.450154  0.549956  0.489019  0.503612  0.633009      0  \n",
       "4  1.728262  1.635103  1.675889  1.729416  1.781852  1.729294      0  \n",
       "\n",
       "[5 rows x 5626 columns]"
      ]
     },
     "execution_count": 315,
     "metadata": {},
     "output_type": "execute_result"
    }
   ],
   "source": [
    "data.head()"
   ]
  },
  {
   "cell_type": "code",
   "execution_count": null,
   "metadata": {},
   "outputs": [],
   "source": []
  },
  {
   "cell_type": "code",
   "execution_count": null,
   "metadata": {},
   "outputs": [],
   "source": []
  },
  {
   "cell_type": "markdown",
   "metadata": {},
   "source": [
    "# shuffling the data to make it random"
   ]
  },
  {
   "cell_type": "code",
   "execution_count": 316,
   "metadata": {},
   "outputs": [],
   "source": [
    "stds=data.std(axis=0)"
   ]
  },
  {
   "cell_type": "code",
   "execution_count": 317,
   "metadata": {},
   "outputs": [],
   "source": [
    "for each in stds:\n",
    "    if each<=0.2:\n",
    "        print(each)"
   ]
  },
  {
   "cell_type": "code",
   "execution_count": 318,
   "metadata": {},
   "outputs": [],
   "source": [
    "data=shuffle(data)"
   ]
  },
  {
   "cell_type": "markdown",
   "metadata": {},
   "source": [
    "# separating the pixels and label"
   ]
  },
  {
   "cell_type": "code",
   "execution_count": 319,
   "metadata": {},
   "outputs": [],
   "source": [
    "X=data.drop(['label'],axis=1).copy()    # features\n",
    "Y=data['label']              # label\n"
   ]
  },
  {
   "cell_type": "markdown",
   "metadata": {},
   "source": [
    "# splitting the data set into training and testing part"
   ]
  },
  {
   "cell_type": "code",
   "execution_count": 320,
   "metadata": {},
   "outputs": [],
   "source": [
    "x_train,x_test,y_Train,y_test=train_test_split(X,Y)\n",
    "\n",
    "x_train=np.array(x_train)\n",
    "x_test=np.array(x_test)\n",
    "y_Train=np.array(y_Train).reshape(len(y_Train),1)\n",
    "y_test=np.array(y_test).reshape(len(y_test),1)\n"
   ]
  },
  {
   "cell_type": "code",
   "execution_count": 501,
   "metadata": {},
   "outputs": [],
   "source": [
    "def linear_reg(m,x):\n",
    "    z=-np.dot(x.astype(float),m)    \n",
    "    z=np.array(z).reshape(len(z),1)\n",
    "    return z\n",
    "\n",
    "def sigmoid(m,x):\n",
    "    z=linear_reg(m,x).astype(float)\n",
    "    y= 1.0/(1.0+np.exp(-z))\n",
    "    y[y==0]=0.000000000001\n",
    "    y[y==1]=.9999999999999\n",
    "    return y\n",
    "    \n",
    "def error_cost(m,x,y):\n",
    "    y_predicted=sigmoid(m,x)\n",
    "    \n",
    "    \n",
    "    c=np.mean(y)\n",
    "    c=0\n",
    "    e= - y*np.log(c+y_predicted)-(1-y)*np.log(c+1-y_predicted) \n",
    "    \n",
    " #   e=e[e!=-np.log(0)]          # to remove the -inf values\n",
    "#    e = e[np.logical_not(np.isnan(e))] # to remove nan values\n",
    "    \n",
    "    \n",
    "    #   e[np.isinf(np.log(e))]= 1\n",
    "    #   e[ np.isnan(e)]=-1\n",
    "    return np.mean(e)\n",
    "        \n",
    "def derivative_wrt_weights(m,x,y):\n",
    "    return (np.mean( y-(sigmoid(m,x))*x ,axis=0).reshape(len(x.T),1))\n",
    "\n",
    "       \n",
    "def accuracy(m,x,y):\n",
    "    y_predicted=sigmoid(m,x)\n",
    "    y_predicted[y_predicted>=0.5]=1\n",
    "    y_predicted[y_predicted<0.5]=0\n",
    "    correct=len(y_predicted[y_predicted==y])\n",
    "    return (correct*100)/len(y)\n",
    "\n",
    "def train_model(weight0,lr,num_of_iteration):\n",
    "    cost=[]\n",
    "    weights=weight0\n",
    "    for i in range(0,num_of_iteration):\n",
    "             \n",
    "        weights=weights-lr*derivative_wrt_weights(weights,x_train,y_Train)\n",
    "\n",
    "        clear_output(True)\n",
    "        cost.append(error_cost(weights,x_train,y_Train))\n",
    "        print(i,'th Error :',error_cost(weights,x_train,y_Train))\n",
    "        \n",
    "\n",
    "    print(\"Training Accuracy is : {:.4f} %\".format(accuracy(weights,x_train,y_Train)))\n",
    "    print(\"Testing Accuracy is : {:.4f} %\".format(accuracy(weights,x_test,y_test)))\n",
    "    plt.plot(cost)\n",
    "    plt.show()\n",
    "    return weights"
   ]
  },
  {
   "cell_type": "code",
   "execution_count": 504,
   "metadata": {},
   "outputs": [],
   "source": [
    "weight0 =np.random.randn(len(x_train.T),1)\n"
   ]
  },
  {
   "cell_type": "code",
   "execution_count": 508,
   "metadata": {},
   "outputs": [
    {
     "name": "stdout",
     "output_type": "stream",
     "text": [
      "9 th Error : 22.205138798617224\n",
      "Training Accuracy is : 50.1484 %\n",
      "Testing Accuracy is : 49.7778 %\n"
     ]
    },
    {
     "data": {
      "image/png": "[encoded data removed]",
      "text/plain": [
       "<Figure size 432x288 with 1 Axes>"
      ]
     },
     "metadata": {},
     "output_type": "display_data"
    }
   ],
   "source": [
    "weights1=train_model(weight0,.00151,10)"
   ]
  },
  {
   "cell_type": "code",
   "execution_count": 500,
   "metadata": {},
   "outputs": [
    {
     "name": "stdout",
     "output_type": "stream",
     "text": [
      "119 th Error : 19.1227092569616\n",
      "Training Accuracy is : 50.5935 %\n",
      "Testing Accuracy is : 52.2222 %\n"
     ]
    },
    {
     "data": {
      "image/png": "[encoded data removed]",
      "text/plain": [
       "<Figure size 432x288 with 1 Axes>"
      ]
     },
     "metadata": {},
     "output_type": "display_data"
    }
   ],
   "source": [
    "weights1=train_model(weight0,.0001,120)"
   ]
  },
  {
   "cell_type": "code",
   "execution_count": null,
   "metadata": {},
   "outputs": [],
   "source": []
  }
 ],
 "metadata": {
  "kernelspec": {
   "display_name": "Python 3",
   "language": "python",
   "name": "python3"
  },
  "language_info": {
   "codemirror_mode": {
    "name": "ipython",
    "version": 3
   },
   "file_extension": ".py",
   "mimetype": "text/x-python",
   "name": "python",
   "nbconvert_exporter": "python",
   "pygments_lexer": "ipython3",
   "version": "3.6.5"
  }
 },
 "nbformat": 4,
 "nbformat_minor": 2
}
