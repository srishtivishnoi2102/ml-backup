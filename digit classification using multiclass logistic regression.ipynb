{
 "cells": [
  {
   "cell_type": "code",
   "execution_count": 1,
   "metadata": {},
   "outputs": [],
   "source": [
    "import matplotlib.pyplot as plt\n",
    "import pandas as pd\n",
    "import numpy as np\n",
    "# import random as r\n",
    "# import scipy.stats as S\n",
    "rawdata = pd.read_csv(\"datasets/train.csv\")"
   ]
  },
  {
   "cell_type": "code",
   "execution_count": 2,
   "metadata": {},
   "outputs": [],
   "source": [
    "labels=rawdata['label']"
   ]
  },
  {
   "cell_type": "code",
   "execution_count": 3,
   "metadata": {},
   "outputs": [],
   "source": [
    "encoded_label=np.eye(10,10)[labels]"
   ]
  },
  {
   "cell_type": "code",
   "execution_count": 4,
   "metadata": {},
   "outputs": [
    {
     "data": {
      "text/plain": [
       "(42000, 10)"
      ]
     },
     "execution_count": 4,
     "metadata": {},
     "output_type": "execute_result"
    }
   ],
   "source": [
    "encoded_label.shape"
   ]
  },
  {
   "cell_type": "code",
   "execution_count": 5,
   "metadata": {},
   "outputs": [],
   "source": [
    "features=rawdata.drop(['label'],axis=1)"
   ]
  },
  {
   "cell_type": "code",
   "execution_count": 6,
   "metadata": {},
   "outputs": [
    {
     "data": {
      "text/plain": [
       "<matplotlib.image.AxesImage at 0x1795c3532e8>"
      ]
     },
     "execution_count": 6,
     "metadata": {},
     "output_type": "execute_result"
    },
    {
     "data": {
      "image/png": "[encoded data removed]",
      "text/plain": [
       "<Figure size 432x288 with 1 Axes>"
      ]
     },
     "metadata": {},
     "output_type": "display_data"
    }
   ],
   "source": [
    "plt.imshow(np.array(features.iloc[7852,:]).reshape(28,28))"
   ]
  },
  {
   "cell_type": "code",
   "execution_count": 14,
   "metadata": {},
   "outputs": [],
   "source": [
    "thetas=np.random.randn(784,10)"
   ]
  },
  {
   "cell_type": "code",
   "execution_count": 15,
   "metadata": {},
   "outputs": [],
   "source": [
    "theta0=np.random.randn(1,10)"
   ]
  },
  {
   "cell_type": "code",
   "execution_count": 49,
   "metadata": {},
   "outputs": [],
   "source": [
    "def sigoid(z):\n",
    "    return 1/(1 + np.exp(-z))\n",
    "\n",
    "def calc_loss(thetas,theta0,h_values):\n",
    "    return np.sum((h_values * encoded_label))\n",
    "\n",
    "\n",
    "\n",
    "def calc_thetas(thetas_old,theta0_old,h_values):\n",
    "    c_ij_one_minus_hvalues=encoded_label*(1-h_values)\n",
    "    derivatives_theta_transpose=np.matmul(np.array(features).T ,c_ij_one_minus_hvalues)\n",
    "    derivatives_theta_0=np.sum(c_ij_one_minus_hvalues,axis=0)\n",
    "    thetas_new = thetas_old + learningRate * derivatives_theta_transpose\n",
    "    theta0_new = theta0_old + learningRate * derivatives_theta_0\n",
    "    return thetas_new,theta0_new"
   ]
  },
  {
   "cell_type": "code",
   "execution_count": 47,
   "metadata": {},
   "outputs": [],
   "source": [
    "numOfIterations=100\n",
    "epsilon = 0.00001\n",
    "learningRate = 0.1\n",
    "\n",
    "thetas_old = thetas\n",
    "theta0_old = theta0"
   ]
  },
  {
   "cell_type": "code",
   "execution_count": 50,
   "metadata": {},
   "outputs": [
    {
     "name": "stdout",
     "output_type": "stream",
     "text": [
      "\n",
      "42000.0\n",
      "\n",
      "42000.0\n",
      "\n",
      "42000.0\n",
      "\n",
      "42000.0\n",
      "\n",
      "42000.0\n",
      "\n",
      "42000.0\n",
      "\n",
      "42000.0\n",
      "\n",
      "42000.0\n",
      "\n",
      "42000.0\n",
      "\n",
      "42000.0\n",
      "\n",
      "42000.0\n",
      "\n",
      "42000.0\n",
      "\n",
      "42000.0\n",
      "\n",
      "42000.0\n",
      "\n",
      "42000.0\n",
      "\n",
      "42000.0\n",
      "\n",
      "42000.0\n",
      "\n",
      "42000.0\n",
      "\n",
      "42000.0\n",
      "\n",
      "42000.0\n",
      "\n",
      "42000.0\n",
      "\n",
      "42000.0\n",
      "\n",
      "42000.0\n",
      "\n",
      "42000.0\n",
      "\n",
      "42000.0\n",
      "\n",
      "42000.0\n",
      "\n",
      "42000.0\n",
      "\n",
      "42000.0\n",
      "\n",
      "42000.0\n",
      "\n",
      "42000.0\n",
      "\n",
      "42000.0\n",
      "\n",
      "42000.0\n",
      "\n",
      "42000.0\n",
      "\n",
      "42000.0\n",
      "\n",
      "42000.0\n",
      "\n",
      "42000.0\n",
      "\n",
      "42000.0\n",
      "\n",
      "42000.0\n",
      "\n",
      "42000.0\n",
      "\n",
      "42000.0\n",
      "\n",
      "42000.0\n",
      "\n",
      "42000.0\n",
      "\n",
      "42000.0\n",
      "\n",
      "42000.0\n",
      "\n",
      "42000.0\n",
      "\n",
      "42000.0\n",
      "\n",
      "42000.0\n",
      "\n",
      "42000.0\n",
      "\n",
      "42000.0\n",
      "\n",
      "42000.0\n",
      "\n",
      "42000.0\n",
      "\n",
      "42000.0\n",
      "\n",
      "42000.0\n",
      "\n",
      "42000.0\n",
      "\n",
      "42000.0\n",
      "\n",
      "42000.0\n",
      "\n",
      "42000.0\n",
      "\n",
      "42000.0\n",
      "\n",
      "42000.0\n",
      "\n",
      "42000.0\n",
      "\n",
      "42000.0\n",
      "\n",
      "42000.0\n",
      "\n",
      "42000.0\n",
      "\n",
      "42000.0\n",
      "\n",
      "42000.0\n",
      "\n",
      "42000.0\n",
      "\n",
      "42000.0\n",
      "\n",
      "42000.0\n",
      "\n",
      "42000.0\n",
      "\n",
      "42000.0\n",
      "\n",
      "42000.0\n",
      "\n",
      "42000.0\n",
      "\n",
      "42000.0\n",
      "\n",
      "42000.0\n",
      "\n",
      "42000.0\n",
      "\n",
      "42000.0\n",
      "\n",
      "42000.0\n",
      "\n",
      "42000.0\n",
      "\n",
      "42000.0\n",
      "\n",
      "42000.0\n",
      "\n",
      "42000.0\n",
      "\n",
      "42000.0\n",
      "\n",
      "42000.0\n",
      "\n",
      "42000.0\n",
      "\n",
      "42000.0\n",
      "\n",
      "42000.0\n",
      "\n",
      "42000.0\n",
      "\n",
      "42000.0\n",
      "\n",
      "42000.0\n",
      "\n",
      "42000.0\n",
      "\n",
      "42000.0\n",
      "\n",
      "42000.0\n",
      "\n",
      "42000.0\n",
      "\n",
      "42000.0\n",
      "\n",
      "42000.0\n",
      "\n",
      "42000.0\n",
      "\n",
      "42000.0\n",
      "\n",
      "42000.0\n",
      "\n",
      "42000.0\n",
      "\n",
      "42000.0\n"
     ]
    }
   ],
   "source": [
    "for eachIteration in range(numOfIterations):\n",
    "    hvalue_old=sigoid(theta0_old+np.matmul(features,thetas_old))\n",
    "    thetas_new,theta0_new=calc_thetas(thetas_old,theta0_old,hvalue_old)\n",
    "    \n",
    "    hvalue_new=sigoid(theta0_new+np.matmul(features,thetas_new))\n",
    "\n",
    "    loss_old=calc_loss(thetas_old,theta0_old,hvalue_old)\n",
    "    loss_new=calc_loss(thetas_new,theta0_new,hvalue_new)\n",
    "    print()\n",
    "#     if abs(loss_old-loss_new)<epsilon:\n",
    "#         print(\"LOss is : \",loss_old)        \n",
    "#         break\n",
    "    print(loss_new)\n",
    "    thetas_old = thetas_new\n",
    "    theta0_old = theta0_new"
   ]
  },
  {
   "cell_type": "code",
   "execution_count": null,
   "metadata": {},
   "outputs": [],
   "source": []
  }
 ],
 "metadata": {
  "kernelspec": {
   "display_name": "Python 3",
   "language": "python",
   "name": "python3"
  },
  "language_info": {
   "codemirror_mode": {
    "name": "ipython",
    "version": 3
   },
   "file_extension": ".py",
   "mimetype": "text/x-python",
   "name": "python",
   "nbconvert_exporter": "python",
   "pygments_lexer": "ipython3",
   "version": "3.6.5"
  }
 },
 "nbformat": 4,
 "nbformat_minor": 2
}
