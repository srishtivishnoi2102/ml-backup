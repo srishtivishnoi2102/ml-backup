{
 "cells": [
  {
   "cell_type": "code",
   "execution_count": 1,
   "metadata": {},
   "outputs": [
    {
     "name": "stdout",
     "output_type": "stream",
     "text": [
      "(42000, 785)\n"
     ]
    }
   ],
   "source": [
    "import matplotlib.pyplot as plt\n",
    "import pandas as pd\n",
    "import numpy as np\n",
    "import random as r\n",
    "import scipy.stats as S\n",
    "rawdata = pd.read_csv(\"datasets/train.csv\")\n",
    "\n",
    "\n",
    "\n",
    "print(rawdata.shape)"
   ]
  },
  {
   "cell_type": "code",
   "execution_count": 5,
   "metadata": {},
   "outputs": [
    {
     "data": {
      "text/plain": [
       "<matplotlib.image.AxesImage at 0x237595a7278>"
      ]
     },
     "execution_count": 5,
     "metadata": {},
     "output_type": "execute_result"
    },
    {
     "data": {
      "image/png": "[encoded data removed]",
      "text/plain": [
       "<Figure size 432x288 with 1 Axes>"
      ]
     },
     "metadata": {},
     "output_type": "display_data"
    }
   ],
   "source": [
    "image=np.array(rawdata)[8,1:]\n",
    "print\n",
    "image=image.reshape(28,28)\n",
    "plt.imshow(image)"
   ]
  },
  {
   "cell_type": "code",
   "execution_count": 7,
   "metadata": {},
   "outputs": [],
   "source": [
    "from sklearn.preprocessing import StandardScaler\n",
    "standardscalar_x=StandardScaler()\n"
   ]
  },
  {
   "cell_type": "code",
   "execution_count": null,
   "metadata": {},
   "outputs": [],
   "source": [
    "rawdata.iloc[:,1:]=standardscalar_x.fit_transform(rawdata.iloc[:,1:])"
   ]
  },
  {
   "cell_type": "code",
   "execution_count": null,
   "metadata": {},
   "outputs": [],
   "source": [
    "image=np.array(rawdata)[8,1:]\n",
    "image=image.reshape(28,28)\n",
    "plt.imshow(image)"
   ]
  },
  {
   "cell_type": "code",
   "execution_count": 9,
   "metadata": {},
   "outputs": [],
   "source": [
    "digitwisedata=list(map(lambda digit:  rawdata[rawdata['label']==digit].iloc[:,1:]  , [0,1,2,3,4,5,6,7,8,9]  ))\n",
    "pcap_digitwise = list(map(lambda digit: digitwisedata[digit].shape[0] /rawdata.shape[0] ,[0,1,2,3,4,5,6,7,8,9] ))\n"
   ]
  },
  {
   "cell_type": "code",
   "execution_count": 10,
   "metadata": {},
   "outputs": [],
   "source": [
    "digitwisedataArray=list(map(lambda digit: np.array(digitwisedata[digit]),  [0,1,2,3,4,5,6,7,8,9]   ))"
   ]
  },
  {
   "cell_type": "markdown",
   "metadata": {},
   "source": [
    "#zeromeans=np.mean(digitwisedata[0],axis=0).reshape(1,785)\n",
    "#zeromeans.shape\n",
    "means= list(map(lambda  digit :  np.mean(digitwisedataArray[digit],axis=0).reshape(1,784)  ,  [0,1,2,3,4,5,6,7,8,9]  ))\n",
    "\n",
    "print(means[4].shape)\n",
    "print(digitwisedata[4].shape)"
   ]
  },
  {
   "cell_type": "markdown",
   "metadata": {},
   "source": [
    "#zero_mean_data0 = digitwisedata[0] - means[0]\n",
    "\n",
    "#zero_mean_data0.shape\n",
    "\n",
    "\n",
    "zero_mean_digitwise_dataArray= list(map(lambda digit: digitwisedataArray[digit] - means[digit] ,[0,1,2,3,4,5,6,7,8,9] ))\n",
    "zero_mean_digitwise_dataArray[4].shape"
   ]
  },
  {
   "cell_type": "markdown",
   "metadata": {},
   "source": [
    "image=zero_mean_digitwise_data[8][0,:].reshape(28,28)\n",
    "# reshaped in 28X28  bcoz  28*28 =784               `````````````\n",
    "#image=np.array((digitwisedata[0])[1,:])\n",
    "image=image.reshape(28,28)\n",
    "plt.imshow(image)"
   ]
  },
  {
   "cell_type": "code",
   "execution_count": 12,
   "metadata": {},
   "outputs": [
    {
     "data": {
      "text/plain": [
       "<matplotlib.image.AxesImage at 0x12a8f311e80>"
      ]
     },
     "execution_count": 12,
     "metadata": {},
     "output_type": "execute_result"
    },
    {
     "data": {
      "image/png": "[encoded data removed]",
      "text/plain": [
       "<matplotlib.figure.Figure at 0x12a8f6dd7f0>"
      ]
     },
     "metadata": {
      "needs_background": "light"
     },
     "output_type": "display_data"
    }
   ],
   "source": [
    "# appply dimensionality reduction \n",
    "\n",
    "image=digitwisedataArray[7][0,:].reshape(28,28)\n",
    "# reshaped in 28X28  bcoz  28*28 =784               `````````````\n",
    "#image=np.array((digitwisedata[0])[1,:])\n",
    "image=image.reshape(28,28)\n",
    "plt.imshow(image)\n",
    "\n"
   ]
  },
  {
   "cell_type": "markdown",
   "metadata": {},
   "source": [
    " #cov in  numpy has one more parameter whih ha defaut value as 1 due to which wrong result is obtainedzeroimagescov.shape\n"
   ]
  },
  {
   "cell_type": "code",
   "execution_count": 14,
   "metadata": {},
   "outputs": [],
   "source": [
    "covs=list(map(lambda digit:np.cov(digitwisedataArray[digit],rowvar=0),[0,1,2,3,4,5,6,7,8,9] ))"
   ]
  },
  {
   "cell_type": "code",
   "execution_count": 15,
   "metadata": {},
   "outputs": [
    {
     "data": {
      "text/plain": [
       "(784, 784)"
      ]
     },
     "execution_count": 15,
     "metadata": {},
     "output_type": "execute_result"
    }
   ],
   "source": [
    "covs[0].shape"
   ]
  },
  {
   "cell_type": "code",
   "execution_count": 16,
   "metadata": {},
   "outputs": [],
   "source": [
    "digitwise_factorisedMatrixes=list(map(lambda digit: np.linalg.svd(covs[digit]), [0,1,2,3,4,5,6,7,8,9] ))"
   ]
  },
  {
   "cell_type": "code",
   "execution_count": 17,
   "metadata": {},
   "outputs": [
    {
     "data": {
      "text/plain": [
       "(array([[0., 0., 0., ..., 0., 0., 0.],\n",
       "        [0., 0., 0., ..., 0., 0., 0.],\n",
       "        [0., 0., 0., ..., 0., 0., 0.],\n",
       "        ...,\n",
       "        [0., 0., 0., ..., 0., 0., 0.],\n",
       "        [0., 0., 0., ..., 0., 0., 0.],\n",
       "        [0., 0., 0., ..., 1., 0., 0.]]),\n",
       " array([9.37681433e+01, 6.44425739e+01, 3.10527300e+01, 2.55247635e+01,\n",
       "        2.27031468e+01, 2.03583173e+01, 1.79559975e+01, 1.66861957e+01,\n",
       "        1.35147291e+01, 1.23056988e+01, 1.14280638e+01, 1.07245974e+01,\n",
       "        1.01476478e+01, 8.92177232e+00, 7.87406170e+00, 7.57657947e+00,\n",
       "        7.00688180e+00, 6.94835323e+00, 6.51000949e+00, 6.11293590e+00,\n",
       "        5.47655088e+00, 5.01164114e+00, 4.82862251e+00, 4.70910401e+00,\n",
       "        4.45155141e+00, 4.26267547e+00, 4.21811693e+00, 3.80569505e+00,\n",
       "        3.71000350e+00, 3.49079220e+00, 3.35981852e+00, 3.13525543e+00,\n",
       "        3.04913808e+00, 2.75471089e+00, 2.71791629e+00, 2.54742876e+00,\n",
       "        2.49374201e+00, 2.38866869e+00, 2.25710829e+00, 2.23306594e+00,\n",
       "        2.16774393e+00, 1.99993176e+00, 1.93800280e+00, 1.90982796e+00,\n",
       "        1.81988439e+00, 1.73218984e+00, 1.71550462e+00, 1.67166547e+00,\n",
       "        1.62735572e+00, 1.54669245e+00, 1.53820945e+00, 1.47108007e+00,\n",
       "        1.42793842e+00, 1.39430634e+00, 1.33701275e+00, 1.29156017e+00,\n",
       "        1.23784760e+00, 1.21105390e+00, 1.18096729e+00, 1.16961894e+00,\n",
       "        1.08175986e+00, 1.06811934e+00, 1.05155394e+00, 1.03398717e+00,\n",
       "        1.01848077e+00, 9.93532989e-01, 9.71736034e-01, 9.29500169e-01,\n",
       "        9.19462128e-01, 8.87791881e-01, 8.75660027e-01, 8.45160915e-01,\n",
       "        8.19132026e-01, 8.13616032e-01, 7.99829408e-01, 7.96124596e-01,\n",
       "        7.76835862e-01, 7.55593320e-01, 7.41244780e-01, 7.21468422e-01,\n",
       "        7.10605534e-01, 7.07899840e-01, 6.92415916e-01, 6.75632490e-01,\n",
       "        6.63889089e-01, 6.56559611e-01, 6.51626981e-01, 6.42062415e-01,\n",
       "        6.34462082e-01, 6.14001296e-01, 5.88231667e-01, 5.84819158e-01,\n",
       "        5.78850552e-01, 5.76263678e-01, 5.67848718e-01, 5.63261647e-01,\n",
       "        5.38466787e-01, 5.26813527e-01, 5.22020509e-01, 5.03410466e-01,\n",
       "        4.90125226e-01, 4.89735168e-01, 4.77084450e-01, 4.75631690e-01,\n",
       "        4.67616992e-01, 4.62244808e-01, 4.55746441e-01, 4.52437249e-01,\n",
       "        4.46607997e-01, 4.37699684e-01, 4.29502413e-01, 4.20603651e-01,\n",
       "        4.14956046e-01, 4.05073854e-01, 4.02223153e-01, 4.00247860e-01,\n",
       "        3.96470923e-01, 3.88535730e-01, 3.85059805e-01, 3.76264196e-01,\n",
       "        3.75411446e-01, 3.64843606e-01, 3.62453988e-01, 3.58851200e-01,\n",
       "        3.49136833e-01, 3.44257724e-01, 3.36676076e-01, 3.33863581e-01,\n",
       "        3.30579571e-01, 3.27564176e-01, 3.18854158e-01, 3.16800961e-01,\n",
       "        3.11067493e-01, 3.07362893e-01, 3.05740982e-01, 2.99175294e-01,\n",
       "        2.95605835e-01, 2.94646732e-01, 2.89767529e-01, 2.84571256e-01,\n",
       "        2.83181884e-01, 2.77760991e-01, 2.75869331e-01, 2.74481021e-01,\n",
       "        2.70815653e-01, 2.67989112e-01, 2.61293502e-01, 2.58142813e-01,\n",
       "        2.55033348e-01, 2.52491942e-01, 2.46843181e-01, 2.44460500e-01,\n",
       "        2.39639776e-01, 2.36432893e-01, 2.34906188e-01, 2.33784551e-01,\n",
       "        2.31620548e-01, 2.30550415e-01, 2.25783703e-01, 2.25281595e-01,\n",
       "        2.22679418e-01, 2.16092669e-01, 2.15148656e-01, 2.11942942e-01,\n",
       "        2.09206750e-01, 2.08209739e-01, 2.05797603e-01, 2.04286365e-01,\n",
       "        2.00354261e-01, 2.00025596e-01, 1.97914562e-01, 1.96293934e-01,\n",
       "        1.93254991e-01, 1.91646117e-01, 1.90142410e-01, 1.86704185e-01,\n",
       "        1.84826803e-01, 1.83578386e-01, 1.81406304e-01, 1.78735788e-01,\n",
       "        1.77504745e-01, 1.76508812e-01, 1.74454819e-01, 1.71641176e-01,\n",
       "        1.70211910e-01, 1.68115293e-01, 1.67283930e-01, 1.66546637e-01,\n",
       "        1.63450791e-01, 1.61161564e-01, 1.59191866e-01, 1.57194480e-01,\n",
       "        1.55872459e-01, 1.52160844e-01, 1.50689505e-01, 1.49908589e-01,\n",
       "        1.49270499e-01, 1.47388676e-01, 1.45832846e-01, 1.45358013e-01,\n",
       "        1.43830019e-01, 1.41670488e-01, 1.41465267e-01, 1.39753252e-01,\n",
       "        1.37797577e-01, 1.37557825e-01, 1.36582559e-01, 1.35336504e-01,\n",
       "        1.34246629e-01, 1.31990681e-01, 1.30974277e-01, 1.29293437e-01,\n",
       "        1.28647252e-01, 1.26765419e-01, 1.26219719e-01, 1.24383122e-01,\n",
       "        1.23975708e-01, 1.22564707e-01, 1.21273707e-01, 1.19393180e-01,\n",
       "        1.18172527e-01, 1.17135290e-01, 1.15524411e-01, 1.15293135e-01,\n",
       "        1.14175765e-01, 1.12791946e-01, 1.11951426e-01, 1.11227784e-01,\n",
       "        1.09295593e-01, 1.08360279e-01, 1.06927201e-01, 1.06750758e-01,\n",
       "        1.05919042e-01, 1.04326906e-01, 1.02805711e-01, 1.02354753e-01,\n",
       "        1.01642132e-01, 1.01085878e-01, 9.98120833e-02, 9.90036598e-02,\n",
       "        9.82237674e-02, 9.73127790e-02, 9.55963759e-02, 9.49238576e-02,\n",
       "        9.47391339e-02, 9.31094222e-02, 9.17771372e-02, 9.15160447e-02,\n",
       "        9.04048378e-02, 9.00595934e-02, 8.99084466e-02, 8.90988028e-02,\n",
       "        8.84251386e-02, 8.77755088e-02, 8.72089465e-02, 8.64006450e-02,\n",
       "        8.57834229e-02, 8.48131339e-02, 8.41491916e-02, 8.36249647e-02,\n",
       "        8.29596906e-02, 8.18166158e-02, 8.10047182e-02, 8.04146205e-02,\n",
       "        7.99904867e-02, 7.98207822e-02, 7.94058954e-02, 7.86195541e-02,\n",
       "        7.74433509e-02, 7.66334434e-02, 7.62074438e-02, 7.58070598e-02,\n",
       "        7.55928457e-02, 7.48866285e-02, 7.47868248e-02, 7.34049824e-02,\n",
       "        7.33894104e-02, 7.28260400e-02, 7.16904351e-02, 7.14391412e-02,\n",
       "        7.08910430e-02, 7.03658998e-02, 6.97597980e-02, 6.88626829e-02,\n",
       "        6.82993000e-02, 6.77923688e-02, 6.72823756e-02, 6.66579169e-02,\n",
       "        6.61981050e-02, 6.60749345e-02, 6.55850412e-02, 6.47514908e-02,\n",
       "        6.44450966e-02, 6.35060572e-02, 6.34456329e-02, 6.25811689e-02,\n",
       "        6.24554977e-02, 6.18707502e-02, 6.13210102e-02, 6.06302644e-02,\n",
       "        6.04745616e-02, 5.97907291e-02, 5.94384541e-02, 5.91311417e-02,\n",
       "        5.86141900e-02, 5.83916326e-02, 5.79625601e-02, 5.76164631e-02,\n",
       "        5.73623123e-02, 5.70920881e-02, 5.65690510e-02, 5.60898515e-02,\n",
       "        5.57921228e-02, 5.54949914e-02, 5.48268152e-02, 5.46684244e-02,\n",
       "        5.40871645e-02, 5.36524006e-02, 5.33361915e-02, 5.26386472e-02,\n",
       "        5.22868559e-02, 5.18691376e-02, 5.15430931e-02, 5.15235872e-02,\n",
       "        5.10694138e-02, 5.07805898e-02, 5.05566258e-02, 5.02372709e-02,\n",
       "        4.96545438e-02, 4.95261227e-02, 4.92044699e-02, 4.89122925e-02,\n",
       "        4.85348444e-02, 4.80786343e-02, 4.79180689e-02, 4.77363486e-02,\n",
       "        4.74068000e-02, 4.67858000e-02, 4.64709163e-02, 4.63554857e-02,\n",
       "        4.59495558e-02, 4.55111230e-02, 4.52505937e-02, 4.47677475e-02,\n",
       "        4.44407794e-02, 4.41376005e-02, 4.38270054e-02, 4.35567073e-02,\n",
       "        4.33110907e-02, 4.29843504e-02, 4.25623769e-02, 4.23935362e-02,\n",
       "        4.17533858e-02, 4.16810805e-02, 4.15974565e-02, 4.11612482e-02,\n",
       "        4.07436839e-02, 4.05355414e-02, 4.01562773e-02, 3.99615102e-02,\n",
       "        3.97832650e-02, 3.93095166e-02, 3.89756954e-02, 3.84314711e-02,\n",
       "        3.83933957e-02, 3.80024128e-02, 3.79048841e-02, 3.73892332e-02,\n",
       "        3.71057760e-02, 3.69593848e-02, 3.68815127e-02, 3.64283562e-02,\n",
       "        3.60924141e-02, 3.59536186e-02, 3.57644718e-02, 3.55494039e-02,\n",
       "        3.54686625e-02, 3.49713818e-02, 3.48491959e-02, 3.46737230e-02,\n",
       "        3.42837932e-02, 3.39518887e-02, 3.37899947e-02, 3.35758366e-02,\n",
       "        3.32239161e-02, 3.30873281e-02, 3.26922914e-02, 3.25279718e-02,\n",
       "        3.22707452e-02, 3.21805366e-02, 3.17959775e-02, 3.16585857e-02,\n",
       "        3.14613304e-02, 3.11083991e-02, 3.08265605e-02, 3.06175965e-02,\n",
       "        3.04242860e-02, 2.99641986e-02, 2.96049211e-02, 2.92076361e-02,\n",
       "        2.90012208e-02, 2.88315258e-02, 2.85360301e-02, 2.83792148e-02,\n",
       "        2.83323621e-02, 2.81039343e-02, 2.78575443e-02, 2.76274624e-02,\n",
       "        2.74090107e-02, 2.72575761e-02, 2.69689884e-02, 2.66163350e-02,\n",
       "        2.64619243e-02, 2.63126502e-02, 2.61850492e-02, 2.60235181e-02,\n",
       "        2.58737255e-02, 2.56569803e-02, 2.55009818e-02, 2.51357937e-02,\n",
       "        2.50789932e-02, 2.48341288e-02, 2.44879448e-02, 2.43984641e-02,\n",
       "        2.39132278e-02, 2.37427091e-02, 2.33152038e-02, 2.29139805e-02,\n",
       "        2.28175369e-02, 2.24846820e-02, 2.23846712e-02, 2.19599550e-02,\n",
       "        2.17448075e-02, 2.15341382e-02, 2.13596626e-02, 2.12395091e-02,\n",
       "        2.09617998e-02, 2.08162363e-02, 2.07333799e-02, 2.04298268e-02,\n",
       "        2.02309218e-02, 1.99127819e-02, 1.98496016e-02, 1.95702111e-02,\n",
       "        1.92083178e-02, 1.89878869e-02, 1.87884074e-02, 1.85825481e-02,\n",
       "        1.83231945e-02, 1.82197832e-02, 1.78203988e-02, 1.75514060e-02,\n",
       "        1.72797821e-02, 1.71471586e-02, 1.69265801e-02, 1.67889651e-02,\n",
       "        1.65857416e-02, 1.61901925e-02, 1.59504845e-02, 1.57660243e-02,\n",
       "        1.55665279e-02, 1.53242230e-02, 1.50422718e-02, 1.49734153e-02,\n",
       "        1.45485045e-02, 1.44752312e-02, 1.42636556e-02, 1.39980898e-02,\n",
       "        1.38863722e-02, 1.36611658e-02, 1.33709409e-02, 1.30388731e-02,\n",
       "        1.29045856e-02, 1.27707952e-02, 1.26146715e-02, 1.24263919e-02,\n",
       "        1.23181825e-02, 1.22479768e-02, 1.15925257e-02, 1.15088393e-02,\n",
       "        1.12541861e-02, 1.04414795e-02, 1.00976501e-02, 9.99471758e-03,\n",
       "        9.91661359e-03, 9.67490944e-03, 9.16446293e-03, 9.05297947e-03,\n",
       "        8.96357880e-03, 8.66464208e-03, 8.31876409e-03, 8.03720859e-03,\n",
       "        7.83113015e-03, 7.33431334e-03, 6.99242602e-03, 6.82278279e-03,\n",
       "        6.48416315e-03, 5.89400158e-03, 5.74494044e-03, 5.67642737e-03,\n",
       "        5.39401075e-03, 5.22922339e-03, 4.71531328e-03, 4.55065419e-03,\n",
       "        4.45929633e-03, 3.83118316e-03, 3.50305768e-03, 3.36786516e-03,\n",
       "        3.22757538e-03, 3.17258286e-03, 3.07297897e-03, 2.03563428e-03,\n",
       "        1.84694575e-03, 1.52201743e-03, 1.41282033e-03, 1.12679400e-03,\n",
       "        6.92517875e-04, 4.94712117e-04, 1.77807224e-04, 1.49675480e-04,\n",
       "        1.26737609e-04, 1.11001331e-04, 5.14689937e-06, 2.74662947e-06,\n",
       "        2.44830720e-07, 8.39320490e-08, 4.99094005e-14, 4.59642173e-14,\n",
       "        2.62543040e-14, 1.72413905e-14, 1.50804910e-14, 7.23462825e-15,\n",
       "        6.33970505e-15, 6.33970505e-15, 6.33970505e-15, 6.33970505e-15,\n",
       "        6.33970505e-15, 6.33970505e-15, 6.33970505e-15, 6.33970505e-15,\n",
       "        6.33970505e-15, 6.33970505e-15, 6.33970505e-15, 6.33970505e-15,\n",
       "        6.33970505e-15, 6.33970505e-15, 6.33970505e-15, 6.33970505e-15,\n",
       "        6.33970505e-15, 6.33970505e-15, 6.33970505e-15, 6.33970505e-15,\n",
       "        6.33970505e-15, 6.33970505e-15, 6.33970505e-15, 6.33970505e-15,\n",
       "        6.33970505e-15, 6.33970505e-15, 6.33970505e-15, 6.33970505e-15,\n",
       "        6.33970505e-15, 6.33970505e-15, 6.33970505e-15, 6.33970505e-15,\n",
       "        6.33970505e-15, 6.33970505e-15, 6.33970505e-15, 6.33970505e-15,\n",
       "        6.33970505e-15, 6.33970505e-15, 6.33970505e-15, 6.33970505e-15,\n",
       "        6.33970505e-15, 6.33970505e-15, 6.33970505e-15, 6.33970505e-15,\n",
       "        6.33970505e-15, 6.33970505e-15, 6.33970505e-15, 6.33970505e-15,\n",
       "        6.33970505e-15, 6.33970505e-15, 6.33970505e-15, 6.33970505e-15,\n",
       "        6.33970505e-15, 6.33970505e-15, 6.33970505e-15, 6.33970505e-15,\n",
       "        6.33970505e-15, 6.33970505e-15, 6.33970505e-15, 6.33970505e-15,\n",
       "        6.33970505e-15, 6.33970505e-15, 6.33970505e-15, 6.33970505e-15,\n",
       "        6.33970505e-15, 6.33970505e-15, 6.33970505e-15, 6.33970505e-15,\n",
       "        6.33970505e-15, 6.33970505e-15, 6.33970505e-15, 6.33970505e-15,\n",
       "        6.33970505e-15, 6.33970505e-15, 6.33970505e-15, 6.33970505e-15,\n",
       "        6.33970505e-15, 6.33970505e-15, 6.33970505e-15, 6.33970505e-15,\n",
       "        6.33970505e-15, 6.33970505e-15, 6.33970505e-15, 6.33970505e-15,\n",
       "        6.33970505e-15, 6.33970505e-15, 6.33970505e-15, 6.33970505e-15,\n",
       "        6.33970505e-15, 6.33970505e-15, 6.33970505e-15, 6.33970505e-15,\n",
       "        6.33970505e-15, 6.33970505e-15, 6.33970505e-15, 6.33970505e-15,\n",
       "        6.33970505e-15, 6.33970505e-15, 6.33970505e-15, 6.33970505e-15,\n",
       "        6.33970505e-15, 6.33970505e-15, 6.33970505e-15, 6.33970505e-15,\n",
       "        6.33970505e-15, 6.33970505e-15, 6.33970505e-15, 6.33970505e-15,\n",
       "        6.33970505e-15, 6.33970505e-15, 6.33970505e-15, 6.33970505e-15,\n",
       "        6.33970505e-15, 6.33970505e-15, 6.33970505e-15, 6.33970505e-15,\n",
       "        6.33970505e-15, 6.33970505e-15, 6.33970505e-15, 6.33970505e-15,\n",
       "        6.33970505e-15, 6.33970505e-15, 6.33970505e-15, 6.33970505e-15,\n",
       "        6.33970505e-15, 6.33970505e-15, 6.33970505e-15, 6.33970505e-15,\n",
       "        6.33970505e-15, 6.33970505e-15, 6.33970505e-15, 6.33970505e-15,\n",
       "        6.33970505e-15, 6.33970505e-15, 6.33970505e-15, 6.33970505e-15,\n",
       "        6.33970505e-15, 6.33970505e-15, 6.33970505e-15, 6.33970505e-15,\n",
       "        6.33970505e-15, 6.33970505e-15, 6.33970505e-15, 6.33970505e-15,\n",
       "        6.33970505e-15, 6.33970505e-15, 6.33970505e-15, 6.33970505e-15,\n",
       "        6.33970505e-15, 6.33970505e-15, 6.33970505e-15, 6.33970505e-15,\n",
       "        6.33970505e-15, 6.33970505e-15, 6.33970505e-15, 6.33970505e-15,\n",
       "        6.33970505e-15, 6.33970505e-15, 6.33970505e-15, 6.33970505e-15,\n",
       "        6.33970505e-15, 6.33970505e-15, 6.33970505e-15, 6.33970505e-15,\n",
       "        6.33970505e-15, 6.33970505e-15, 6.33970505e-15, 6.33970505e-15,\n",
       "        6.33970505e-15, 6.33970505e-15, 6.33970505e-15, 6.33970505e-15,\n",
       "        6.33970505e-15, 6.33970505e-15, 6.33970505e-15, 6.33970505e-15,\n",
       "        6.33970505e-15, 6.33970505e-15, 6.33970505e-15, 6.33970505e-15,\n",
       "        6.33970505e-15, 6.33970505e-15, 6.33970505e-15, 6.33970505e-15,\n",
       "        6.33970505e-15, 6.33970505e-15, 6.33970505e-15, 6.33970505e-15,\n",
       "        6.33970505e-15, 6.33970505e-15, 6.33970505e-15, 6.33970505e-15,\n",
       "        6.33970505e-15, 6.33970505e-15, 6.33970505e-15, 6.33970505e-15,\n",
       "        6.33970505e-15, 6.33970505e-15, 6.33970505e-15, 6.33970505e-15,\n",
       "        6.33970505e-15, 6.33970505e-15, 6.33970505e-15, 6.33970505e-15,\n",
       "        6.33970505e-15, 6.33970505e-15, 6.33970505e-15, 6.33970505e-15,\n",
       "        6.33970505e-15, 6.33970505e-15, 6.33970505e-15, 6.33970505e-15,\n",
       "        6.33970505e-15, 6.33970505e-15, 6.33970505e-15, 6.33970505e-15,\n",
       "        6.33970505e-15, 6.33970505e-15, 6.33970505e-15, 6.33970505e-15,\n",
       "        6.33970505e-15, 6.33970505e-15, 6.33970505e-15, 6.33970505e-15,\n",
       "        6.33970505e-15, 6.33970505e-15, 6.33970505e-15, 6.33970505e-15,\n",
       "        6.33970505e-15, 6.33970505e-15, 6.33970505e-15, 6.33970505e-15,\n",
       "        6.33970505e-15, 6.33970505e-15, 6.33970505e-15, 6.33970505e-15,\n",
       "        6.33970505e-15, 6.33970505e-15, 6.33970505e-15, 6.33970505e-15,\n",
       "        6.33970505e-15, 6.33970505e-15, 6.33970505e-15, 6.33970505e-15,\n",
       "        6.33970505e-15, 6.33970505e-15, 6.33970505e-15, 6.33970505e-15,\n",
       "        6.33970505e-15, 6.33970505e-15, 3.57717088e-15, 1.86635929e-15]),\n",
       " array([[0., 0., 0., ..., 0., 0., 0.],\n",
       "        [0., 0., 0., ..., 0., 0., 0.],\n",
       "        [0., 0., 0., ..., 0., 0., 0.],\n",
       "        ...,\n",
       "        [0., 0., 0., ..., 0., 0., 1.],\n",
       "        [0., 0., 0., ..., 0., 0., 0.],\n",
       "        [0., 0., 0., ..., 0., 0., 0.]]))"
      ]
     },
     "execution_count": 17,
     "metadata": {},
     "output_type": "execute_result"
    }
   ],
   "source": [
    "digitwise_factorisedMatrixes[0]"
   ]
  },
  {
   "cell_type": "code",
   "execution_count": 21,
   "metadata": {},
   "outputs": [],
   "source": [
    "#indexes[0]= np.argmax(digitwise_factorisedMatrixes[0][0],axis=1)"
   ]
  },
  {
   "cell_type": "code",
   "execution_count": 18,
   "metadata": {},
   "outputs": [],
   "source": [
    "indexes=list(map(lambda digit:  np.argmax(digitwise_factorisedMatrixes[digit][0],axis=1), [0,1,2,3,4,5,6,7,8,9]))"
   ]
  },
  {
   "cell_type": "code",
   "execution_count": 19,
   "metadata": {},
   "outputs": [],
   "source": [
    "totalVariances=list(map(lambda digit: np.sum(digitwise_factorisedMatrixes[digit][1]) , [0,1,2,3,4,5,6,7,8,9]))\n",
    "preservedVariances=list(map(lambda digit: .95 * totalVariances[digit], [0,1,2,3,4,5,6,7,8,9] ))"
   ]
  },
  {
   "cell_type": "code",
   "execution_count": 20,
   "metadata": {},
   "outputs": [
    {
     "data": {
      "text/plain": [
       "[576.9993631788902,\n",
       " 213.64056162691145,\n",
       " 988.369875943917,\n",
       " 685.0080560227874,\n",
       " 429.23664327245183,\n",
       " 633.7145580434305,\n",
       " 880.4294285160609,\n",
       " 898.0902785671525,\n",
       " 452.42340010276115,\n",
       " 516.8517461550219]"
      ]
     },
     "execution_count": 20,
     "metadata": {},
     "output_type": "execute_result"
    }
   ],
   "source": [
    "totalVariances"
   ]
  },
  {
   "cell_type": "code",
   "execution_count": 21,
   "metadata": {},
   "outputs": [],
   "source": [
    "digitwise_eigenpairs=list(map(lambda digit:dict(zip(digitwise_factorisedMatrixes[digit][1], indexes[digit])), [0,1,2,3,4,5,6,7,8,9] ))\n"
   ]
  },
  {
   "cell_type": "code",
   "execution_count": 22,
   "metadata": {},
   "outputs": [],
   "source": [
    "def PCA(digit): \n",
    "    \n",
    "    varsum=0\n",
    "    k=0\n",
    "    for key in digitwise_eigenpairs[digit]:\n",
    "    \n",
    "        varsum+=key\n",
    "        if varsum>=preservedVariances[digit]:\n",
    "            print(digitwise_eigenpairs[digit][key])\n",
    "            k=np.where(indexes[digit]==digitwise_eigenpairs[digit][key])\n",
    "            return k[0][0]\n",
    "    \n",
    "\n",
    "        \n",
    "        \n",
    "        "
   ]
  },
  {
   "cell_type": "code",
   "execution_count": 23,
   "metadata": {},
   "outputs": [
    {
     "data": {
      "text/plain": [
       "548.1493950199457"
      ]
     },
     "execution_count": 23,
     "metadata": {},
     "output_type": "execute_result"
    }
   ],
   "source": []
  },
  {
   "cell_type": "code",
   "execution_count": 36,
   "metadata": {},
   "outputs": [
    {
     "name": "stdout",
     "output_type": "stream",
     "text": [
      "349\n",
      "136\n"
     ]
    }
   ],
   "source": [
    "x=PCA(0)\n",
    "print(x)\n"
   ]
  },
  {
   "cell_type": "code",
   "execution_count": 39,
   "metadata": {},
   "outputs": [
    {
     "name": "stdout",
     "output_type": "stream",
     "text": [
      "539\n",
      "538\n",
      "537\n",
      "536\n",
      "535\n",
      "534\n",
      "533\n",
      "532\n",
      "543\n",
      "542\n",
      "541\n",
      "540\n",
      "576\n",
      "545\n",
      "526\n",
      "531\n",
      "529\n",
      "528\n",
      "545\n",
      "782\n",
      "559\n",
      "531\n",
      "556\n",
      "548\n",
      "550\n",
      "559\n",
      "548\n",
      "554\n",
      "560\n",
      "526\n",
      "549\n",
      "565\n",
      "581\n",
      "558\n",
      "547\n",
      "581\n",
      "571\n",
      "573\n",
      "562\n",
      "599\n",
      "568\n",
      "550\n",
      "564\n",
      "587\n",
      "86\n",
      "607\n",
      "566\n",
      "572\n",
      "577\n",
      "593\n",
      "625\n",
      "573\n",
      "591\n",
      "595\n",
      "576\n",
      "577\n",
      "591\n",
      "589\n",
      "588\n",
      "527\n",
      "562\n",
      "586\n",
      "184\n",
      "115\n",
      "617\n",
      "576\n",
      "584\n",
      "613\n",
      "602\n",
      "453\n",
      "552\n",
      "589\n",
      "595\n",
      "594\n",
      "583\n",
      "608\n",
      "619\n",
      "585\n",
      "597\n",
      "594\n",
      "603\n",
      "592\n",
      "564\n",
      "621\n",
      "614\n",
      "604\n",
      "610\n",
      "782\n",
      "29\n",
      "782\n",
      "530\n",
      "599\n",
      "443\n",
      "400\n",
      "446\n",
      "481\n",
      "96\n",
      "481\n",
      "149\n",
      "446\n",
      "459\n",
      "392\n",
      "129\n",
      "91\n",
      "446\n",
      "93\n",
      "93\n",
      "93\n",
      "461\n",
      "57\n",
      "601\n",
      "614\n",
      "613\n",
      "610\n",
      "620\n",
      "178\n",
      "113\n",
      "228\n",
      "129\n",
      "129\n",
      "464\n",
      "81\n",
      "126\n",
      "376\n",
      "200\n",
      "35\n",
      "35\n",
      "264\n",
      "80\n",
      "8\n",
      "264\n",
      "27\n",
      "27\n",
      "95\n",
      "40\n",
      "419\n",
      "349\n"
     ]
    }
   ],
   "source": [
    "df=pd.DataFrame()\n",
    "for i in range(x+1):\n",
    "    print(indexes[0][i])\n",
    "    df[indexes[0][i]]= digitwisedataArray[0][i]"
   ]
  },
  {
   "cell_type": "code",
   "execution_count": 40,
   "metadata": {},
   "outputs": [
    {
     "data": {
      "text/plain": [
       "(784, 104)"
      ]
     },
     "execution_count": 40,
     "metadata": {},
     "output_type": "execute_result"
    }
   ],
   "source": [
    "df.shape"
   ]
  },
  {
   "cell_type": "code",
   "execution_count": 29,
   "metadata": {},
   "outputs": [
    {
     "data": {
      "text/plain": [
       "array([539, 538, 537, 536, 535, 534, 533, 532, 543, 542, 541, 540, 576,\n",
       "       545, 526, 531, 529, 528, 545, 782, 559, 531, 556, 548, 550, 559,\n",
       "       548, 554, 560, 526, 549, 565, 581, 558, 547, 581, 571, 573, 562,\n",
       "       599, 568, 550, 564, 587,  86, 607, 566, 572, 577, 593, 625, 573,\n",
       "       591, 595, 576, 577, 591, 589, 588, 527, 562, 586, 184, 115, 617,\n",
       "       576, 584, 613, 602, 453, 552, 589, 595, 594, 583, 608, 619, 585,\n",
       "       597, 594, 603, 592, 564, 621, 614, 604, 610, 782,  29, 782, 530,\n",
       "       599, 443, 400, 446, 481,  96, 481, 149, 446, 459, 392, 129,  91,\n",
       "       446,  93,  93,  93, 461,  57, 601, 614, 613, 610, 620, 178, 113,\n",
       "       228, 129, 129, 464,  81, 126, 376, 200,  35,  35, 264,  80,   8,\n",
       "       264,  27,  27,  95,  40, 419, 349, 517, 615, 638, 635, 606, 670,\n",
       "       115, 470, 441, 475, 456, 475, 408,  41, 182, 333, 249, 375, 203,\n",
       "       121,   8,   8, 153,  19,  19,  40, 279, 480, 504, 638, 658, 628,\n",
       "       629, 644, 644, 491, 495, 491, 464, 391, 354,  60, 192, 257, 292,\n",
       "       413, 192, 389, 342, 389, 337, 198, 250, 303, 349, 478, 502, 439,\n",
       "        36, 633, 636, 620, 647, 495, 499, 484, 457, 418, 420, 350, 305,\n",
       "       395, 258, 346, 329, 356, 215, 374, 377, 280, 113, 208, 291, 357,\n",
       "       269, 675,  36,  11, 653, 487, 647, 505, 492, 477, 333, 196, 229,\n",
       "       288, 297, 190, 283, 271, 236, 300, 121, 248, 258, 248, 306, 180,\n",
       "       250, 236, 501, 652, 658, 646, 668, 635, 655, 506, 485, 274, 420,\n",
       "       418, 344, 371, 313, 352, 287, 300, 347,  46,  87, 117, 264, 230,\n",
       "       211, 112, 245,  67, 498, 663, 632, 640, 621, 306, 646, 477, 423,\n",
       "       361, 383, 366, 323, 296, 409, 214, 223, 219, 235, 279, 429, 224,\n",
       "       156, 398, 373,  69, 208,  38, 501, 651, 641, 649, 649, 657, 490,\n",
       "       499, 123, 357, 214, 284, 365, 434, 368, 292, 337, 196, 391, 299,\n",
       "       366, 429, 368, 300, 243, 330,   0,   2,  72, 515, 648, 660, 660,\n",
       "       511, 524,  64, 191, 161, 298, 426, 436, 228, 145, 286, 325, 445,\n",
       "       443, 473, 482, 445, 431, 419, 407,  11,   0,   2, 147, 515, 663,\n",
       "       675, 103, 172,  73, 254,   3, 117, 301, 402, 437, 228, 398, 334,\n",
       "       391, 465, 489, 494, 486, 466, 446, 409,  92, 288,   0,   2,  78,\n",
       "       611, 662, 668, 660, 671, 524,  10,   3,   0, 342, 426, 436, 218,\n",
       "       254, 472, 496, 494, 507, 503, 473, 459, 431, 199,  92, 282,   0,\n",
       "         2, 295, 663, 670, 659, 657, 669, 496,   3, 191, 169, 421, 414,\n",
       "       297, 444, 452, 482, 501, 504, 501, 489, 474, 434, 446, 374,  84,\n",
       "       367, 263,   2,  45, 661, 685, 682,  17, 672, 513,   3, 263, 411,\n",
       "       419, 422, 122, 449, 472, 489, 476, 510, 493, 461, 444, 444,  34,\n",
       "       369, 383, 201,  34, 222,  45, 651, 617, 678, 666, 673, 500,   3,\n",
       "       131, 406, 438, 126,  99, 444, 468, 494, 504, 485, 476, 363, 338,\n",
       "       407, 360, 333, 332,  14, 205, 106, 463, 681,  45, 658, 681, 673,\n",
       "       513,   3,  92, 411, 188, 175, 157,  71, 128, 482, 469, 465, 458,\n",
       "       429, 416, 394,  15, 360,  14, 198, 285, 321, 503, 675, 685, 694,\n",
       "       686, 681, 415,  25, 231,  75, 390, 164, 100, 196, 167, 463, 458,\n",
       "       444, 437, 332, 296, 361, 382, 314, 268, 181, 171, 417, 502, 700,\n",
       "       692, 689, 694, 689, 476, 286,   1, 205, 359, 395, 242, 296,   4,\n",
       "       366, 439, 450, 441, 414, 334, 310, 388, 272, 307, 273, 281, 193,\n",
       "       519, 515, 693, 694, 692, 708, 479, 236, 240, 252, 275, 201, 177,\n",
       "       437, 436, 460, 454, 460, 361, 355, 384, 383, 351, 356, 321, 341,\n",
       "       321, 502, 613,  20,   5, 699, 696, 700, 273, 302, 199, 217, 295,\n",
       "       326, 377, 141, 426, 458, 454, 426, 440, 424, 363, 189, 408, 400,\n",
       "       417, 468, 509, 478, 387,  20,   5, 701, 705, 700, 488, 332, 280,\n",
       "       281,  66, 281, 417, 388, 225,  37, 422, 443, 423, 442, 420, 158,\n",
       "       456, 452, 492, 512, 507, 525,  86, 711, 703, 721, 702, 708, 705,\n",
       "       467, 459, 217,  97, 412, 452, 474, 463, 474, 471, 460, 471, 477,\n",
       "       474, 492, 505, 503, 505, 509, 523, 137, 525, 725, 726, 721, 732,\n",
       "       715, 737, 714, 712, 522, 339, 516, 521, 518, 514, 516, 514, 521,\n",
       "       483, 508, 520, 522, 712, 743, 714, 728, 710, 736, 747, 742, 747,\n",
       "       745, 750, 747, 757, 751, 728, 729, 734, 719, 755, 731, 720, 720,\n",
       "       722, 754, 718, 757, 718, 735, 759, 738, 727, 742, 757, 739, 770,\n",
       "       762, 761, 768, 766, 765, 763, 772, 769, 769, 765, 769, 768, 731,\n",
       "       741, 776, 776, 730, 776, 740, 749, 752, 755, 741, 757, 777, 741,\n",
       "       778, 779, 780, 781], dtype=int64)"
      ]
     },
     "execution_count": 29,
     "metadata": {},
     "output_type": "execute_result"
    }
   ],
   "source": [
    "indexes[0]"
   ]
  },
  {
   "cell_type": "markdown",
   "metadata": {},
   "source": [
    "#principal component analysis, i.e., PCA is a technique used for DIMENSIONALITY REDUCTION\n",
    "\n",
    "DIMENSIONALITY REDUCTION is a LOSSY data compression\n",
    "\n",
    "SVD = decomposition of covariance matrix, cov using Singular Value Decomposition\n",
    "using SVD , cov = Q * eigenVAlueMatrix * transposeOf(Q)\n",
    "\n",
    "Algo for PCA:\n",
    "\n",
    "    1. iterarte over all eigen values\n",
    "    2. calculate sum of all eigen values and then divide all eigen values by sum\n",
    "    3. if ( loop over sum ) / total actual variance sum <=  (required variance to be achieved, eg., .98): continue\n",
    "     4. else: break;\n",
    "     5.drop rest of the columns\n",
    "     6. apply naive bayse\n",
    "            "
   ]
  },
  {
   "cell_type": "code",
   "execution_count": 25,
   "metadata": {},
   "outputs": [],
   "source": [
    "d=pd.DataFrame()"
   ]
  },
  {
   "cell_type": "code",
   "execution_count": 26,
   "metadata": {},
   "outputs": [
    {
     "data": {
      "text/html": [
       "<div>\n",
       "<style scoped>\n",
       "    .dataframe tbody tr th:only-of-type {\n",
       "        vertical-align: middle;\n",
       "    }\n",
       "\n",
       "    .dataframe tbody tr th {\n",
       "        vertical-align: top;\n",
       "    }\n",
       "\n",
       "    .dataframe thead th {\n",
       "        text-align: right;\n",
       "    }\n",
       "</style>\n",
       "<table border=\"1\" class=\"dataframe\">\n",
       "  <thead>\n",
       "    <tr style=\"text-align: right;\">\n",
       "      <th></th>\n",
       "    </tr>\n",
       "  </thead>\n",
       "  <tbody>\n",
       "  </tbody>\n",
       "</table>\n",
       "</div>"
      ],
      "text/plain": [
       "Empty DataFrame\n",
       "Columns: []\n",
       "Index: []"
      ]
     },
     "execution_count": 26,
     "metadata": {},
     "output_type": "execute_result"
    }
   ],
   "source": [
    "d"
   ]
  },
  {
   "cell_type": "code",
   "execution_count": 27,
   "metadata": {},
   "outputs": [],
   "source": [
    "d['fgn']=[1,2,5,78,7]"
   ]
  },
  {
   "cell_type": "code",
   "execution_count": 28,
   "metadata": {},
   "outputs": [
    {
     "data": {
      "text/html": [
       "<div>\n",
       "<style scoped>\n",
       "    .dataframe tbody tr th:only-of-type {\n",
       "        vertical-align: middle;\n",
       "    }\n",
       "\n",
       "    .dataframe tbody tr th {\n",
       "        vertical-align: top;\n",
       "    }\n",
       "\n",
       "    .dataframe thead th {\n",
       "        text-align: right;\n",
       "    }\n",
       "</style>\n",
       "<table border=\"1\" class=\"dataframe\">\n",
       "  <thead>\n",
       "    <tr style=\"text-align: right;\">\n",
       "      <th></th>\n",
       "      <th>fgn</th>\n",
       "    </tr>\n",
       "  </thead>\n",
       "  <tbody>\n",
       "    <tr>\n",
       "      <th>0</th>\n",
       "      <td>1</td>\n",
       "    </tr>\n",
       "    <tr>\n",
       "      <th>1</th>\n",
       "      <td>2</td>\n",
       "    </tr>\n",
       "    <tr>\n",
       "      <th>2</th>\n",
       "      <td>5</td>\n",
       "    </tr>\n",
       "    <tr>\n",
       "      <th>3</th>\n",
       "      <td>78</td>\n",
       "    </tr>\n",
       "    <tr>\n",
       "      <th>4</th>\n",
       "      <td>7</td>\n",
       "    </tr>\n",
       "  </tbody>\n",
       "</table>\n",
       "</div>"
      ],
      "text/plain": [
       "   fgn\n",
       "0    1\n",
       "1    2\n",
       "2    5\n",
       "3   78\n",
       "4    7"
      ]
     },
     "execution_count": 28,
     "metadata": {},
     "output_type": "execute_result"
    }
   ],
   "source": [
    "d"
   ]
  },
  {
   "cell_type": "code",
   "execution_count": 2,
   "metadata": {},
   "outputs": [],
   "source": [
    "data = pd.read_csv(\"datasets/test.csv\")\n"
   ]
  },
  {
   "cell_type": "code",
   "execution_count": 4,
   "metadata": {},
   "outputs": [
    {
     "data": {
      "text/html": [
       "<div>\n",
       "<style scoped>\n",
       "    .dataframe tbody tr th:only-of-type {\n",
       "        vertical-align: middle;\n",
       "    }\n",
       "\n",
       "    .dataframe tbody tr th {\n",
       "        vertical-align: top;\n",
       "    }\n",
       "\n",
       "    .dataframe thead th {\n",
       "        text-align: right;\n",
       "    }\n",
       "</style>\n",
       "<table border=\"1\" class=\"dataframe\">\n",
       "  <thead>\n",
       "    <tr style=\"text-align: right;\">\n",
       "      <th></th>\n",
       "      <th>pixel0</th>\n",
       "      <th>pixel1</th>\n",
       "      <th>pixel2</th>\n",
       "      <th>pixel3</th>\n",
       "      <th>pixel4</th>\n",
       "      <th>pixel5</th>\n",
       "      <th>pixel6</th>\n",
       "      <th>pixel7</th>\n",
       "      <th>pixel8</th>\n",
       "      <th>pixel9</th>\n",
       "      <th>...</th>\n",
       "      <th>pixel774</th>\n",
       "      <th>pixel775</th>\n",
       "      <th>pixel776</th>\n",
       "      <th>pixel777</th>\n",
       "      <th>pixel778</th>\n",
       "      <th>pixel779</th>\n",
       "      <th>pixel780</th>\n",
       "      <th>pixel781</th>\n",
       "      <th>pixel782</th>\n",
       "      <th>pixel783</th>\n",
       "    </tr>\n",
       "  </thead>\n",
       "  <tbody>\n",
       "    <tr>\n",
       "      <th>0</th>\n",
       "      <td>0</td>\n",
       "      <td>0</td>\n",
       "      <td>0</td>\n",
       "      <td>0</td>\n",
       "      <td>0</td>\n",
       "      <td>0</td>\n",
       "      <td>0</td>\n",
       "      <td>0</td>\n",
       "      <td>0</td>\n",
       "      <td>0</td>\n",
       "      <td>...</td>\n",
       "      <td>0</td>\n",
       "      <td>0</td>\n",
       "      <td>0</td>\n",
       "      <td>0</td>\n",
       "      <td>0</td>\n",
       "      <td>0</td>\n",
       "      <td>0</td>\n",
       "      <td>0</td>\n",
       "      <td>0</td>\n",
       "      <td>0</td>\n",
       "    </tr>\n",
       "    <tr>\n",
       "      <th>1</th>\n",
       "      <td>0</td>\n",
       "      <td>0</td>\n",
       "      <td>0</td>\n",
       "      <td>0</td>\n",
       "      <td>0</td>\n",
       "      <td>0</td>\n",
       "      <td>0</td>\n",
       "      <td>0</td>\n",
       "      <td>0</td>\n",
       "      <td>0</td>\n",
       "      <td>...</td>\n",
       "      <td>0</td>\n",
       "      <td>0</td>\n",
       "      <td>0</td>\n",
       "      <td>0</td>\n",
       "      <td>0</td>\n",
       "      <td>0</td>\n",
       "      <td>0</td>\n",
       "      <td>0</td>\n",
       "      <td>0</td>\n",
       "      <td>0</td>\n",
       "    </tr>\n",
       "    <tr>\n",
       "      <th>2</th>\n",
       "      <td>0</td>\n",
       "      <td>0</td>\n",
       "      <td>0</td>\n",
       "      <td>0</td>\n",
       "      <td>0</td>\n",
       "      <td>0</td>\n",
       "      <td>0</td>\n",
       "      <td>0</td>\n",
       "      <td>0</td>\n",
       "      <td>0</td>\n",
       "      <td>...</td>\n",
       "      <td>0</td>\n",
       "      <td>0</td>\n",
       "      <td>0</td>\n",
       "      <td>0</td>\n",
       "      <td>0</td>\n",
       "      <td>0</td>\n",
       "      <td>0</td>\n",
       "      <td>0</td>\n",
       "      <td>0</td>\n",
       "      <td>0</td>\n",
       "    </tr>\n",
       "    <tr>\n",
       "      <th>3</th>\n",
       "      <td>0</td>\n",
       "      <td>0</td>\n",
       "      <td>0</td>\n",
       "      <td>0</td>\n",
       "      <td>0</td>\n",
       "      <td>0</td>\n",
       "      <td>0</td>\n",
       "      <td>0</td>\n",
       "      <td>0</td>\n",
       "      <td>0</td>\n",
       "      <td>...</td>\n",
       "      <td>0</td>\n",
       "      <td>0</td>\n",
       "      <td>0</td>\n",
       "      <td>0</td>\n",
       "      <td>0</td>\n",
       "      <td>0</td>\n",
       "      <td>0</td>\n",
       "      <td>0</td>\n",
       "      <td>0</td>\n",
       "      <td>0</td>\n",
       "    </tr>\n",
       "    <tr>\n",
       "      <th>4</th>\n",
       "      <td>0</td>\n",
       "      <td>0</td>\n",
       "      <td>0</td>\n",
       "      <td>0</td>\n",
       "      <td>0</td>\n",
       "      <td>0</td>\n",
       "      <td>0</td>\n",
       "      <td>0</td>\n",
       "      <td>0</td>\n",
       "      <td>0</td>\n",
       "      <td>...</td>\n",
       "      <td>0</td>\n",
       "      <td>0</td>\n",
       "      <td>0</td>\n",
       "      <td>0</td>\n",
       "      <td>0</td>\n",
       "      <td>0</td>\n",
       "      <td>0</td>\n",
       "      <td>0</td>\n",
       "      <td>0</td>\n",
       "      <td>0</td>\n",
       "    </tr>\n",
       "  </tbody>\n",
       "</table>\n",
       "<p>5 rows × 784 columns</p>\n",
       "</div>"
      ],
      "text/plain": [
       "   pixel0  pixel1  pixel2  pixel3  pixel4  pixel5  pixel6  pixel7  pixel8  \\\n",
       "0       0       0       0       0       0       0       0       0       0   \n",
       "1       0       0       0       0       0       0       0       0       0   \n",
       "2       0       0       0       0       0       0       0       0       0   \n",
       "3       0       0       0       0       0       0       0       0       0   \n",
       "4       0       0       0       0       0       0       0       0       0   \n",
       "\n",
       "   pixel9    ...     pixel774  pixel775  pixel776  pixel777  pixel778  \\\n",
       "0       0    ...            0         0         0         0         0   \n",
       "1       0    ...            0         0         0         0         0   \n",
       "2       0    ...            0         0         0         0         0   \n",
       "3       0    ...            0         0         0         0         0   \n",
       "4       0    ...            0         0         0         0         0   \n",
       "\n",
       "   pixel779  pixel780  pixel781  pixel782  pixel783  \n",
       "0         0         0         0         0         0  \n",
       "1         0         0         0         0         0  \n",
       "2         0         0         0         0         0  \n",
       "3         0         0         0         0         0  \n",
       "4         0         0         0         0         0  \n",
       "\n",
       "[5 rows x 784 columns]"
      ]
     },
     "execution_count": 4,
     "metadata": {},
     "output_type": "execute_result"
    }
   ],
   "source": [
    "data.head()"
   ]
  },
  {
   "cell_type": "code",
   "execution_count": null,
   "metadata": {},
   "outputs": [],
   "source": []
  }
 ],
 "metadata": {
  "kernelspec": {
   "display_name": "Python 3",
   "language": "python",
   "name": "python3"
  },
  "language_info": {
   "codemirror_mode": {
    "name": "ipython",
    "version": 3
   },
   "file_extension": ".py",
   "mimetype": "text/x-python",
   "name": "python",
   "nbconvert_exporter": "python",
   "pygments_lexer": "ipython3",
   "version": "3.6.5"
  }
 },
 "nbformat": 4,
 "nbformat_minor": 2
}
