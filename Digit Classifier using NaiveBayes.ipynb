{
 "cells": [
  {
   "cell_type": "code",
   "execution_count": 1,
   "metadata": {},
   "outputs": [],
   "source": [
    "import matplotlib.pyplot as plt\n",
    "import pandas as pd\n",
    "import numpy as np\n",
    "import random as r\n",
    "import scipy.stats as S\n",
    "data = pd.read_csv(\"datasets/train.csv\")\n"
   ]
  },
  {
   "cell_type": "markdown",
   "metadata": {},
   "source": [
    "# scaling of data"
   ]
  },
  {
   "cell_type": "code",
   "execution_count": 2,
   "metadata": {},
   "outputs": [],
   "source": [
    "from sklearn.preprocessing import StandardScaler\n",
    "standardscalar_x=StandardScaler()\n",
    "data.iloc[:,1:]=standardscalar_x.fit_transform(data.iloc[:,1:])"
   ]
  },
  {
   "cell_type": "markdown",
   "metadata": {},
   "source": []
  },
  {
   "cell_type": "code",
   "execution_count": 3,
   "metadata": {},
   "outputs": [],
   "source": [
    "digitwisedata=list(map(lambda digit:  data[data['label']==digit].iloc[:,:]  , [0,1,2,3,4,5,6,7,8,9]  ))\n"
   ]
  },
  {
   "cell_type": "code",
   "execution_count": 4,
   "metadata": {},
   "outputs": [],
   "source": [
    "digitwise_training_data=list(map(lambda digit: digitwisedata[digit].iloc[:int(.75*len(digitwisedata[digit])),:] , [0,1,2,3,4,5,6,7,8,9] ))\n",
    "\n",
    "digitwise_testing_data=list(map(lambda digit: digitwisedata[digit].iloc[int(.75*len(digitwisedata[digit])):,:] , [0,1,2,3,4,5,6,7,8,9] ))"
   ]
  },
  {
   "cell_type": "code",
   "execution_count": 5,
   "metadata": {},
   "outputs": [],
   "source": [
    "training_data=pd.concat(digitwise_training_data)\n",
    "testing_data=pd.concat(digitwise_testing_data)"
   ]
  },
  {
   "cell_type": "code",
   "execution_count": 6,
   "metadata": {},
   "outputs": [],
   "source": [
    "\n",
    "x_Train_Data = training_data.iloc[:,1:]\n",
    "y_Train_Data = training_data.iloc[:,0]\n",
    "\n",
    "x_Test_Data = testing_data.iloc[:,1:]\n",
    "y_Test_Data = testing_data.iloc[:,0].values\n",
    "\n",
    "digitwisedata=list(map(lambda digit:  training_data[training_data['label']==digit].iloc[:,1:]  , [0,1,2,3,4,5,6,7,8,9]  ))\n",
    "pcap_digitwise = list(map(lambda digit: digitwisedata[digit].shape[0] /training_data.shape[0] ,[0,1,2,3,4,5,6,7,8,9] ))\n"
   ]
  },
  {
   "cell_type": "code",
   "execution_count": 7,
   "metadata": {},
   "outputs": [],
   "source": [
    "def PCA(data_to_train,data_to_test):\n",
    "    cov=np.cov(data_to_train.T)\n",
    "    eigenValues,eigenVectors=np.linalg.eig(cov)\n",
    "    eigen_pairs={}\n",
    "    for i in range(len(eigenValues)):\n",
    "        eigen_pairs[eigenValues[i]]=eigenVectors[i]\n",
    "    total_variance=sum(eigenValues)\n",
    "    percentageVariance=[(variance/total_variance) for variance in sorted(eigenValues,reverse=True) ]\n",
    "    accumulativeVariance=[]\n",
    "    accumulativeVariance=np.cumsum(percentageVariance)\n",
    "    for i in range(len(accumulativeVariance)):\n",
    "        if accumulativeVariance[i]>=.95:\n",
    "            breaking_index=i\n",
    "            break\n",
    "    projection=[]\n",
    "    for i in sorted(eigenValues,reverse=True):\n",
    "        projection.append(np.real(eigen_pairs[i][:breaking_index]))\n",
    "    projection=np.array(projection)\n",
    "    X_Train_Data_PCA = data_to_train.dot(projection)\n",
    "\n",
    "    X_Test_Data_PCA = data_to_test.dot(projection)\n",
    "    \n",
    "    return X_Train_Data_PCA,X_Test_Data_PCA"
   ]
  },
  {
   "cell_type": "code",
   "execution_count": null,
   "metadata": {},
   "outputs": [],
   "source": []
  },
  {
   "cell_type": "code",
   "execution_count": 8,
   "metadata": {},
   "outputs": [],
   "source": [
    "posterior_prob=[]\n",
    "for digit in range(len(digitwisedata)):\n",
    "    x_Train_Data_PCA,x_Test_Data_PCA=PCA(digitwisedata[digit],x_Test_Data)\n",
    "    Mean=np.mean(x_Train_Data_PCA,axis=0)\n",
    "    Cov=np.cov(x_Train_Data_PCA.T)\n",
    "    prob=pcap_digitwise[digit]*S.multivariate_normal.pdf(x_Test_Data_PCA,Mean,Cov)\n",
    "    posterior_prob.append(prob)"
   ]
  },
  {
   "cell_type": "code",
   "execution_count": 9,
   "metadata": {},
   "outputs": [
    {
     "data": {
      "text/plain": [
       "(10, 10503)"
      ]
     },
     "execution_count": 9,
     "metadata": {},
     "output_type": "execute_result"
    }
   ],
   "source": [
    "posterior_prob=np.array(posterior_prob)\n",
    "posterior_prob.shape"
   ]
  },
  {
   "cell_type": "code",
   "execution_count": 10,
   "metadata": {},
   "outputs": [],
   "source": [
    "y_predicted=[]\n",
    "correct_prediction=0\n",
    "for example in range((posterior_prob.shape[1])):\n",
    "    y_predicted.append(np.argmax(posterior_prob[:,example]))\n",
    "    \n",
    "    if np.argmax(posterior_prob[:,example])==y_Test_Data[example]:\n",
    "        correct_prediction+=1"
   ]
  },
  {
   "cell_type": "code",
   "execution_count": 11,
   "metadata": {},
   "outputs": [],
   "source": [
    "accuracy=correct_prediction*100/len(y_Test_Data)"
   ]
  },
  {
   "cell_type": "code",
   "execution_count": 12,
   "metadata": {},
   "outputs": [
    {
     "name": "stdout",
     "output_type": "stream",
     "text": [
      "Accuracy:  44 %\n"
     ]
    }
   ],
   "source": [
    "print(\"Accuracy: \",round(accuracy),\"%\")"
   ]
  },
  {
   "cell_type": "code",
   "execution_count": null,
   "metadata": {},
   "outputs": [],
   "source": []
  },
  {
   "cell_type": "code",
   "execution_count": null,
   "metadata": {},
   "outputs": [],
   "source": []
  }
 ],
 "metadata": {
  "kernelspec": {
   "display_name": "Python 3",
   "language": "python",
   "name": "python3"
  },
  "language_info": {
   "codemirror_mode": {
    "name": "ipython",
    "version": 3
   },
   "file_extension": ".py",
   "mimetype": "text/x-python",
   "name": "python",
   "nbconvert_exporter": "python",
   "pygments_lexer": "ipython3",
   "version": "3.6.5"
  }
 },
 "nbformat": 4,
 "nbformat_minor": 2
}
