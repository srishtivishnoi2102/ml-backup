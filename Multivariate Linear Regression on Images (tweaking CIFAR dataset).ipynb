{
 "cells": [
  {
   "cell_type": "code",
   "execution_count": 94,
   "metadata": {},
   "outputs": [],
   "source": [
    "from tensorflow.keras.datasets import cifar10\n",
    "(x_train , y_train) ,(x_test , y_test)=cifar10.load_data()"
   ]
  },
  {
   "cell_type": "code",
   "execution_count": 95,
   "metadata": {},
   "outputs": [],
   "source": [
    "import numpy as np\n",
    "import pandas as pd\n",
    "import matplotlib.pyplot as plt\n",
    "from IPython.display import clear_output\n"
   ]
  },
  {
   "cell_type": "markdown",
   "metadata": {},
   "source": [
    "# making the target variable continuous by tweaking with the target variables (y_train and y_test)"
   ]
  },
  {
   "cell_type": "code",
   "execution_count": 96,
   "metadata": {},
   "outputs": [],
   "source": [
    "for i in range(len(y_train)):\n",
    "    y_train[i][0]= np.random.randint(10 * y_train[i][0], (10* y_train[i][0])+10)\n",
    "    \n",
    "    \n",
    "for i in range(len(y_test)):\n",
    "    y_test[i][0]= np.random.randint(10 * y_test[i][0], (10* y_test[i][0])+10)\n",
    "    \n",
    "    \n"
   ]
  },
  {
   "cell_type": "code",
   "execution_count": null,
   "metadata": {},
   "outputs": [],
   "source": []
  },
  {
   "cell_type": "markdown",
   "metadata": {},
   "source": [
    "# flatteing the image dataset from (50000,32,32,3)  into (50000,  32*32*3)"
   ]
  },
  {
   "cell_type": "code",
   "execution_count": 97,
   "metadata": {},
   "outputs": [],
   "source": [
    "x_flat=[]\n",
    "for i in range(len(x_train)):\n",
    "    x_flat.append(np.ndarray.flatten(x_train[i])) \n",
    "    \n",
    "x_train=np.array(x_flat)   \n",
    "\n",
    "x_flat=[]\n",
    "for i in range(len(y_test)):\n",
    "    x_flat.append(np.ndarray.flatten(x_test[i]))     \n",
    "    \n",
    "x_test=np.array(x_flat)\n",
    "\n"
   ]
  },
  {
   "cell_type": "code",
   "execution_count": 98,
   "metadata": {},
   "outputs": [
    {
     "data": {
      "text/plain": [
       "(10000, 3072)"
      ]
     },
     "execution_count": 98,
     "metadata": {},
     "output_type": "execute_result"
    }
   ],
   "source": [
    "x_test.shape"
   ]
  },
  {
   "cell_type": "code",
   "execution_count": null,
   "metadata": {},
   "outputs": [],
   "source": []
  },
  {
   "cell_type": "markdown",
   "metadata": {},
   "source": [
    "# **coding multivariate linear regression**"
   ]
  },
  {
   "cell_type": "code",
   "execution_count": null,
   "metadata": {},
   "outputs": [],
   "source": []
  },
  {
   "cell_type": "code",
   "execution_count": 99,
   "metadata": {},
   "outputs": [],
   "source": [
    "weights0=np.random.randn(x_train.shape[1],1)\n",
    "bias0=np.random.randn(1,1)"
   ]
  },
  {
   "cell_type": "code",
   "execution_count": 100,
   "metadata": {},
   "outputs": [],
   "source": [
    "def linear_model(m,x,c):\n",
    "    return np.matmul(x,m)+c\n",
    "\n",
    "def error(m,x,c,y):\n",
    "    return np.mean((linear_model(m,x,x)-y)**2)/100\n",
    "\n",
    "def derivative_wrt_weights(m,x,c,y):\n",
    "    derivatives=2*np.mean(np.multiply(x,linear_model(m,x,c)-y),axis=0)\n",
    "    derivatives= np.array(derivatives)\n",
    "    derivatives=derivatives.reshape(x_train.shape[1],1)\n",
    "    return derivatives\n",
    "     \n",
    "\n",
    "def derivative_wrt_bias(m,x,c,y):\n",
    "    derivative=2*np.mean(linear_model(m,x,c)-y)\n",
    "    derivative= np.array(derivative)\n",
    "    derivative=derivative.reshape(1,1)\n",
    "    return derivative\n",
    "\n",
    "def scalar(x):\n",
    "    return (x-np.mean(x))/np.std(x)\n",
    "\n",
    "def accuracy(m,x,c,y):\n",
    "    currentError = error(m,x,c,y)\n",
    "    maxError = np.mean(y**2)\n",
    "    return (1-(currentError / maxError))*100"
   ]
  },
  {
   "cell_type": "code",
   "execution_count": 101,
   "metadata": {},
   "outputs": [],
   "source": [
    "def model_result(alpha,num_of_iteration):\n",
    "    weights=weights0\n",
    "    bias=bias0\n",
    "    error_cost=[]\n",
    "    for i in range(num_of_iteration):\n",
    "        weights = weights - alpha * derivative_wrt_weights(weights,x_train,bias,y_train)\n",
    "        bias = bias - alpha * derivative_wrt_bias(weights,x_train,bias,y_train)\n",
    "        error_cost.append(error(weights,x_train,bias,y_train))\n",
    "    plt.plot(error_cost)\n",
    "    print(\"Accuracy is: \",accuracy(weights,x_train,bias,y_train))\n",
    "    print(\"Error is: \",error(weights,x_train,bias,y_train))"
   ]
  },
  {
   "cell_type": "code",
   "execution_count": 102,
   "metadata": {},
   "outputs": [],
   "source": [
    "x_train=scalar(x_train)\n",
    "x_test=scalar(x_test)\n",
    "y_train=scalar(y_train)\n",
    "y_test=scalar(y_test)"
   ]
  },
  {
   "cell_type": "code",
   "execution_count": 103,
   "metadata": {},
   "outputs": [
    {
     "name": "stdout",
     "output_type": "stream",
     "text": [
      "Accuracy is:  -2968.783336881619\n",
      "Error is:  30.68783336881619\n"
     ]
    },
    {
     "data": {
      "image/png": "[encoded data removed]",
      "text/plain": [
       "<Figure size 432x288 with 1 Axes>"
      ]
     },
     "metadata": {},
     "output_type": "display_data"
    }
   ],
   "source": [
    "model_result(.000001,5)"
   ]
  },
  {
   "cell_type": "code",
   "execution_count": null,
   "metadata": {},
   "outputs": [],
   "source": []
  }
 ],
 "metadata": {
  "kernelspec": {
   "display_name": "Python 3",
   "language": "python",
   "name": "python3"
  },
  "language_info": {
   "codemirror_mode": {
    "name": "ipython",
    "version": 3
   },
   "file_extension": ".py",
   "mimetype": "text/x-python",
   "name": "python",
   "nbconvert_exporter": "python",
   "pygments_lexer": "ipython3",
   "version": "3.6.5"
  }
 },
 "nbformat": 4,
 "nbformat_minor": 2
}
