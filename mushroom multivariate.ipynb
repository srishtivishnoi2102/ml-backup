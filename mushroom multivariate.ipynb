{
 "cells": [
  {
   "cell_type": "code",
   "execution_count": 2,
   "metadata": {},
   "outputs": [],
   "source": [
    "import matplotlib.pyplot as plt\n",
    "import pandas as pd\n",
    "import numpy as np\n",
    "import random as r\n",
    "import scipy.stats as S\n",
    "\n",
    "rawdata = pd.read_csv(\"datasets/mushrooms.csv\")"
   ]
  },
  {
   "cell_type": "code",
   "execution_count": null,
   "metadata": {},
   "outputs": [],
   "source": []
  },
  {
   "cell_type": "markdown",
   "metadata": {},
   "source": [
    "# Applying multivariate naive bayes algorithm \n",
    "# from scratch"
   ]
  },
  {
   "cell_type": "code",
   "execution_count": 3,
   "metadata": {},
   "outputs": [
    {
     "data": {
      "text/html": [
       "<div>\n",
       "<style scoped>\n",
       "    .dataframe tbody tr th:only-of-type {\n",
       "        vertical-align: middle;\n",
       "    }\n",
       "\n",
       "    .dataframe tbody tr th {\n",
       "        vertical-align: top;\n",
       "    }\n",
       "\n",
       "    .dataframe thead th {\n",
       "        text-align: right;\n",
       "    }\n",
       "</style>\n",
       "<table border=\"1\" class=\"dataframe\">\n",
       "  <thead>\n",
       "    <tr style=\"text-align: right;\">\n",
       "      <th></th>\n",
       "      <th>cap-shape</th>\n",
       "      <th>cap-surface</th>\n",
       "      <th>cap-color</th>\n",
       "      <th>bruises</th>\n",
       "      <th>odor</th>\n",
       "      <th>gill-attachment</th>\n",
       "      <th>gill-spacing</th>\n",
       "      <th>gill-size</th>\n",
       "      <th>gill-color</th>\n",
       "      <th>stalk-shape</th>\n",
       "      <th>...</th>\n",
       "      <th>stalk-surface-below-ring</th>\n",
       "      <th>stalk-color-above-ring</th>\n",
       "      <th>stalk-color-below-ring</th>\n",
       "      <th>veil-type</th>\n",
       "      <th>veil-color</th>\n",
       "      <th>ring-number</th>\n",
       "      <th>ring-type</th>\n",
       "      <th>spore-print-color</th>\n",
       "      <th>population</th>\n",
       "      <th>habitat</th>\n",
       "    </tr>\n",
       "  </thead>\n",
       "  <tbody>\n",
       "    <tr>\n",
       "      <th>0</th>\n",
       "      <td>x</td>\n",
       "      <td>s</td>\n",
       "      <td>n</td>\n",
       "      <td>t</td>\n",
       "      <td>p</td>\n",
       "      <td>f</td>\n",
       "      <td>c</td>\n",
       "      <td>n</td>\n",
       "      <td>k</td>\n",
       "      <td>e</td>\n",
       "      <td>...</td>\n",
       "      <td>s</td>\n",
       "      <td>w</td>\n",
       "      <td>w</td>\n",
       "      <td>p</td>\n",
       "      <td>w</td>\n",
       "      <td>o</td>\n",
       "      <td>p</td>\n",
       "      <td>k</td>\n",
       "      <td>s</td>\n",
       "      <td>u</td>\n",
       "    </tr>\n",
       "  </tbody>\n",
       "</table>\n",
       "<p>1 rows × 22 columns</p>\n",
       "</div>"
      ],
      "text/plain": [
       "  cap-shape cap-surface cap-color bruises odor gill-attachment gill-spacing  \\\n",
       "0         x           s         n       t    p               f            c   \n",
       "\n",
       "  gill-size gill-color stalk-shape   ...   stalk-surface-below-ring  \\\n",
       "0         n          k           e   ...                          s   \n",
       "\n",
       "  stalk-color-above-ring stalk-color-below-ring veil-type veil-color  \\\n",
       "0                      w                      w         p          w   \n",
       "\n",
       "  ring-number ring-type spore-print-color population habitat  \n",
       "0           o         p                 k          s       u  \n",
       "\n",
       "[1 rows x 22 columns]"
      ]
     },
     "execution_count": 3,
     "metadata": {},
     "output_type": "execute_result"
    }
   ],
   "source": [
    "interestdata=rawdata.iloc[:,1:]\n",
    "interestdata.head(1)"
   ]
  },
  {
   "cell_type": "code",
   "execution_count": 26,
   "metadata": {},
   "outputs": [],
   "source": [
    "p_data=rawdata[rawdata['class'] == 'p']"
   ]
  },
  {
   "cell_type": "code",
   "execution_count": 27,
   "metadata": {},
   "outputs": [],
   "source": [
    "e_data=rawdata[rawdata['class'] == 'e']"
   ]
  },
  {
   "cell_type": "code",
   "execution_count": 28,
   "metadata": {},
   "outputs": [
    {
     "data": {
      "text/html": [
       "<div>\n",
       "<style scoped>\n",
       "    .dataframe tbody tr th:only-of-type {\n",
       "        vertical-align: middle;\n",
       "    }\n",
       "\n",
       "    .dataframe tbody tr th {\n",
       "        vertical-align: top;\n",
       "    }\n",
       "\n",
       "    .dataframe thead th {\n",
       "        text-align: right;\n",
       "    }\n",
       "</style>\n",
       "<table border=\"1\" class=\"dataframe\">\n",
       "  <thead>\n",
       "    <tr style=\"text-align: right;\">\n",
       "      <th></th>\n",
       "      <th>cap-shape</th>\n",
       "      <th>cap-surface</th>\n",
       "      <th>cap-color</th>\n",
       "      <th>bruises</th>\n",
       "      <th>odor</th>\n",
       "      <th>gill-attachment</th>\n",
       "      <th>gill-spacing</th>\n",
       "      <th>gill-size</th>\n",
       "      <th>gill-color</th>\n",
       "      <th>stalk-shape</th>\n",
       "      <th>...</th>\n",
       "      <th>stalk-surface-below-ring</th>\n",
       "      <th>stalk-color-above-ring</th>\n",
       "      <th>stalk-color-below-ring</th>\n",
       "      <th>veil-type</th>\n",
       "      <th>veil-color</th>\n",
       "      <th>ring-number</th>\n",
       "      <th>ring-type</th>\n",
       "      <th>spore-print-color</th>\n",
       "      <th>population</th>\n",
       "      <th>habitat</th>\n",
       "    </tr>\n",
       "  </thead>\n",
       "  <tbody>\n",
       "    <tr>\n",
       "      <th>1</th>\n",
       "      <td>x</td>\n",
       "      <td>s</td>\n",
       "      <td>y</td>\n",
       "      <td>t</td>\n",
       "      <td>a</td>\n",
       "      <td>f</td>\n",
       "      <td>c</td>\n",
       "      <td>b</td>\n",
       "      <td>k</td>\n",
       "      <td>e</td>\n",
       "      <td>...</td>\n",
       "      <td>s</td>\n",
       "      <td>w</td>\n",
       "      <td>w</td>\n",
       "      <td>p</td>\n",
       "      <td>w</td>\n",
       "      <td>o</td>\n",
       "      <td>p</td>\n",
       "      <td>n</td>\n",
       "      <td>n</td>\n",
       "      <td>g</td>\n",
       "    </tr>\n",
       "    <tr>\n",
       "      <th>2</th>\n",
       "      <td>b</td>\n",
       "      <td>s</td>\n",
       "      <td>w</td>\n",
       "      <td>t</td>\n",
       "      <td>l</td>\n",
       "      <td>f</td>\n",
       "      <td>c</td>\n",
       "      <td>b</td>\n",
       "      <td>n</td>\n",
       "      <td>e</td>\n",
       "      <td>...</td>\n",
       "      <td>s</td>\n",
       "      <td>w</td>\n",
       "      <td>w</td>\n",
       "      <td>p</td>\n",
       "      <td>w</td>\n",
       "      <td>o</td>\n",
       "      <td>p</td>\n",
       "      <td>n</td>\n",
       "      <td>n</td>\n",
       "      <td>m</td>\n",
       "    </tr>\n",
       "    <tr>\n",
       "      <th>4</th>\n",
       "      <td>x</td>\n",
       "      <td>s</td>\n",
       "      <td>g</td>\n",
       "      <td>f</td>\n",
       "      <td>n</td>\n",
       "      <td>f</td>\n",
       "      <td>w</td>\n",
       "      <td>b</td>\n",
       "      <td>k</td>\n",
       "      <td>t</td>\n",
       "      <td>...</td>\n",
       "      <td>s</td>\n",
       "      <td>w</td>\n",
       "      <td>w</td>\n",
       "      <td>p</td>\n",
       "      <td>w</td>\n",
       "      <td>o</td>\n",
       "      <td>e</td>\n",
       "      <td>n</td>\n",
       "      <td>a</td>\n",
       "      <td>g</td>\n",
       "    </tr>\n",
       "    <tr>\n",
       "      <th>5</th>\n",
       "      <td>x</td>\n",
       "      <td>y</td>\n",
       "      <td>y</td>\n",
       "      <td>t</td>\n",
       "      <td>a</td>\n",
       "      <td>f</td>\n",
       "      <td>c</td>\n",
       "      <td>b</td>\n",
       "      <td>n</td>\n",
       "      <td>e</td>\n",
       "      <td>...</td>\n",
       "      <td>s</td>\n",
       "      <td>w</td>\n",
       "      <td>w</td>\n",
       "      <td>p</td>\n",
       "      <td>w</td>\n",
       "      <td>o</td>\n",
       "      <td>p</td>\n",
       "      <td>k</td>\n",
       "      <td>n</td>\n",
       "      <td>g</td>\n",
       "    </tr>\n",
       "    <tr>\n",
       "      <th>6</th>\n",
       "      <td>b</td>\n",
       "      <td>s</td>\n",
       "      <td>w</td>\n",
       "      <td>t</td>\n",
       "      <td>a</td>\n",
       "      <td>f</td>\n",
       "      <td>c</td>\n",
       "      <td>b</td>\n",
       "      <td>g</td>\n",
       "      <td>e</td>\n",
       "      <td>...</td>\n",
       "      <td>s</td>\n",
       "      <td>w</td>\n",
       "      <td>w</td>\n",
       "      <td>p</td>\n",
       "      <td>w</td>\n",
       "      <td>o</td>\n",
       "      <td>p</td>\n",
       "      <td>k</td>\n",
       "      <td>n</td>\n",
       "      <td>m</td>\n",
       "    </tr>\n",
       "  </tbody>\n",
       "</table>\n",
       "<p>5 rows × 22 columns</p>\n",
       "</div>"
      ],
      "text/plain": [
       "  cap-shape cap-surface cap-color bruises odor gill-attachment gill-spacing  \\\n",
       "1         x           s         y       t    a               f            c   \n",
       "2         b           s         w       t    l               f            c   \n",
       "4         x           s         g       f    n               f            w   \n",
       "5         x           y         y       t    a               f            c   \n",
       "6         b           s         w       t    a               f            c   \n",
       "\n",
       "  gill-size gill-color stalk-shape   ...   stalk-surface-below-ring  \\\n",
       "1         b          k           e   ...                          s   \n",
       "2         b          n           e   ...                          s   \n",
       "4         b          k           t   ...                          s   \n",
       "5         b          n           e   ...                          s   \n",
       "6         b          g           e   ...                          s   \n",
       "\n",
       "  stalk-color-above-ring stalk-color-below-ring veil-type veil-color  \\\n",
       "1                      w                      w         p          w   \n",
       "2                      w                      w         p          w   \n",
       "4                      w                      w         p          w   \n",
       "5                      w                      w         p          w   \n",
       "6                      w                      w         p          w   \n",
       "\n",
       "  ring-number ring-type spore-print-color population habitat  \n",
       "1           o         p                 n          n       g  \n",
       "2           o         p                 n          n       m  \n",
       "4           o         e                 n          a       g  \n",
       "5           o         p                 k          n       g  \n",
       "6           o         p                 k          n       m  \n",
       "\n",
       "[5 rows x 22 columns]"
      ]
     },
     "execution_count": 28,
     "metadata": {},
     "output_type": "execute_result"
    }
   ],
   "source": [
    "p_training_data= p_data.iloc[0:int(int(.75 * len(rawdata))/2),1:]\n",
    "e_training_data= e_data.iloc[0:int(int(.75 * len(rawdata))/2),1:]\n",
    "e_training_data.head()"
   ]
  },
  {
   "cell_type": "code",
   "execution_count": 30,
   "metadata": {},
   "outputs": [
    {
     "data": {
      "text/html": [
       "<div>\n",
       "<style scoped>\n",
       "    .dataframe tbody tr th:only-of-type {\n",
       "        vertical-align: middle;\n",
       "    }\n",
       "\n",
       "    .dataframe tbody tr th {\n",
       "        vertical-align: top;\n",
       "    }\n",
       "\n",
       "    .dataframe thead th {\n",
       "        text-align: right;\n",
       "    }\n",
       "</style>\n",
       "<table border=\"1\" class=\"dataframe\">\n",
       "  <thead>\n",
       "    <tr style=\"text-align: right;\">\n",
       "      <th></th>\n",
       "      <th>cap-shape</th>\n",
       "      <th>cap-surface</th>\n",
       "      <th>cap-color</th>\n",
       "      <th>bruises</th>\n",
       "      <th>odor</th>\n",
       "      <th>gill-attachment</th>\n",
       "      <th>gill-spacing</th>\n",
       "      <th>gill-size</th>\n",
       "      <th>gill-color</th>\n",
       "      <th>stalk-shape</th>\n",
       "      <th>...</th>\n",
       "      <th>stalk-surface-below-ring</th>\n",
       "      <th>stalk-color-above-ring</th>\n",
       "      <th>stalk-color-below-ring</th>\n",
       "      <th>veil-type</th>\n",
       "      <th>veil-color</th>\n",
       "      <th>ring-number</th>\n",
       "      <th>ring-type</th>\n",
       "      <th>spore-print-color</th>\n",
       "      <th>population</th>\n",
       "      <th>habitat</th>\n",
       "    </tr>\n",
       "  </thead>\n",
       "  <tbody>\n",
       "    <tr>\n",
       "      <th>3524</th>\n",
       "      <td>f</td>\n",
       "      <td>f</td>\n",
       "      <td>e</td>\n",
       "      <td>t</td>\n",
       "      <td>n</td>\n",
       "      <td>f</td>\n",
       "      <td>c</td>\n",
       "      <td>b</td>\n",
       "      <td>w</td>\n",
       "      <td>t</td>\n",
       "      <td>...</td>\n",
       "      <td>s</td>\n",
       "      <td>w</td>\n",
       "      <td>g</td>\n",
       "      <td>p</td>\n",
       "      <td>w</td>\n",
       "      <td>o</td>\n",
       "      <td>p</td>\n",
       "      <td>n</td>\n",
       "      <td>y</td>\n",
       "      <td>d</td>\n",
       "    </tr>\n",
       "    <tr>\n",
       "      <th>3526</th>\n",
       "      <td>f</td>\n",
       "      <td>f</td>\n",
       "      <td>n</td>\n",
       "      <td>t</td>\n",
       "      <td>n</td>\n",
       "      <td>f</td>\n",
       "      <td>c</td>\n",
       "      <td>b</td>\n",
       "      <td>p</td>\n",
       "      <td>t</td>\n",
       "      <td>...</td>\n",
       "      <td>s</td>\n",
       "      <td>g</td>\n",
       "      <td>g</td>\n",
       "      <td>p</td>\n",
       "      <td>w</td>\n",
       "      <td>o</td>\n",
       "      <td>p</td>\n",
       "      <td>n</td>\n",
       "      <td>y</td>\n",
       "      <td>d</td>\n",
       "    </tr>\n",
       "    <tr>\n",
       "      <th>3527</th>\n",
       "      <td>f</td>\n",
       "      <td>y</td>\n",
       "      <td>g</td>\n",
       "      <td>t</td>\n",
       "      <td>n</td>\n",
       "      <td>f</td>\n",
       "      <td>c</td>\n",
       "      <td>b</td>\n",
       "      <td>p</td>\n",
       "      <td>t</td>\n",
       "      <td>...</td>\n",
       "      <td>s</td>\n",
       "      <td>p</td>\n",
       "      <td>w</td>\n",
       "      <td>p</td>\n",
       "      <td>w</td>\n",
       "      <td>o</td>\n",
       "      <td>p</td>\n",
       "      <td>k</td>\n",
       "      <td>v</td>\n",
       "      <td>d</td>\n",
       "    </tr>\n",
       "    <tr>\n",
       "      <th>3528</th>\n",
       "      <td>f</td>\n",
       "      <td>y</td>\n",
       "      <td>e</td>\n",
       "      <td>t</td>\n",
       "      <td>n</td>\n",
       "      <td>f</td>\n",
       "      <td>c</td>\n",
       "      <td>b</td>\n",
       "      <td>p</td>\n",
       "      <td>t</td>\n",
       "      <td>...</td>\n",
       "      <td>s</td>\n",
       "      <td>p</td>\n",
       "      <td>w</td>\n",
       "      <td>p</td>\n",
       "      <td>w</td>\n",
       "      <td>o</td>\n",
       "      <td>p</td>\n",
       "      <td>k</td>\n",
       "      <td>y</td>\n",
       "      <td>d</td>\n",
       "    </tr>\n",
       "    <tr>\n",
       "      <th>3529</th>\n",
       "      <td>f</td>\n",
       "      <td>y</td>\n",
       "      <td>e</td>\n",
       "      <td>t</td>\n",
       "      <td>n</td>\n",
       "      <td>f</td>\n",
       "      <td>c</td>\n",
       "      <td>b</td>\n",
       "      <td>w</td>\n",
       "      <td>t</td>\n",
       "      <td>...</td>\n",
       "      <td>s</td>\n",
       "      <td>w</td>\n",
       "      <td>w</td>\n",
       "      <td>p</td>\n",
       "      <td>w</td>\n",
       "      <td>o</td>\n",
       "      <td>p</td>\n",
       "      <td>k</td>\n",
       "      <td>y</td>\n",
       "      <td>d</td>\n",
       "    </tr>\n",
       "  </tbody>\n",
       "</table>\n",
       "<p>5 rows × 22 columns</p>\n",
       "</div>"
      ],
      "text/plain": [
       "     cap-shape cap-surface cap-color bruises odor gill-attachment  \\\n",
       "3524         f           f         e       t    n               f   \n",
       "3526         f           f         n       t    n               f   \n",
       "3527         f           y         g       t    n               f   \n",
       "3528         f           y         e       t    n               f   \n",
       "3529         f           y         e       t    n               f   \n",
       "\n",
       "     gill-spacing gill-size gill-color stalk-shape   ...    \\\n",
       "3524            c         b          w           t   ...     \n",
       "3526            c         b          p           t   ...     \n",
       "3527            c         b          p           t   ...     \n",
       "3528            c         b          p           t   ...     \n",
       "3529            c         b          w           t   ...     \n",
       "\n",
       "     stalk-surface-below-ring stalk-color-above-ring stalk-color-below-ring  \\\n",
       "3524                        s                      w                      g   \n",
       "3526                        s                      g                      g   \n",
       "3527                        s                      p                      w   \n",
       "3528                        s                      p                      w   \n",
       "3529                        s                      w                      w   \n",
       "\n",
       "     veil-type veil-color ring-number ring-type spore-print-color population  \\\n",
       "3524         p          w           o         p                 n          y   \n",
       "3526         p          w           o         p                 n          y   \n",
       "3527         p          w           o         p                 k          v   \n",
       "3528         p          w           o         p                 k          y   \n",
       "3529         p          w           o         p                 k          y   \n",
       "\n",
       "     habitat  \n",
       "3524       d  \n",
       "3526       d  \n",
       "3527       d  \n",
       "3528       d  \n",
       "3529       d  \n",
       "\n",
       "[5 rows x 22 columns]"
      ]
     },
     "execution_count": 30,
     "metadata": {},
     "output_type": "execute_result"
    }
   ],
   "source": [
    "p_testing_data= p_data.iloc[int(int(.75 * len(rawdata))/2):,1:]\n",
    "e_testing_data= e_data.iloc[int(int(.75 * len(rawdata))/2):,1:]\n",
    "e_testing_data.head()"
   ]
  },
  {
   "cell_type": "code",
   "execution_count": 31,
   "metadata": {},
   "outputs": [
    {
     "data": {
      "text/plain": [
       "(3046, 22)"
      ]
     },
     "execution_count": 31,
     "metadata": {},
     "output_type": "execute_result"
    }
   ],
   "source": [
    "p_training_data.shape"
   ]
  },
  {
   "cell_type": "code",
   "execution_count": 10,
   "metadata": {},
   "outputs": [
    {
     "data": {
      "text/plain": [
       "{'cap-shape': {'x': 0.5384110308601444,\n",
       "  'b': 0.0840446487196323,\n",
       "  's': 0.010505581089954037,\n",
       "  'f': 0.3670387393302692,\n",
       "  'k': 0.000327653997378768,\n",
       "  'c': 0.000327653997378768},\n",
       " 'cap-surface': {'s': 0.22586999343401182,\n",
       "  'y': 0.35948785292186475,\n",
       "  'f': 0.41464215364412343,\n",
       "  'g': 0.0003278688524590164},\n",
       " 'cap-color': {'n': 0.29218647406434667,\n",
       "  'y': 0.1313197636244255,\n",
       "  'w': 0.18384766907419567,\n",
       "  'g': 0.25344714379514116,\n",
       "  'e': 0.139198949441891,\n",
       "  'p': 0.0003272251308900524,\n",
       "  'b': 0.0003272251308900524,\n",
       "  'u': 0.0003272251308900524,\n",
       "  'c': 0.0003272251308900524,\n",
       "  'r': 0.0003272251308900524},\n",
       " 'bruises': {'t': 0.716349310571241, 'f': 0.28365068942875904},\n",
       " 'odor': {'p': 0.0003273322422258593,\n",
       "  'a': 0.1313197636244255,\n",
       "  'l': 0.1313197636244255,\n",
       "  'n': 0.737360472751149,\n",
       "  'f': 0.0003273322422258593,\n",
       "  'c': 0.0003273322422258593,\n",
       "  'y': 0.0003273322422258593,\n",
       "  's': 0.0003273322422258593,\n",
       "  'm': 0.0003273322422258593},\n",
       " 'gill-attachment': {'f': 1.0, 'a': 0.00032808398950131233},\n",
       " 'gill-spacing': {'c': 0.716349310571241, 'w': 0.28365068942875904},\n",
       " 'gill-size': {'n': 0.06303348653972422, 'b': 0.9369665134602758},\n",
       " 'gill-color': {'k': 0.11293499671700591,\n",
       "  'n': 0.25902823374917927,\n",
       "  'g': 0.04990151017728168,\n",
       "  'p': 0.21831910702560736,\n",
       "  'w': 0.1845042678923178,\n",
       "  'h': 0.06303348653972422,\n",
       "  'u': 0.11227839789888379,\n",
       "  'e': 0.0003270111183780249,\n",
       "  'b': 0.0003270111183780249,\n",
       "  'r': 0.0003270111183780249,\n",
       "  'y': 0.0003270111183780249,\n",
       "  'o': 0.0003270111183780249},\n",
       " 'stalk-shape': {'e': 0.262639527248851, 't': 0.737360472751149},\n",
       " 'stalk-root': {'e': 0.28365068942875904,\n",
       "  'c': 0.1680892974392646,\n",
       "  'b': 0.4852265265922521,\n",
       "  'r': 0.06303348653972422,\n",
       "  '?': 0.00032776138970829236},\n",
       " 'stalk-surface-above-ring': {'s': 0.8739330269205515,\n",
       "  'f': 0.12606697307944845,\n",
       "  'k': 0.0003278688524590164,\n",
       "  'y': 0.0003278688524590164},\n",
       " 'stalk-surface-below-ring': {'s': 0.8108995403808273,\n",
       "  'f': 0.12606697307944845,\n",
       "  'y': 0.06303348653972422,\n",
       "  'k': 0.0003278688524590164},\n",
       " 'stalk-color-above-ring': {'w': 0.6963230466185161,\n",
       "  'g': 0.15134602757715035,\n",
       "  'p': 0.15233092580433355,\n",
       "  'n': 0.0003273322422258593,\n",
       "  'b': 0.0003273322422258593,\n",
       "  'e': 0.0003273322422258593,\n",
       "  'o': 0.0003273322422258593,\n",
       "  'c': 0.0003273322422258593,\n",
       "  'y': 0.0003273322422258593},\n",
       " 'stalk-color-below-ring': {'w': 0.6943532501641497,\n",
       "  'p': 0.15233092580433355,\n",
       "  'g': 0.15331582403151675,\n",
       "  'b': 0.0003273322422258593,\n",
       "  'n': 0.0003273322422258593,\n",
       "  'e': 0.0003273322422258593,\n",
       "  'y': 0.0003273322422258593,\n",
       "  'o': 0.0003273322422258593,\n",
       "  'c': 0.0003273322422258593},\n",
       " 'veil-type': {'p': 1.0},\n",
       " 'veil-color': {'w': 1.0,\n",
       "  'n': 0.0003278688524590164,\n",
       "  'o': 0.0003278688524590164,\n",
       "  'y': 0.0003278688524590164},\n",
       " 'ring-number': {'o': 1.0,\n",
       "  't': 0.00032797638570022957,\n",
       "  'n': 0.00032797638570022957},\n",
       " 'ring-type': {'p': 0.747866053841103,\n",
       "  'e': 0.2521339461588969,\n",
       "  'l': 0.00032776138970829236,\n",
       "  'f': 0.00032776138970829236,\n",
       "  'n': 0.00032776138970829236},\n",
       " 'spore-print-color': {'k': 0.48752462245567957,\n",
       "  'n': 0.4967170059093894,\n",
       "  'u': 0.015758371634931056,\n",
       "  'h': 0.0003273322422258593,\n",
       "  'w': 0.0003273322422258593,\n",
       "  'r': 0.0003273322422258593,\n",
       "  'o': 0.0003273322422258593,\n",
       "  'y': 0.0003273322422258593,\n",
       "  'b': 0.0003273322422258593},\n",
       " 'population': {'s': 0.24162836506894286,\n",
       "  'n': 0.0840446487196323,\n",
       "  'a': 0.12606697307944845,\n",
       "  'v': 0.27380170715692714,\n",
       "  'y': 0.2744583059750492,\n",
       "  'c': 0.000327653997378768},\n",
       " 'habitat': {'u': 0.03151674326986211,\n",
       "  'g': 0.36769533814839134,\n",
       "  'm': 0.0840446487196323,\n",
       "  'd': 0.4852265265922521,\n",
       "  'p': 0.03151674326986211,\n",
       "  'w': 0.00032754667540124465,\n",
       "  'l': 0.00032754667540124465}}"
      ]
     },
     "execution_count": 10,
     "metadata": {},
     "output_type": "execute_result"
    }
   ],
   "source": [
    "e_class_estimate={}\n",
    "for series in interestdata.columns:\n",
    "    blankdict={}\n",
    "\n",
    "    for each in interestdata[series].unique():\n",
    "        a= len(e_training_data[e_training_data[series]==each])\n",
    "        b = len(e_training_data)\n",
    "        if a==0:\n",
    "            blankdict[each]=  (a+1) /(b+len(interestdata[series].unique()))\n",
    "        else:\n",
    "            blankdict[each]=  a /b\n",
    "    e_class_estimate[series]=blankdict\n",
    "e_class_estimate"
   ]
  },
  {
   "cell_type": "code",
   "execution_count": 32,
   "metadata": {},
   "outputs": [],
   "source": [
    "\n",
    "p_class_estimate={}\n",
    "for series in interestdata.columns:\n",
    "    blankdict={}\n",
    "\n",
    "    for each in interestdata[series].unique():\n",
    "        a= len(p_training_data[p_training_data[series]==each])\n",
    "        b = len(p_training_data)\n",
    "        if a==0:\n",
    "            blankdict[each]=  (a+1) /(b+len(interestdata[series].unique()))  #  laplace smoothening\n",
    "        else:\n",
    "            blankdict[each]=  a /b\n",
    "    p_class_estimate[series]=blankdict\n"
   ]
  },
  {
   "cell_type": "code",
   "execution_count": null,
   "metadata": {},
   "outputs": [],
   "source": []
  },
  {
   "cell_type": "code",
   "execution_count": null,
   "metadata": {},
   "outputs": [],
   "source": []
  },
  {
   "cell_type": "markdown",
   "metadata": {},
   "source": [
    "p_series_name=p_training_data.columns\n",
    "p_class_estimate={}\n",
    "for series in p_series_name:\n",
    "\n",
    "    p_class_estimate[series]=dict(zip(series,list(map(lambda each: (p_training_data[p_training_data[series]==each].shape[0]/p_training_data.shape[0]) ,p_training_data[series].unique()))))\n",
    "\n",
    "\n",
    "#p_class_estimate=dict(zip(p_series_name,map(lambda series :dict(zip(series,list(map(lambda each: (p_training_data[p_training_data[series]==each].shape[0]/p_training_data.shape[0]) ,p_training_data[series].unique()))))\n",
    "#,p_series_name))) \n",
    "p_class_estimate"
   ]
  },
  {
   "cell_type": "markdown",
   "metadata": {},
   "source": [
    "p_class_estimate"
   ]
  },
  {
   "cell_type": "markdown",
   "metadata": {},
   "source": [
    "t=[4,35,6,4,35,634,5,6]\n",
    "\n",
    "tt=list(map(lambda x:x**2,t))\n",
    "\n",
    "\n",
    "\n",
    "# lambda x:x**2     is equivalent to \n",
    "                                    #  def lambda(x):\n",
    "                                         #   return x**2"
   ]
  },
  {
   "cell_type": "markdown",
   "metadata": {},
   "source": [
    "dict(zip(series,list(map(lambda each: (p_training_data[p_training_data['class']==each].shape[0]/p_training_data.shape[0]) ,p_training_data['class'].unique()))))"
   ]
  },
  {
   "cell_type": "code",
   "execution_count": null,
   "metadata": {},
   "outputs": [],
   "source": []
  },
  {
   "cell_type": "code",
   "execution_count": null,
   "metadata": {},
   "outputs": [],
   "source": []
  },
  {
   "cell_type": "code",
   "execution_count": 19,
   "metadata": {},
   "outputs": [],
   "source": [
    "#using map and lambda\n",
    "\n",
    "#colnames=rawdata.columns[1:]\n",
    "\n",
    "\n",
    "#pdatatrainingfeaturevalues=   list(map(lambda x: p_data[x].unique(),colnames))\n",
    "\n",
    "\n",
    "#pdataestimateslistforpdata= []\n",
    "#for featurename,uniquefeaturvaluelist in zip(colnames,pdatatrainingfeaturevalues):\n",
    "#    pdataestimateslistforpdata.append(list(map(mylambda x: p_training_data[p_training_data[featurename]==x].shape[0]/p_training_data.shape[0],uniquefeaturvaluelist)))\n",
    "    \n",
    "#print(pdataestimateslistforpdata)\n",
    "\n",
    "    \n",
    "\n",
    "\n"
   ]
  },
  {
   "cell_type": "code",
   "execution_count": 20,
   "metadata": {},
   "outputs": [],
   "source": [
    "#  if any of the probability of a feature is zero\n",
    "\n",
    "# if any of the prior prob is zero, then posterior probability willl become 0 due to multiplication\n",
    "\n",
    "# to avoid this,we do LAPLACE SMOOTHENING\n",
    "\n",
    "pcape=e_data.shape[0]/interestdata.shape[0]\n",
    "\n",
    "pcapp = 1- pcape\n"
   ]
  },
  {
   "cell_type": "code",
   "execution_count": 35,
   "metadata": {},
   "outputs": [],
   "source": [
    "def multi_variate_naive_bayes_classifier(example):\n",
    "    \n",
    "    p_allfeaturevalues_e= 1       \n",
    "    p_allfeaturevalues_p= 1       \n",
    "   \n",
    "    for columnname in interestdata.columns:\n",
    "        p_allfeaturevalues_e *= e_class_estimate[columnname][example[columnname]]\n",
    "        p_allfeaturevalues_p *= p_class_estimate[columnname][example[columnname]]\n",
    "    \n",
    "    \n",
    "    numerator = p_allfeaturevalues_p  * pcapp\n",
    "   \n",
    "    secondpartofdenominator =  p_allfeaturevalues_e  * pcape\n",
    "    \n",
    "    denominator=  secondpartofdenominator  +     numerator\n",
    "    \n",
    "    p_p_allfeaturevalues= numerator / denominator\n",
    "\n",
    "    return p_p_allfeaturevalues"
   ]
  },
  {
   "cell_type": "code",
   "execution_count": 40,
   "metadata": {},
   "outputs": [],
   "source": [
    "truepositive=0\n",
    "truenegative=0\n",
    "falsepositive=0\n",
    "falsenegative=0\n",
    "#AIM for P\n",
    "for i in range(0,len(e_testing_data)):\n",
    "    p_p_allfeaturevalues =multi_variate_naive_bayes_classifier(e_testing_data.iloc[i,:])\n",
    "    if p_p_allfeaturevalues >= .5:\n",
    "        falsepositive+=1\n",
    "    \n",
    "    \n",
    "    \n",
    "for i in range(0,len(p_testing_data)):\n",
    "    p_p_allfeaturevalues =multi_variate_naive_bayes_classifier(p_testing_data.iloc[i,:])\n",
    "    if p_p_allfeaturevalues >= .5:\n",
    "        truepositive+=1\n",
    "    \n",
    "    \n",
    "falsenegative=len(p_testing_data)-truepositive\n",
    "truenegative=len(e_testing_data)-falsepositive\n",
    "    # Dr Gillbert Strang            "
   ]
  },
  {
   "cell_type": "code",
   "execution_count": 41,
   "metadata": {},
   "outputs": [
    {
     "name": "stdout",
     "output_type": "stream",
     "text": [
      "870\n",
      "0\n",
      "346\n",
      "816\n"
     ]
    }
   ],
   "source": [
    "print(truepositive)\n",
    "print(falsenegative)\n",
    "print(truenegative)\n",
    "print(falsepositive)\n",
    "\n",
    "    "
   ]
  },
  {
   "cell_type": "code",
   "execution_count": 38,
   "metadata": {},
   "outputs": [
    {
     "data": {
      "text/plain": [
       "0.5984251968503937"
      ]
     },
     "execution_count": 38,
     "metadata": {},
     "output_type": "execute_result"
    }
   ],
   "source": [
    "(truenegativecount+truepositivecount)/(truenegativecount+truepositivecount+falsenegativecount+falsepositivecount)"
   ]
  },
  {
   "cell_type": "code",
   "execution_count": 25,
   "metadata": {},
   "outputs": [
    {
     "data": {
      "text/plain": [
       "0.517971442639094"
      ]
     },
     "execution_count": 25,
     "metadata": {},
     "output_type": "execute_result"
    }
   ],
   "source": [
    "pcape"
   ]
  },
  {
   "cell_type": "code",
   "execution_count": null,
   "metadata": {},
   "outputs": [],
   "source": []
  },
  {
   "cell_type": "markdown",
   "metadata": {},
   "source": [
    "# applying Classifier using Libraries"
   ]
  },
  {
   "cell_type": "code",
   "execution_count": 161,
   "metadata": {},
   "outputs": [],
   "source": [
    "from sklearn.metrics import classification_report, confusion_matrix\n"
   ]
  },
  {
   "cell_type": "code",
   "execution_count": 162,
   "metadata": {},
   "outputs": [],
   "source": [
    "x=rawdata.drop(['class'],axis=1).values\n",
    "y=rawdata['class'].values"
   ]
  },
  {
   "cell_type": "code",
   "execution_count": 163,
   "metadata": {},
   "outputs": [],
   "source": [
    "from sklearn.preprocessing import LabelEncoder, OneHotEncoder\n",
    "labelencoder_x=LabelEncoder()\n",
    "labelencoder_y=LabelEncoder()\n",
    "\n",
    "\n",
    "for i in range(x.shape[1]):\n",
    "    x[:,i]=labelencoder_x.fit_transform(x[:,i])\n",
    "#     onehotencoder=OneHotEncoder(categorical_features=[i])  #dummy encoding\n",
    "#     x=onehotencoder.fit_transform(x).toarray()\n",
    "\n",
    "y=labelencoder_y.fit_transform(y)\n"
   ]
  },
  {
   "cell_type": "code",
   "execution_count": 164,
   "metadata": {},
   "outputs": [],
   "source": [
    "from sklearn.model_selection import train_test_split\n",
    "\n",
    "xtrain,xtest,ytrain,ytest = train_test_split(x,y,test_size=.25,random_state=42)"
   ]
  },
  {
   "cell_type": "markdown",
   "metadata": {},
   "source": [
    "# applying Gaussian naive bayse classifier"
   ]
  },
  {
   "cell_type": "code",
   "execution_count": null,
   "metadata": {},
   "outputs": [],
   "source": []
  },
  {
   "cell_type": "code",
   "execution_count": 188,
   "metadata": {},
   "outputs": [],
   "source": [
    "from sklearn.naive_bayes import GaussianNB\n",
    "classifierGaussianNB  = GaussianNB()\n",
    "\n",
    "classifierGaussianNB.fit(xtrain,ytrain)\n",
    "\n",
    "cfmGaussianNB=confusion_matrix(ytest,classifierGaussianNB.predict(xtest))\n",
    "\n",
    "reportGaussianNB=classification_report(ytest,classifierGaussianNB.predict(xtest))"
   ]
  },
  {
   "cell_type": "code",
   "execution_count": 189,
   "metadata": {},
   "outputs": [
    {
     "data": {
      "text/plain": [
       "'             precision    recall  f1-score   support\\n\\n          0       0.93      0.92      0.93      1040\\n          1       0.92      0.93      0.93       991\\n\\navg / total       0.93      0.93      0.93      2031\\n'"
      ]
     },
     "execution_count": 189,
     "metadata": {},
     "output_type": "execute_result"
    }
   ],
   "source": [
    "reportGaussianNB"
   ]
  },
  {
   "cell_type": "code",
   "execution_count": 190,
   "metadata": {},
   "outputs": [
    {
     "data": {
      "text/plain": [
       "array([[958,  82],\n",
       "       [ 67, 924]], dtype=int64)"
      ]
     },
     "execution_count": 190,
     "metadata": {},
     "output_type": "execute_result"
    }
   ],
   "source": [
    "cfmGaussianNB"
   ]
  },
  {
   "cell_type": "code",
   "execution_count": 191,
   "metadata": {},
   "outputs": [],
   "source": [
    "\n",
    "accuracyGaussianNB=(cfm[0,0]+cfm[1,1]) *100 / cfm.sum()"
   ]
  },
  {
   "cell_type": "code",
   "execution_count": 192,
   "metadata": {},
   "outputs": [
    {
     "data": {
      "text/plain": [
       "92.66371245691778"
      ]
     },
     "execution_count": 192,
     "metadata": {},
     "output_type": "execute_result"
    }
   ],
   "source": [
    "accuracyGaussianNB"
   ]
  },
  {
   "cell_type": "code",
   "execution_count": null,
   "metadata": {},
   "outputs": [],
   "source": []
  },
  {
   "cell_type": "markdown",
   "metadata": {},
   "source": [
    "# applying multinomial naive bayes classifier"
   ]
  },
  {
   "cell_type": "code",
   "execution_count": 193,
   "metadata": {},
   "outputs": [],
   "source": [
    "from sklearn.naive_bayes import MultinomialNB\n",
    "classifierMultinomialNB = MultinomialNB()\n",
    "\n",
    "classifierMultinomialNB.fit(xtrain,ytrain)\n",
    "\n",
    "cfmMultinomialNB=confusion_matrix(ytest,classifierMultinomialNB.predict(xtest))\n",
    "\n",
    "reportMultinomialNB=classification_report(ytest,classifierMultinomialNB.predict(xtest))"
   ]
  },
  {
   "cell_type": "code",
   "execution_count": 194,
   "metadata": {},
   "outputs": [
    {
     "data": {
      "text/plain": [
       "array([[973,  67],\n",
       "       [322, 669]], dtype=int64)"
      ]
     },
     "execution_count": 194,
     "metadata": {},
     "output_type": "execute_result"
    }
   ],
   "source": [
    "cfmMultinomialNB"
   ]
  },
  {
   "cell_type": "code",
   "execution_count": 199,
   "metadata": {},
   "outputs": [],
   "source": [
    "accuracyMultinomialNB=(cfmMultinomialNB[0,0]+cfmMultinomialNB[1,1]) *100 / cfmMultinomialNB.sum()"
   ]
  },
  {
   "cell_type": "code",
   "execution_count": 200,
   "metadata": {},
   "outputs": [
    {
     "data": {
      "text/plain": [
       "80.84687346134909"
      ]
     },
     "execution_count": 200,
     "metadata": {},
     "output_type": "execute_result"
    }
   ],
   "source": [
    "accuracyMultinomialNB"
   ]
  },
  {
   "cell_type": "code",
   "execution_count": null,
   "metadata": {},
   "outputs": [],
   "source": []
  }
 ],
 "metadata": {
  "kernelspec": {
   "display_name": "Python 3",
   "language": "python",
   "name": "python3"
  },
  "language_info": {
   "codemirror_mode": {
    "name": "ipython",
    "version": 3
   },
   "file_extension": ".py",
   "mimetype": "text/x-python",
   "name": "python",
   "nbconvert_exporter": "python",
   "pygments_lexer": "ipython3",
   "version": "3.6.8"
  }
 },
 "nbformat": 4,
 "nbformat_minor": 2
}
