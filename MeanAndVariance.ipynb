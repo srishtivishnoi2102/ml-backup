{
 "cells": [
  {
   "cell_type": "code",
   "execution_count": null,
   "metadata": {},
   "outputs": [],
   "source": [
    "import random as r\n",
    "n= int(input(\"enter number of readings: \"))\n",
    "m=float(input(\"Enter the mean: \"))\n",
    "v=float(input(\"Enter the Variance: \"))\n",
    "sd=v**.5\n",
    "readings=[]\n",
    "for i in range(0,n):\n",
    "    readings.append(m+r.uniform(-4,4)*sd)\n",
    "#print(readings)\n"
   ]
  },
  {
   "cell_type": "code",
   "execution_count": 2,
   "metadata": {},
   "outputs": [
    {
     "name": "stdout",
     "output_type": "stream",
     "text": [
      "Enter the number of bars in the graph: 20\n"
     ]
    }
   ],
   "source": [
    "num=int(input(\"Enter the number of bars in the graph: \"))\n"
   ]
  },
  {
   "cell_type": "markdown",
   "metadata": {},
   "source": []
  },
  {
   "cell_type": "code",
   "execution_count": 3,
   "metadata": {},
   "outputs": [
    {
     "name": "stdout",
     "output_type": "stream",
     "text": [
      "1.6733200530681516\n",
      "83.26679946931849\n",
      "116.73320053068151\n"
     ]
    }
   ],
   "source": [
    "minreading=m-4*sd\n",
    "maxreading=m+4*sd\n",
    "width=(maxreading-minreading)*1.0/num\n",
    "print(width)\n",
    "print(minreading)\n",
    "print(maxreading)"
   ]
  },
  {
   "cell_type": "code",
   "execution_count": 5,
   "metadata": {},
   "outputs": [
    {
     "name": "stdout",
     "output_type": "stream",
     "text": [
      "[84.10345949585256, 85.77677954892071, 87.45009960198887, 89.12341965505702, 90.79673970812516, 92.47005976119331, 94.14337981426146, 95.81669986732962, 97.49001992039777, 99.16333997346592, 100.83666002653408, 102.50998007960223, 104.18330013267038, 105.85662018573854, 107.52994023880669, 109.20326029187484, 110.876580344943, 112.54990039801115, 114.22322045107929, 115.89654050414744]\n",
      "[0.0021, 0.002, 0.0027, 0.0024, 0.0026, 0.0038, 0.0032, 0.0028, 0.0037, 0.004, 0.004, 0.0043, 0.0053, 0.0048, 0.0052, 0.0075, 0.007, 0.0075, 0.0082, 0.0085]\n"
     ]
    },
    {
     "data": {
      "image/png": "[encoded data removed]",
      "text/plain": [
       "<matplotlib.figure.Figure at 0x2b50e1effd0>"
      ]
     },
     "metadata": {},
     "output_type": "display_data"
    }
   ],
   "source": [
    "values=[]\n",
    "frequency=[]\n",
    "for i in range(0,num):\n",
    "    minn=minreading+i*width\n",
    "    maxx=minreading+(i+1)*width\n",
    "    f=0\n",
    "    \n",
    "    for x in readings:\n",
    "        if minn<=x<maxx :\n",
    "            f+=1\n",
    "            readings.remove(x)\n",
    "    frequency.append(f*1.0/n)\n",
    "    values.append((minn+maxx)/2)\n",
    "    \n",
    "\"\"\"    \n",
    "    for x in range(0,len(readings)):\n",
    "        if minn<=readings[x]<maxx :\n",
    "            f+=1\n",
    "            readings.remove(readings[x])\n",
    "    frequency.append(f*1.0/n)\n",
    "    values.append((minn+maxx)/2)\n",
    "    \"\"\"\n",
    "print(values)\n",
    "print(frequency)\n",
    "import matplotlib.pyplot as plt\n",
    "plt.bar(values,frequency ,width)    \n",
    "plt.show()\n",
    "\n",
    "\n",
    "\n",
    "\n",
    "        \n",
    "    "
   ]
  },
  {
   "cell_type": "code",
   "execution_count": 41,
   "metadata": {},
   "outputs": [
    {
     "ename": "ModuleNotFoundError",
     "evalue": "No module named 'pyplot'",
     "output_type": "error",
     "traceback": [
      "\u001b[1;31m---------------------------------------------------------------------------\u001b[0m",
      "\u001b[1;31mModuleNotFoundError\u001b[0m                       Traceback (most recent call last)",
      "\u001b[1;32m<ipython-input-41-ea248f081045>\u001b[0m in \u001b[0;36m<module>\u001b[1;34m()\u001b[0m\n\u001b[1;32m----> 1\u001b[1;33m \u001b[1;32mimport\u001b[0m \u001b[0mpyplot\u001b[0m\u001b[1;33m\u001b[0m\u001b[0m\n\u001b[0m",
      "\u001b[1;31mModuleNotFoundError\u001b[0m: No module named 'pyplot'"
     ]
    }
   ],
   "source": []
  },
  {
   "cell_type": "code",
   "execution_count": null,
   "metadata": {},
   "outputs": [],
   "source": []
  }
 ],
 "metadata": {
  "kernelspec": {
   "display_name": "Python 3",
   "language": "python",
   "name": "python3"
  },
  "language_info": {
   "codemirror_mode": {
    "name": "ipython",
    "version": 3
   },
   "file_extension": ".py",
   "mimetype": "text/x-python",
   "name": "python",
   "nbconvert_exporter": "python",
   "pygments_lexer": "ipython3",
   "version": "3.6.4"
  }
 },
 "nbformat": 4,
 "nbformat_minor": 2
}
