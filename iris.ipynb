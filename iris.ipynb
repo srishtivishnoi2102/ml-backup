{
 "cells": [
  {
   "cell_type": "code",
   "execution_count": 1,
   "metadata": {},
   "outputs": [],
   "source": [
    "import matplotlib.pyplot as plt\n",
    "import numpy as np\n",
    "from sklearn.datasets import load_iris"
   ]
  },
  {
   "cell_type": "code",
   "execution_count": 2,
   "metadata": {},
   "outputs": [],
   "source": [
    "iris=load_iris()"
   ]
  },
  {
   "cell_type": "code",
   "execution_count": 9,
   "metadata": {},
   "outputs": [],
   "source": [
    "x=iris.data\n",
    "y=iris.target\n"
   ]
  },
  {
   "cell_type": "code",
   "execution_count": 10,
   "metadata": {},
   "outputs": [],
   "source": [
    "\n",
    "i0=x[:,0]\n",
    "i1=x[:,1]\n",
    "i2=x[:,2]\n",
    "i3=x[:,3]\n"
   ]
  },
  {
   "cell_type": "code",
   "execution_count": 11,
   "metadata": {},
   "outputs": [],
   "source": [
    "non_versicolar_labels=[0 for i in range(100)]\n",
    "versicolar_labels=[1 for i in range(50)]"
   ]
  },
  {
   "cell_type": "code",
   "execution_count": 7,
   "metadata": {},
   "outputs": [],
   "source": [
    "y=np.concatenate([non_versicolar_labels,versicolar_labels])"
   ]
  },
  {
   "cell_type": "code",
   "execution_count": 14,
   "metadata": {},
   "outputs": [],
   "source": [
    "perm= np.random.permutation(150)"
   ]
  },
  {
   "cell_type": "code",
   "execution_count": 15,
   "metadata": {},
   "outputs": [
    {
     "data": {
      "text/plain": [
       "(150, 4)"
      ]
     },
     "execution_count": 15,
     "metadata": {},
     "output_type": "execute_result"
    }
   ],
   "source": [
    "x.shape"
   ]
  },
  {
   "cell_type": "code",
   "execution_count": 22,
   "metadata": {},
   "outputs": [],
   "source": [
    "xtrain,xtest=x[perm][20:],x[perm][:20]\n",
    "ytrain,ytest=y[perm][20:],y[perm][:20]"
   ]
  },
  {
   "cell_type": "code",
   "execution_count": 25,
   "metadata": {},
   "outputs": [],
   "source": [
    "ytrain=ytrain.reshape(-1,1)\n",
    "ytest=ytest.reshape(-1,1)"
   ]
  },
  {
   "cell_type": "code",
   "execution_count": 33,
   "metadata": {},
   "outputs": [],
   "source": [
    "def sigmoid(z):\n",
    "    return 1/(1+ np.exp(-z))"
   ]
  },
  {
   "cell_type": "code",
   "execution_count": 34,
   "metadata": {},
   "outputs": [],
   "source": [
    "def logistic_loss(y,yhat):\n",
    "    return -np.mean( y*np.log(yhat) + (1-y)*np.log(1-yhat) )"
   ]
  },
  {
   "cell_type": "code",
   "execution_count": 35,
   "metadata": {},
   "outputs": [],
   "source": [
    "w=np.zeros((4,1))\n",
    "b=np.zeros((1,1))\n",
    "learning_rate=0.01"
   ]
  },
  {
   "cell_type": "code",
   "execution_count": 37,
   "metadata": {},
   "outputs": [
    {
     "name": "stdout",
     "output_type": "stream",
     "text": [
      "0.13353398033951322\n",
      "0.13262671072061566\n",
      "0.13174205723402604\n",
      "0.13087908871814694\n",
      "0.13003692834378225\n",
      "0.12921474951391096\n",
      "0.12841177214077154\n",
      "0.12762725925952645\n",
      "0.12686051394280343\n",
      "0.12611087648473188\n",
      "0.12537772182684004\n",
      "0.1246604572014139\n",
      "0.12395851997073427\n",
      "0.12327137564306034\n",
      "0.12259851604836249\n",
      "0.12193945765868063\n",
      "0.12129374003962028\n",
      "0.1206609244209407\n",
      "0.12004059237545489\n",
      "0.11943234459657977\n",
      "0.1188357997658609\n",
      "0.11825059350267252\n",
      "0.11767637738906533\n",
      "0.11711281806342697\n",
      "0.11655959637722882\n",
      "0.11601640660968277\n",
      "0.11548295573561615\n",
      "0.11495896274231054\n",
      "0.11444415799143992\n",
      "0.11393828262259421\n",
      "0.11344108799518814\n",
      "0.11295233516583843\n",
      "0.11247179439854704\n",
      "0.11199924470525711\n",
      "0.11153447341455697\n",
      "0.11107727576649315\n",
      "0.11062745453162497\n",
      "0.11018481965260504\n",
      "0.10974918790671173\n",
      "0.10932038258788324\n",
      "0.1088982332069227\n",
      "0.10848257520864273\n",
      "0.10807324970481963\n",
      "0.10767010322190965\n",
      "0.10727298746256242\n",
      "0.1068817590800374\n",
      "0.10649627946469808\n",
      "0.10611641454181688\n",
      "0.10574203457998242\n",
      "0.10537301400944972\n",
      "0.1050092312498231\n",
      "0.10465056854650293\n",
      "0.10429691181536843\n",
      "0.1039481504952055\n",
      "0.10360417740742199\n",
      "0.10326488862262292\n",
      "0.10293018333364985\n",
      "0.10259996373471149\n",
      "0.10227413490626065\n",
      "0.10195260470529245\n",
      "0.10163528366076284\n",
      "0.10132208487384181\n",
      "0.10101292392273852\n",
      "0.10070771877184906\n",
      "0.10040638968499394\n",
      "0.1001088591425269\n",
      "0.0998150517621113\n",
      "0.0995248942229702\n",
      "0.09923831519343128\n",
      "0.09895524526159429\n",
      "0.09867561686896488\n",
      "0.09839936424690032\n",
      "0.09812642335572981\n",
      "0.0978567318264124\n",
      "0.09759022890461017\n",
      "0.09732685539705577\n",
      "0.09706655362010408\n",
      "0.09680926735036201\n",
      "0.09655494177729693\n",
      "0.09630352345773052\n",
      "0.09605496027212718\n",
      "0.09580920138259591\n",
      "0.0955661971925231\n",
      "0.09532589930776339\n",
      "0.09508826049931593\n",
      "0.09485323466742016\n",
      "0.09462077680700469\n",
      "0.09439084297443158\n",
      "0.09416339025547688\n",
      "0.09393837673449248\n"
     ]
    }
   ],
   "source": [
    "m=len(ytrain)\n",
    "\n",
    "for epoch in range(9000):\n",
    "    Z=np.matmul(xtrain,w) +b\n",
    "    A=sigmoid(Z)\n",
    "    loss=logistic_loss(ytrain,A)\n",
    "    dz=A-ytrain\n",
    "    dw= 1/m * np.matmul(xtrain.T,dz)\n",
    "    db=np.sum(dz)\n",
    "    w=w-learning_rate*dw\n",
    "    b=b-learning_rate*db\n",
    "    if epoch%100==0:\n",
    "        print(loss)"
   ]
  },
  {
   "cell_type": "code",
   "execution_count": 38,
   "metadata": {},
   "outputs": [
    {
     "data": {
      "text/plain": [
       "array([[-0.68415774],\n",
       "       [-0.75912109],\n",
       "       [ 3.84057606],\n",
       "       [ 3.0149191 ]])"
      ]
     },
     "execution_count": 38,
     "metadata": {},
     "output_type": "execute_result"
    }
   ],
   "source": [
    "w"
   ]
  },
  {
   "cell_type": "code",
   "execution_count": 39,
   "metadata": {},
   "outputs": [
    {
     "data": {
      "text/plain": [
       "array([[-17.28498363]])"
      ]
     },
     "execution_count": 39,
     "metadata": {},
     "output_type": "execute_result"
    }
   ],
   "source": [
    "b"
   ]
  },
  {
   "cell_type": "code",
   "execution_count": null,
   "metadata": {},
   "outputs": [],
   "source": []
  }
 ],
 "metadata": {
  "kernelspec": {
   "display_name": "Python 3",
   "language": "python",
   "name": "python3"
  },
  "language_info": {
   "codemirror_mode": {
    "name": "ipython",
    "version": 3
   },
   "file_extension": ".py",
   "mimetype": "text/x-python",
   "name": "python",
   "nbconvert_exporter": "python",
   "pygments_lexer": "ipython3",
   "version": "3.6.5"
  }
 },
 "nbformat": 4,
 "nbformat_minor": 2
}
