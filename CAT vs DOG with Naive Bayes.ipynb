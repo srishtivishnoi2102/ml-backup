{
 "cells": [
  {
   "cell_type": "code",
   "execution_count": 1,
   "metadata": {},
   "outputs": [],
   "source": [
    "from google_images_download import google_images_download"
   ]
  },
  {
   "cell_type": "code",
   "execution_count": 2,
   "metadata": {},
   "outputs": [],
   "source": [
    "import numpy as np\n",
    "import pandas as pd\n",
    "import matplotlib.pyplot as plt\n",
    "import os\n",
    "import cv2"
   ]
  },
  {
   "cell_type": "code",
   "execution_count": 3,
   "metadata": {},
   "outputs": [],
   "source": [
    "def download_image_from_google(imageName,count):\n",
    "    response=google_images_download.googleimagesdownload()\n",
    "    arguements={\"keywords\":imageName,\"limit\":count}\n",
    "    path=response.download(arguements)\n",
    "    print(path)"
   ]
  },
  {
   "cell_type": "code",
   "execution_count": 16,
   "metadata": {},
   "outputs": [
    {
     "name": "stdout",
     "output_type": "stream",
     "text": [
      "\n",
      "Item no.: 1 --> Item name = juicy_apple_jpg\n",
      "Evaluating...\n",
      "Starting Download...\n",
      "Completed Image ====> 1.15554020-juicy-apple-with-slice.jpg\n",
      "Completed Image ====> 2.juicy-green-apple-5575032.jpg\n",
      "URLError on an image...trying next one... Error: HTTP Error 403: Forbidden\n",
      "Completed Image ====> 3.granny-smith-apple.jpg\n",
      "Completed Image ====> 4.green-juicy-apple-vector-635088.jpg\n",
      "Completed Image ====> 5.500_F_106932717_J0UIDicqyGc3KlhK3AYIHGDaHwChZn9i.jpg\n",
      "Completed Image ====> 6.103153149-a-fruit-orchard-with-plenty-number-of-big-red-juicy-apple-in-the-sunlight.jpg\n",
      "Completed Image ====> 7.beautiful-single-red-juicy-apple-one-image-is-sliced-horizontally-with-purple-flower-PKWAX1.jpg\n",
      "Completed Image ====> 8.bright-of-colorful-juicy-apple-vector-21698885.jpg\n",
      "Completed Image ====> 9.juicy-apple-with-a-beautiful-apple-half-showing-the-core-house-red-nice-color-RPC7NJ.jpg\n",
      "Completed Image ====> 10.apple-rotate-still-1400x788.jpg\n",
      "URLError on an image...trying next one... Error: HTTP Error 403: Forbidden\n",
      "Completed Image ====> 11.apples_evercrisp.jpg\n",
      "Completed Image ====> 12.juicy-red-apples-250x250.jpg\n",
      "Completed Image ====> 13.depositphotos_146454987-stock-photo-juicy-apple-whole-and-cut.jpg\n",
      "Completed Image ====> 14.500_F_225278613_VfI0iYzzg3WRrlxTJRg1tFJKzXZG1s7M.jpg\n",
      "Completed Image ====> 15.Apple_juicy_cake_%282%29.jpg\n",
      "Completed Image ====> 16.63d943_18422678ba974b9db2e88aa9e50d8cc8~mv2.webp\n",
      "Completed Image ====> 17.80823933-red-and-juicy-apples-lie-in-a-box-on-the-counter.jpg\n",
      "Completed Image ====> 18.TT_Juicy-Apple-200g.jpg\n",
      "Completed Image ====> 19.148937d6926e566ccdcda93e4762def6_f30.jpg\n",
      "Completed Image ====> 20.800px-Cameo_apple.jpg\n",
      "Completed Image ====> 21.juicy-green-apples-headline-isolated-white-jpg-transparent-png-background-123808572.jpg\n",
      "Completed Image ====> 22.SHXF5A.jpg\n",
      "Completed Image ====> 23.juicy-red-apple-isolated-on-a-white-background-vector-21106456.jpg\n",
      "Completed Image ====> 24.500_F_230137475_q5kxvDWvCx6H9AwCUnt15PqTVLBybrtH.jpg\n",
      "Completed Image ====> 25.Juicy_Apple.jpg\n",
      "Completed Image ====> 26.magners-juicy-apple-32.1541473360.jpg\n",
      "Completed Image ====> 27.apples-634572_960_720.jpg\n",
      "Completed Image ====> 28.sliced-green-ripe-juicy-apple_23-2148145033.jpg\n",
      "Completed Image ====> 29.Juicy_Apples_by_I_Love_Salts_Nicotine_salt_eJuice_1024x1024_b6787708-9659-4077-976b-13479d35885f_800x.jpg\n",
      "Completed Image ====> 30.IMG_20170901_125140_394.jpg\n",
      "Completed Image ====> 31.depositphotos_2230766-stock-photo-juicy-red-apple.jpg\n",
      "Completed Image ====> 32.juicyapple_2000x2000_2_2.jpg\n",
      "Completed Image ====> 33.beautiful-ripe-and-juicy-apple-green-on-the-table-next-to-a-bowl-full-of-apples-PYEG6N.jpg\n",
      "Completed Image ====> 34.the-peeled-fruit-3404226_960_720.jpg\n",
      "Completed Image ====> 35.Juicy-Salt-Double-Apple.jpg\n",
      "Completed Image ====> 36.fxzbaetg2auc6qual4h9mua2ri2pennpdoqvt2wfqzmonoyoo3ivxl7gs6udxztr-.jpg\n",
      "Completed Image ====> 37.cc1juaredstda16.jpg\n",
      "URLError on an image...trying next one... Error: HTTP Error 404: Not Found\n",
      "Completed Image ====> 38.apples_rave.jpg\n",
      "Invalid or missing image format. Skipping...\n",
      "Completed Image ====> 39.chestnutdisplay.jpg\n",
      "Completed Image ====> 40.Magners-Cider-Juicy-Apple.jpg\n",
      "Completed Image ====> 41.YF-Web-Apples-Fuji.jpg\n",
      "Completed Image ====> 42.juicy-red-apple-on-white-705446.jpg\n",
      "Completed Image ====> 43.21233d73c6f6b8d753e33007b6af42ba-details.jpg\n",
      "Completed Image ====> 44.juicyapple_us_3000x3000_1_5.jpg\n",
      "Completed Image ====> 45.Juicy-Healthy-Fruit-Sweet-Red-Fresh-Green-Apple-4085639.jpg\n",
      "Completed Image ====> 46.juicy-apple-maureen-myant.jpg\n",
      "Completed Image ====> 47.2017-05-13-10-47-04.jpg\n",
      "Completed Image ====> 48.JUICY-APPLES-BY-I-LOVE-SALTS-BY-MAD-HATTER-Main.jpg\n",
      "Completed Image ====> 49.stock-photo-beautiful-ripe-juicy-apple-on-a-white-background-the-image-from-different-angles-786961639.jpg\n",
      "Completed Image ====> 50.84674984-top-view-of-red-and-green-juicy-apples-in-a-row-one-red-apple-in-a-row-with-green-apples-one-green-a.jpg\n",
      "Completed Image ====> 51.61DiJkgrJ8L._SX679_.jpg\n",
      "Completed Image ====> 52.20190511.1557578415.SNCPSG10.obj.0.1.jpg\n",
      "Completed Image ====> 53.Mutsu_apple.jpg\n",
      "Completed Image ====> 54.vector-illustration-of-a-juicy-green-apple.jpg\n",
      "Completed Image ====> 55.apple-red-01_07c-.jpg\n",
      "Completed Image ====> 56.500_F_215643130_3bFanMUCPQGk5ziybyxPYFyugxHFwvxp.jpg\n",
      "Invalid or missing image format. Skipping...\n",
      "Completed Image ====> 57.ONLINE_61.jpg\n",
      "Completed Image ====> 58.juicy-pomme-raisin-par-liquideo-gamme-tentation.jpg\n",
      "Completed Image ====> 59.HVG_Juicy-Apple_One-Pound-Vape-E-liquid_Product-Image.jpg\n",
      "Completed Image ====> 60.juicy-apple-salim-october.jpg\n",
      "Completed Image ====> 61.juicy-red-apple-i-Download-Royalty-free-Vector-File-EPS-90679.jpg\n",
      "Completed Image ====> 62.stadelmans-apple-gala.jpg\n",
      "Completed Image ====> 63.Apples2018_v1_04.jpg\n",
      "Completed Image ====> 64.stock-photo-juicy-ripe-red-apple-isolated-on-white-background-687789.jpg\n",
      "Completed Image ====> 65.05207_1400x.jpg\n",
      "IOError on an image...trying next one... Error: The read operation timed out\n",
      "Completed Image ====> 66.Delicious-Apple-Food-Fruit-Healthy-Fresh-Juicy-3067635.jpg\n",
      "Completed Image ====> 67.fresh-juicy-apple-stock-picture-996858.jpg\n",
      "Completed Image ====> 68.Bright-Red-Juicy-Apple-Fruit-Fresh-Diet-Food-Isolated-White-Background-15925.jpg\n",
      "Completed Image ====> 69.pngtree-vector-illustration-of-a-juicy-apple-png-image_3567079.jpg\n",
      "Completed Image ====> 70.beautiful-ripe-juicy-apple-on-600w-786961636.jpg\n",
      "Completed Image ====> 71.igorr160600113.jpg\n",
      "Completed Image ====> 72.67462340207.jpg\n",
      "Completed Image ====> 73.storyblocks-close-up-of-ripe-juicy-apples-on-wooden-table-home-grown-organic-apples-and-knife-on-rustic-table-background_HD7IBk_U7_SB_PM.jpg\n",
      "Completed Image ====> 74.delicious-juicy-apple-baking-cut-across-wooden-table_76263-123.jpg\n",
      "Completed Image ====> 75.66b0ff_bbae47e366af41eab742af709d2d25b6~mv2_d_1500_1500_s_2.jpg\n",
      "Completed Image ====> 76.8d392d9e35d8c770309a21d6933563ed.jpg\n",
      "Completed Image ====> 77.Juicy-Apples_bc6644fb-5a3f-4cfd-8693-3284a346277c_600x.jpg\n",
      "Invalid or missing image format. Skipping...\n",
      "Completed Image ====> 78.DqDjmhlXQAEBA2x.jpg\n",
      "Completed Image ====> 79.depositphotos_248332434-stock-illustration-gradient-shaded-cartoon-juicy-apple.jpg\n",
      "Completed Image ====> 80.malu_wilz_juicy_apple_facebook.jpg\n",
      "Completed Image ====> 81.hqdefault.jpg\n",
      "Completed Image ====> 82.Hot-Sale-New-Crop-Sweet-Juicy-Fresh-Red-FUJI-Apple.jpg\n",
      "Completed Image ====> 83.262219552.jpg\n",
      "Completed Image ====> 84.625158.jpg\n",
      "Completed Image ====> 85.800px_COLOURBOX8537982.jpg\n",
      "Completed Image ====> 86.septemberruby2.jpg\n",
      "Completed Image ====> 87.500_F_36168086_ryvoHmgrZpLmaimDyEWtLAnfM7T4bNXI.jpg\n",
      "URLError on an image...trying next one... Error: <urlopen error timed out>\n",
      "Completed Image ====> 88.WXTXE.jpg\n",
      "Completed Image ====> 89.326497011_0_640x640.jpg\n",
      "Completed Image ====> 90.juicy-apple-stock-picture-1968979.jpg\n",
      "Completed Image ====> 91.apple-1789547_960_720.jpg\n",
      "Completed Image ====> 92.46298406154_123b8c337d_b.jpg\n",
      "\n",
      "\n",
      "Unfortunately all 100 could not be downloaded because some images were not downloadable. 92 is all we got for this search filter!\n",
      "\n",
      "Errors: 8\n",
      "\n",
      "({'juicy_apple_jpg': ['C:\\\\Users\\\\Srishti Vishnoi\\\\MachineLearning\\\\downloads\\\\juicy_apple_jpg\\\\1.15554020-juicy-apple-with-slice.jpg', 'C:\\\\Users\\\\Srishti Vishnoi\\\\MachineLearning\\\\downloads\\\\juicy_apple_jpg\\\\2.juicy-green-apple-5575032.jpg', 'C:\\\\Users\\\\Srishti Vishnoi\\\\MachineLearning\\\\downloads\\\\juicy_apple_jpg\\\\3.granny-smith-apple.jpg', 'C:\\\\Users\\\\Srishti Vishnoi\\\\MachineLearning\\\\downloads\\\\juicy_apple_jpg\\\\4.green-juicy-apple-vector-635088.jpg', 'C:\\\\Users\\\\Srishti Vishnoi\\\\MachineLearning\\\\downloads\\\\juicy_apple_jpg\\\\5.500_F_106932717_J0UIDicqyGc3KlhK3AYIHGDaHwChZn9i.jpg', 'C:\\\\Users\\\\Srishti Vishnoi\\\\MachineLearning\\\\downloads\\\\juicy_apple_jpg\\\\6.103153149-a-fruit-orchard-with-plenty-number-of-big-red-juicy-apple-in-the-sunlight.jpg', 'C:\\\\Users\\\\Srishti Vishnoi\\\\MachineLearning\\\\downloads\\\\juicy_apple_jpg\\\\7.beautiful-single-red-juicy-apple-one-image-is-sliced-horizontally-with-purple-flower-PKWAX1.jpg', 'C:\\\\Users\\\\Srishti Vishnoi\\\\MachineLearning\\\\downloads\\\\juicy_apple_jpg\\\\8.bright-of-colorful-juicy-apple-vector-21698885.jpg', 'C:\\\\Users\\\\Srishti Vishnoi\\\\MachineLearning\\\\downloads\\\\juicy_apple_jpg\\\\9.juicy-apple-with-a-beautiful-apple-half-showing-the-core-house-red-nice-color-RPC7NJ.jpg', 'C:\\\\Users\\\\Srishti Vishnoi\\\\MachineLearning\\\\downloads\\\\juicy_apple_jpg\\\\10.apple-rotate-still-1400x788.jpg', 'C:\\\\Users\\\\Srishti Vishnoi\\\\MachineLearning\\\\downloads\\\\juicy_apple_jpg\\\\11.apples_evercrisp.jpg', 'C:\\\\Users\\\\Srishti Vishnoi\\\\MachineLearning\\\\downloads\\\\juicy_apple_jpg\\\\12.juicy-red-apples-250x250.jpg', 'C:\\\\Users\\\\Srishti Vishnoi\\\\MachineLearning\\\\downloads\\\\juicy_apple_jpg\\\\13.depositphotos_146454987-stock-photo-juicy-apple-whole-and-cut.jpg', 'C:\\\\Users\\\\Srishti Vishnoi\\\\MachineLearning\\\\downloads\\\\juicy_apple_jpg\\\\14.500_F_225278613_VfI0iYzzg3WRrlxTJRg1tFJKzXZG1s7M.jpg', 'C:\\\\Users\\\\Srishti Vishnoi\\\\MachineLearning\\\\downloads\\\\juicy_apple_jpg\\\\15.Apple_juicy_cake_%282%29.jpg', 'C:\\\\Users\\\\Srishti Vishnoi\\\\MachineLearning\\\\downloads\\\\juicy_apple_jpg\\\\16.63d943_18422678ba974b9db2e88aa9e50d8cc8~mv2.webp', 'C:\\\\Users\\\\Srishti Vishnoi\\\\MachineLearning\\\\downloads\\\\juicy_apple_jpg\\\\17.80823933-red-and-juicy-apples-lie-in-a-box-on-the-counter.jpg', 'C:\\\\Users\\\\Srishti Vishnoi\\\\MachineLearning\\\\downloads\\\\juicy_apple_jpg\\\\18.TT_Juicy-Apple-200g.jpg', 'C:\\\\Users\\\\Srishti Vishnoi\\\\MachineLearning\\\\downloads\\\\juicy_apple_jpg\\\\19.148937d6926e566ccdcda93e4762def6_f30.jpg', 'C:\\\\Users\\\\Srishti Vishnoi\\\\MachineLearning\\\\downloads\\\\juicy_apple_jpg\\\\20.800px-Cameo_apple.jpg', 'C:\\\\Users\\\\Srishti Vishnoi\\\\MachineLearning\\\\downloads\\\\juicy_apple_jpg\\\\21.juicy-green-apples-headline-isolated-white-jpg-transparent-png-background-123808572.jpg', 'C:\\\\Users\\\\Srishti Vishnoi\\\\MachineLearning\\\\downloads\\\\juicy_apple_jpg\\\\22.SHXF5A.jpg', 'C:\\\\Users\\\\Srishti Vishnoi\\\\MachineLearning\\\\downloads\\\\juicy_apple_jpg\\\\23.juicy-red-apple-isolated-on-a-white-background-vector-21106456.jpg', 'C:\\\\Users\\\\Srishti Vishnoi\\\\MachineLearning\\\\downloads\\\\juicy_apple_jpg\\\\24.500_F_230137475_q5kxvDWvCx6H9AwCUnt15PqTVLBybrtH.jpg', 'C:\\\\Users\\\\Srishti Vishnoi\\\\MachineLearning\\\\downloads\\\\juicy_apple_jpg\\\\25.Juicy_Apple.jpg', 'C:\\\\Users\\\\Srishti Vishnoi\\\\MachineLearning\\\\downloads\\\\juicy_apple_jpg\\\\26.magners-juicy-apple-32.1541473360.jpg', 'C:\\\\Users\\\\Srishti Vishnoi\\\\MachineLearning\\\\downloads\\\\juicy_apple_jpg\\\\27.apples-634572_960_720.jpg', 'C:\\\\Users\\\\Srishti Vishnoi\\\\MachineLearning\\\\downloads\\\\juicy_apple_jpg\\\\28.sliced-green-ripe-juicy-apple_23-2148145033.jpg', 'C:\\\\Users\\\\Srishti Vishnoi\\\\MachineLearning\\\\downloads\\\\juicy_apple_jpg\\\\29.Juicy_Apples_by_I_Love_Salts_Nicotine_salt_eJuice_1024x1024_b6787708-9659-4077-976b-13479d35885f_800x.jpg', 'C:\\\\Users\\\\Srishti Vishnoi\\\\MachineLearning\\\\downloads\\\\juicy_apple_jpg\\\\30.IMG_20170901_125140_394.jpg', 'C:\\\\Users\\\\Srishti Vishnoi\\\\MachineLearning\\\\downloads\\\\juicy_apple_jpg\\\\31.depositphotos_2230766-stock-photo-juicy-red-apple.jpg', 'C:\\\\Users\\\\Srishti Vishnoi\\\\MachineLearning\\\\downloads\\\\juicy_apple_jpg\\\\32.juicyapple_2000x2000_2_2.jpg', 'C:\\\\Users\\\\Srishti Vishnoi\\\\MachineLearning\\\\downloads\\\\juicy_apple_jpg\\\\33.beautiful-ripe-and-juicy-apple-green-on-the-table-next-to-a-bowl-full-of-apples-PYEG6N.jpg', 'C:\\\\Users\\\\Srishti Vishnoi\\\\MachineLearning\\\\downloads\\\\juicy_apple_jpg\\\\34.the-peeled-fruit-3404226_960_720.jpg', 'C:\\\\Users\\\\Srishti Vishnoi\\\\MachineLearning\\\\downloads\\\\juicy_apple_jpg\\\\35.Juicy-Salt-Double-Apple.jpg', 'C:\\\\Users\\\\Srishti Vishnoi\\\\MachineLearning\\\\downloads\\\\juicy_apple_jpg\\\\36.fxzbaetg2auc6qual4h9mua2ri2pennpdoqvt2wfqzmonoyoo3ivxl7gs6udxztr-.jpg', 'C:\\\\Users\\\\Srishti Vishnoi\\\\MachineLearning\\\\downloads\\\\juicy_apple_jpg\\\\37.cc1juaredstda16.jpg', 'C:\\\\Users\\\\Srishti Vishnoi\\\\MachineLearning\\\\downloads\\\\juicy_apple_jpg\\\\38.apples_rave.jpg', 'C:\\\\Users\\\\Srishti Vishnoi\\\\MachineLearning\\\\downloads\\\\juicy_apple_jpg\\\\39.chestnutdisplay.jpg', 'C:\\\\Users\\\\Srishti Vishnoi\\\\MachineLearning\\\\downloads\\\\juicy_apple_jpg\\\\40.Magners-Cider-Juicy-Apple.jpg', 'C:\\\\Users\\\\Srishti Vishnoi\\\\MachineLearning\\\\downloads\\\\juicy_apple_jpg\\\\41.YF-Web-Apples-Fuji.jpg', 'C:\\\\Users\\\\Srishti Vishnoi\\\\MachineLearning\\\\downloads\\\\juicy_apple_jpg\\\\42.juicy-red-apple-on-white-705446.jpg', 'C:\\\\Users\\\\Srishti Vishnoi\\\\MachineLearning\\\\downloads\\\\juicy_apple_jpg\\\\43.21233d73c6f6b8d753e33007b6af42ba-details.jpg', 'C:\\\\Users\\\\Srishti Vishnoi\\\\MachineLearning\\\\downloads\\\\juicy_apple_jpg\\\\44.juicyapple_us_3000x3000_1_5.jpg', 'C:\\\\Users\\\\Srishti Vishnoi\\\\MachineLearning\\\\downloads\\\\juicy_apple_jpg\\\\45.Juicy-Healthy-Fruit-Sweet-Red-Fresh-Green-Apple-4085639.jpg', 'C:\\\\Users\\\\Srishti Vishnoi\\\\MachineLearning\\\\downloads\\\\juicy_apple_jpg\\\\46.juicy-apple-maureen-myant.jpg', 'C:\\\\Users\\\\Srishti Vishnoi\\\\MachineLearning\\\\downloads\\\\juicy_apple_jpg\\\\47.2017-05-13-10-47-04.jpg', 'C:\\\\Users\\\\Srishti Vishnoi\\\\MachineLearning\\\\downloads\\\\juicy_apple_jpg\\\\48.JUICY-APPLES-BY-I-LOVE-SALTS-BY-MAD-HATTER-Main.jpg', 'C:\\\\Users\\\\Srishti Vishnoi\\\\MachineLearning\\\\downloads\\\\juicy_apple_jpg\\\\49.stock-photo-beautiful-ripe-juicy-apple-on-a-white-background-the-image-from-different-angles-786961639.jpg', 'C:\\\\Users\\\\Srishti Vishnoi\\\\MachineLearning\\\\downloads\\\\juicy_apple_jpg\\\\50.84674984-top-view-of-red-and-green-juicy-apples-in-a-row-one-red-apple-in-a-row-with-green-apples-one-green-a.jpg', 'C:\\\\Users\\\\Srishti Vishnoi\\\\MachineLearning\\\\downloads\\\\juicy_apple_jpg\\\\51.61DiJkgrJ8L._SX679_.jpg', 'C:\\\\Users\\\\Srishti Vishnoi\\\\MachineLearning\\\\downloads\\\\juicy_apple_jpg\\\\52.20190511.1557578415.SNCPSG10.obj.0.1.jpg', 'C:\\\\Users\\\\Srishti Vishnoi\\\\MachineLearning\\\\downloads\\\\juicy_apple_jpg\\\\53.Mutsu_apple.jpg', 'C:\\\\Users\\\\Srishti Vishnoi\\\\MachineLearning\\\\downloads\\\\juicy_apple_jpg\\\\54.vector-illustration-of-a-juicy-green-apple.jpg', 'C:\\\\Users\\\\Srishti Vishnoi\\\\MachineLearning\\\\downloads\\\\juicy_apple_jpg\\\\55.apple-red-01_07c-.jpg', 'C:\\\\Users\\\\Srishti Vishnoi\\\\MachineLearning\\\\downloads\\\\juicy_apple_jpg\\\\56.500_F_215643130_3bFanMUCPQGk5ziybyxPYFyugxHFwvxp.jpg', 'C:\\\\Users\\\\Srishti Vishnoi\\\\MachineLearning\\\\downloads\\\\juicy_apple_jpg\\\\57.ONLINE_61.jpg', 'C:\\\\Users\\\\Srishti Vishnoi\\\\MachineLearning\\\\downloads\\\\juicy_apple_jpg\\\\58.juicy-pomme-raisin-par-liquideo-gamme-tentation.jpg', 'C:\\\\Users\\\\Srishti Vishnoi\\\\MachineLearning\\\\downloads\\\\juicy_apple_jpg\\\\59.HVG_Juicy-Apple_One-Pound-Vape-E-liquid_Product-Image.jpg', 'C:\\\\Users\\\\Srishti Vishnoi\\\\MachineLearning\\\\downloads\\\\juicy_apple_jpg\\\\60.juicy-apple-salim-october.jpg', 'C:\\\\Users\\\\Srishti Vishnoi\\\\MachineLearning\\\\downloads\\\\juicy_apple_jpg\\\\61.juicy-red-apple-i-Download-Royalty-free-Vector-File-EPS-90679.jpg', 'C:\\\\Users\\\\Srishti Vishnoi\\\\MachineLearning\\\\downloads\\\\juicy_apple_jpg\\\\62.stadelmans-apple-gala.jpg', 'C:\\\\Users\\\\Srishti Vishnoi\\\\MachineLearning\\\\downloads\\\\juicy_apple_jpg\\\\63.Apples2018_v1_04.jpg', 'C:\\\\Users\\\\Srishti Vishnoi\\\\MachineLearning\\\\downloads\\\\juicy_apple_jpg\\\\64.stock-photo-juicy-ripe-red-apple-isolated-on-white-background-687789.jpg', 'C:\\\\Users\\\\Srishti Vishnoi\\\\MachineLearning\\\\downloads\\\\juicy_apple_jpg\\\\65.05207_1400x.jpg', 'C:\\\\Users\\\\Srishti Vishnoi\\\\MachineLearning\\\\downloads\\\\juicy_apple_jpg\\\\66.Delicious-Apple-Food-Fruit-Healthy-Fresh-Juicy-3067635.jpg', 'C:\\\\Users\\\\Srishti Vishnoi\\\\MachineLearning\\\\downloads\\\\juicy_apple_jpg\\\\67.fresh-juicy-apple-stock-picture-996858.jpg', 'C:\\\\Users\\\\Srishti Vishnoi\\\\MachineLearning\\\\downloads\\\\juicy_apple_jpg\\\\68.Bright-Red-Juicy-Apple-Fruit-Fresh-Diet-Food-Isolated-White-Background-15925.jpg', 'C:\\\\Users\\\\Srishti Vishnoi\\\\MachineLearning\\\\downloads\\\\juicy_apple_jpg\\\\69.pngtree-vector-illustration-of-a-juicy-apple-png-image_3567079.jpg', 'C:\\\\Users\\\\Srishti Vishnoi\\\\MachineLearning\\\\downloads\\\\juicy_apple_jpg\\\\70.beautiful-ripe-juicy-apple-on-600w-786961636.jpg', 'C:\\\\Users\\\\Srishti Vishnoi\\\\MachineLearning\\\\downloads\\\\juicy_apple_jpg\\\\71.igorr160600113.jpg', 'C:\\\\Users\\\\Srishti Vishnoi\\\\MachineLearning\\\\downloads\\\\juicy_apple_jpg\\\\72.67462340207.jpg', 'C:\\\\Users\\\\Srishti Vishnoi\\\\MachineLearning\\\\downloads\\\\juicy_apple_jpg\\\\73.storyblocks-close-up-of-ripe-juicy-apples-on-wooden-table-home-grown-organic-apples-and-knife-on-rustic-table-background_HD7IBk_U7_SB_PM.jpg', 'C:\\\\Users\\\\Srishti Vishnoi\\\\MachineLearning\\\\downloads\\\\juicy_apple_jpg\\\\74.delicious-juicy-apple-baking-cut-across-wooden-table_76263-123.jpg', 'C:\\\\Users\\\\Srishti Vishnoi\\\\MachineLearning\\\\downloads\\\\juicy_apple_jpg\\\\75.66b0ff_bbae47e366af41eab742af709d2d25b6~mv2_d_1500_1500_s_2.jpg', 'C:\\\\Users\\\\Srishti Vishnoi\\\\MachineLearning\\\\downloads\\\\juicy_apple_jpg\\\\76.8d392d9e35d8c770309a21d6933563ed.jpg', 'C:\\\\Users\\\\Srishti Vishnoi\\\\MachineLearning\\\\downloads\\\\juicy_apple_jpg\\\\77.Juicy-Apples_bc6644fb-5a3f-4cfd-8693-3284a346277c_600x.jpg', 'C:\\\\Users\\\\Srishti Vishnoi\\\\MachineLearning\\\\downloads\\\\juicy_apple_jpg\\\\78.DqDjmhlXQAEBA2x.jpg', 'C:\\\\Users\\\\Srishti Vishnoi\\\\MachineLearning\\\\downloads\\\\juicy_apple_jpg\\\\79.depositphotos_248332434-stock-illustration-gradient-shaded-cartoon-juicy-apple.jpg', 'C:\\\\Users\\\\Srishti Vishnoi\\\\MachineLearning\\\\downloads\\\\juicy_apple_jpg\\\\80.malu_wilz_juicy_apple_facebook.jpg', 'C:\\\\Users\\\\Srishti Vishnoi\\\\MachineLearning\\\\downloads\\\\juicy_apple_jpg\\\\81.hqdefault.jpg', 'C:\\\\Users\\\\Srishti Vishnoi\\\\MachineLearning\\\\downloads\\\\juicy_apple_jpg\\\\82.Hot-Sale-New-Crop-Sweet-Juicy-Fresh-Red-FUJI-Apple.jpg', 'C:\\\\Users\\\\Srishti Vishnoi\\\\MachineLearning\\\\downloads\\\\juicy_apple_jpg\\\\83.262219552.jpg', 'C:\\\\Users\\\\Srishti Vishnoi\\\\MachineLearning\\\\downloads\\\\juicy_apple_jpg\\\\84.625158.jpg', 'C:\\\\Users\\\\Srishti Vishnoi\\\\MachineLearning\\\\downloads\\\\juicy_apple_jpg\\\\85.800px_COLOURBOX8537982.jpg', 'C:\\\\Users\\\\Srishti Vishnoi\\\\MachineLearning\\\\downloads\\\\juicy_apple_jpg\\\\86.septemberruby2.jpg', 'C:\\\\Users\\\\Srishti Vishnoi\\\\MachineLearning\\\\downloads\\\\juicy_apple_jpg\\\\87.500_F_36168086_ryvoHmgrZpLmaimDyEWtLAnfM7T4bNXI.jpg', 'C:\\\\Users\\\\Srishti Vishnoi\\\\MachineLearning\\\\downloads\\\\juicy_apple_jpg\\\\88.WXTXE.jpg', 'C:\\\\Users\\\\Srishti Vishnoi\\\\MachineLearning\\\\downloads\\\\juicy_apple_jpg\\\\89.326497011_0_640x640.jpg', 'C:\\\\Users\\\\Srishti Vishnoi\\\\MachineLearning\\\\downloads\\\\juicy_apple_jpg\\\\90.juicy-apple-stock-picture-1968979.jpg', 'C:\\\\Users\\\\Srishti Vishnoi\\\\MachineLearning\\\\downloads\\\\juicy_apple_jpg\\\\91.apple-1789547_960_720.jpg', 'C:\\\\Users\\\\Srishti Vishnoi\\\\MachineLearning\\\\downloads\\\\juicy_apple_jpg\\\\92.46298406154_123b8c337d_b.jpg']}, 8)\n"
     ]
    }
   ],
   "source": [
    "download_image_from_google(\"juicy_apple_jpg\",100)"
   ]
  },
  {
   "cell_type": "code",
   "execution_count": null,
   "metadata": {},
   "outputs": [
    {
     "name": "stdout",
     "output_type": "stream",
     "text": [
      "\n",
      "Item no.: 1 --> Item name = mango_jpg\n",
      "Evaluating...\n",
      "Starting Download...\n",
      "Completed Image ====> 1.Mango_BNC.jpg\n",
      "Completed Image ====> 2.Mango_4.jpg\n",
      "Completed Image ====> 3.6270mango.jpg\n",
      "Completed Image ====> 4.Mango_and_cross_section_edit.jpg\n",
      "Completed Image ====> 5.Mango_hedgehog.jpg\n",
      "Completed Image ====> 6.depositphotos_36983317-stock-photo-mango.jpg\n",
      "Completed Image ====> 7.2480153-mango.jpg\n",
      "Completed Image ====> 8.National-Fruit-ili-71-img-7.jpg\n",
      "Completed Image ====> 9.mango-6.jpg\n",
      "Completed Image ====> 10.mango.jpg\n",
      "Completed Image ====> 11.cut+mango.jpg\n",
      "Completed Image ====> 12.mango.jpg\n",
      "Completed Image ====> 13.Big_mango.jpg\n",
      "Completed Image ====> 14.buy-ratnagiri-alphonso-mango.jpg\n",
      "Completed Image ====> 15.Green_mango.jpg\n",
      "Completed Image ====> 16.National-Fruit-ili-71-img-1.jpg\n",
      "Completed Image ====> 17.mango.jpg\n",
      "Completed Image ====> 18.mango.jpg\n",
      "Completed Image ====> 19.health-benefits-of-mango-200-200.jpg\n",
      "Completed Image ====> 20.mango.jpg\n",
      "Completed Image ====> 21.manga-assortiment-torres-tropical.jpg\n",
      "Completed Image ====> 22.xmango-1300x860.jpg\n",
      "Completed Image ====> 23.Banganapalli-Mango.jpg\n",
      "Completed Image ====> 24.322096_1100.jpg\n",
      "Completed Image ====> 25.mango-by-air-assortiment-torres-tropical.jpg\n",
      "URLError on an image...trying next one... Error: HTTP Error 404: Not Found\n",
      "Completed Image ====> 26.1553673084.jpg\n",
      "Completed Image ====> 27.mango.jpg\n",
      "Completed Image ====> 28.MANGO-buena.jpg\n",
      "Completed Image ====> 29.mango.jpg\n",
      "Completed Image ====> 30.Papa.jpg\n",
      "Completed Image ====> 31.Lead%20Image%20(2).jpg\n",
      "Completed Image ====> 32.Ethiopia-Mangoes_Selina-Wamucii.jpg\n",
      "Completed Image ====> 33.Sinduri-mango.jpg\n",
      "Completed Image ====> 34.mango.jpg\n",
      "Completed Image ====> 35.mango-wallpapers_608530078.jpg\n",
      "URLError on an image...trying next one... Error: HTTP Error 500: Internal Server Error\n",
      "Completed Image ====> 36.pakistani-mango-3kg.jpg\n",
      "Completed Image ====> 37.sticky-rice-with-mango.jpg\n",
      "Completed Image ====> 38..jpg\n",
      "Completed Image ====> 39.Jean_Ellen_mango.JPG\n",
      "Completed Image ====> 40.mango-offers-nutritional-benefits.jpg\n",
      "Completed Image ====> 41.20190610-philippine-mangoes_974134BCCF17414E936D70ECC8154E08.jpg\n",
      "Completed Image ====> 42.195794a36e2cc29.jpg\n",
      "Completed Image ====> 43.mango_1400x.progressive.jpg\n",
      "Completed Image ====> 44.mango.jpg\n",
      "Completed Image ====> 45.mangos.jpg\n",
      "Completed Image ====> 46.ataulfo-mango.jpg\n",
      "Completed Image ====> 47.58454975.jpg\n",
      "Completed Image ====> 48.mangoes_625x300_1527514629119.jpg\n",
      "Completed Image ====> 49.mango.jpg\n",
      "Completed Image ====> 50.mango.jpg\n",
      "Completed Image ====> 51.173136-mangoes.jpg\n",
      "Completed Image ====> 52.Winter+Large.jpg\n",
      "Completed Image ====> 53.Alphonso_mango.jpg\n",
      "Completed Image ====> 54.mangoes.jpg\n",
      "Completed Image ====> 55.53138277.jpg\n",
      "Completed Image ====> 56.Enaet%20Pasand.jpg\n",
      "Completed Image ====> 57.mango.jpg\n",
      "Completed Image ====> 58.mangocut.jpg\n",
      "Completed Image ====> 59.Mango-Sandesh-665x443.jpg\n",
      "Completed Image ====> 60.selection-of-mangoes.jpg\n",
      "Completed Image ====> 61.Dream-of-Eating-Mango-Interpretation-and-Meaning.jpg\n",
      "Completed Image ====> 62.IMG_6758.jpg\n",
      "Completed Image ====> 63.received-268876600616780.jpg\n",
      "Completed Image ====> 64.hand-drawn-mango-background_23-2148157372.jpg\n",
      "Invalid or missing image format. Skipping...\n"
     ]
    }
   ],
   "source": [
    "download_image_from_google(\"mango_jpg\",100)"
   ]
  },
  {
   "cell_type": "code",
   "execution_count": 4,
   "metadata": {},
   "outputs": [],
   "source": [
    "image_dir=os.listdir('downloads/')"
   ]
  },
  {
   "cell_type": "code",
   "execution_count": 5,
   "metadata": {},
   "outputs": [
    {
     "data": {
      "text/plain": [
       "['cat_jpg', 'dog_jpg']"
      ]
     },
     "execution_count": 5,
     "metadata": {},
     "output_type": "execute_result"
    }
   ],
   "source": [
    "image_dir"
   ]
  },
  {
   "cell_type": "code",
   "execution_count": 6,
   "metadata": {},
   "outputs": [],
   "source": [
    "all_cat_image_names=os.listdir('downloads/cat_jpg/')\n",
    "all_dog_image_names=os.listdir('downloads/dog_jpg/')\n"
   ]
  },
  {
   "cell_type": "code",
   "execution_count": 7,
   "metadata": {},
   "outputs": [],
   "source": [
    "IMG_SIZE=75\n",
    "cat_image_array=[]\n",
    "for i in range(len(all_cat_image_names)):\n",
    "    temp=plt.imread('downloads/cat_jpg/'+all_cat_image_names[i])\n",
    "    temp=(cv2.resize(temp,(IMG_SIZE,IMG_SIZE)).T[0]).T\n",
    "    temp=np.ndarray.flatten(temp).reshape(IMG_SIZE*IMG_SIZE)\n",
    "    cat_image_array.append(temp)\n",
    "    \n",
    "\n",
    "    \n"
   ]
  },
  {
   "cell_type": "code",
   "execution_count": 9,
   "metadata": {},
   "outputs": [],
   "source": [
    "dog_image_array=[]\n",
    "for i in range(len(all_dog_image_names)):\n",
    "    temp=plt.imread('downloads/dog_jpg/'+all_dog_image_names[i])\n",
    "    temp=(cv2.resize(temp,(IMG_SIZE,IMG_SIZE)).T[0]).T\n",
    "    temp=np.ndarray.flatten(temp).reshape(IMG_SIZE*IMG_SIZE)\n",
    "    dog_image_array.append(temp)\n",
    "    \n"
   ]
  },
  {
   "cell_type": "code",
   "execution_count": 10,
   "metadata": {},
   "outputs": [],
   "source": [
    "dog_image_array=np.array(dog_image_array)\n",
    "cat_image_array=np.array(cat_image_array)"
   ]
  },
  {
   "cell_type": "markdown",
   "metadata": {},
   "source": [
    "# normalistaion"
   ]
  },
  {
   "cell_type": "code",
   "execution_count": 11,
   "metadata": {},
   "outputs": [],
   "source": [
    "cat_image_array=(cat_image_array-cat_image_array.mean(axis=0))/cat_image_array.std(axis=0)\n",
    "dog_image_array=(dog_image_array-dog_image_array.mean(axis=0))/dog_image_array.std(axis=0)"
   ]
  },
  {
   "cell_type": "code",
   "execution_count": 12,
   "metadata": {},
   "outputs": [],
   "source": [
    "cat_image_df=pd.DataFrame(cat_image_array)\n",
    "dog_image_df=pd.DataFrame(dog_image_array)"
   ]
  },
  {
   "cell_type": "code",
   "execution_count": 13,
   "metadata": {},
   "outputs": [],
   "source": [
    "# calculating covariance matrices\n",
    "cov_cat = cat_image_df.cov()\n",
    "cov_dog = dog_image_df.cov()\n"
   ]
  },
  {
   "cell_type": "code",
   "execution_count": null,
   "metadata": {
    "scrolled": true
   },
   "outputs": [],
   "source": []
  },
  {
   "cell_type": "code",
   "execution_count": 113,
   "metadata": {},
   "outputs": [],
   "source": [
    "mean_cat=(np.array(cat_image_array.mean(axis=0))).reshape(len(cat_image_array.T),1)\n",
    "mean_dog=(np.array(dog_image_array.mean(axis=0))).reshape(len(dog_image_array.T),1)"
   ]
  },
  {
   "cell_type": "code",
   "execution_count": null,
   "metadata": {},
   "outputs": [],
   "source": []
  },
  {
   "cell_type": "markdown",
   "metadata": {},
   "source": [
    "# creating actual answers Y"
   ]
  },
  {
   "cell_type": "code",
   "execution_count": 62,
   "metadata": {},
   "outputs": [],
   "source": [
    "Y=[]\n",
    "Y.extend([\"cat\"]*91)   # first 91 feature row is for cats, rest 96 is for dogs\n",
    "Y.extend([\"dog\"]*96)\n",
    "Y=np.array(Y)"
   ]
  },
  {
   "cell_type": "markdown",
   "metadata": {},
   "source": [
    "# creating X array of pixels"
   ]
  },
  {
   "cell_type": "code",
   "execution_count": 54,
   "metadata": {},
   "outputs": [],
   "source": [
    "X=np.array(pd.concat([cat_image_df,dog_image_df]))"
   ]
  },
  {
   "cell_type": "code",
   "execution_count": 55,
   "metadata": {},
   "outputs": [
    {
     "data": {
      "text/plain": [
       "(187, 5625)"
      ]
     },
     "execution_count": 55,
     "metadata": {},
     "output_type": "execute_result"
    }
   ],
   "source": [
    "X.shape"
   ]
  },
  {
   "cell_type": "code",
   "execution_count": 150,
   "metadata": {},
   "outputs": [],
   "source": [
    "def multivariate_norm_pdf(x,mean,cov):\n",
    "    \n",
    "   # return (1/(((2*np.pi)**len(x.T) * (1))**0.5))* np.exp(-0.5* np.dot(np.dot((x-mean).T,np.linalg.inv(cov)) , (x-mean))[0][0] )\n",
    "    a= (1/(((2*np.pi)**len(x.T) * (1))**0.5))* np.exp(-0.5* np.dot(np.dot((x-mean.T).T,np.linalg.inv(cov)) , (x-mean.T))[0][0] )\n",
    "    print(a)"
   ]
  },
  {
   "cell_type": "code",
   "execution_count": 151,
   "metadata": {},
   "outputs": [
    {
     "data": {
      "text/plain": [
       "array([-0.88037105, -0.98701567, -1.15242416, ..., -0.93552689,\n",
       "       -0.9741287 , -0.72753066])"
      ]
     },
     "execution_count": 151,
     "metadata": {},
     "output_type": "execute_result"
    }
   ],
   "source": [
    "X[0]"
   ]
  },
  {
   "cell_type": "code",
   "execution_count": 152,
   "metadata": {},
   "outputs": [
    {
     "data": {
      "text/plain": [
       "array([[ 1.15292391e-16],\n",
       "       [-1.04922176e-16],\n",
       "       [ 7.93016446e-18],\n",
       "       ...,\n",
       "       [-1.04922176e-16],\n",
       "       [-1.09802277e-17],\n",
       "       [-4.33108982e-17]])"
      ]
     },
     "execution_count": 152,
     "metadata": {},
     "output_type": "execute_result"
    }
   ],
   "source": [
    "mean_cat"
   ]
  },
  {
   "cell_type": "code",
   "execution_count": 153,
   "metadata": {},
   "outputs": [
    {
     "ename": "OverflowError",
     "evalue": "(34, 'Result too large')",
     "output_type": "error",
     "traceback": [
      "\u001b[1;31m---------------------------------------------------------------------------\u001b[0m",
      "\u001b[1;31mOverflowError\u001b[0m                             Traceback (most recent call last)",
      "\u001b[1;32m<ipython-input-153-48ecab7fbd5b>\u001b[0m in \u001b[0;36m<module>\u001b[1;34m()\u001b[0m\n\u001b[1;32m----> 1\u001b[1;33m \u001b[0mmultivariate_norm_pdf\u001b[0m\u001b[1;33m(\u001b[0m\u001b[0mX\u001b[0m\u001b[1;33m[\u001b[0m\u001b[1;36m0\u001b[0m\u001b[1;33m]\u001b[0m\u001b[1;33m,\u001b[0m\u001b[0mmean_dog\u001b[0m\u001b[1;33m,\u001b[0m\u001b[0mcov_dog\u001b[0m\u001b[1;33m)\u001b[0m\u001b[1;33m\u001b[0m\u001b[0m\n\u001b[0m",
      "\u001b[1;32m<ipython-input-150-3ba365e97a7a>\u001b[0m in \u001b[0;36mmultivariate_norm_pdf\u001b[1;34m(x, mean, cov)\u001b[0m\n\u001b[0;32m      2\u001b[0m \u001b[1;33m\u001b[0m\u001b[0m\n\u001b[0;32m      3\u001b[0m    \u001b[1;31m# return (1/(((2*np.pi)**len(x.T) * (1))**0.5))* np.exp(-0.5* np.dot(np.dot((x-mean).T,np.linalg.inv(cov)) , (x-mean))[0][0] )\u001b[0m\u001b[1;33m\u001b[0m\u001b[1;33m\u001b[0m\u001b[0m\n\u001b[1;32m----> 4\u001b[1;33m     \u001b[0ma\u001b[0m\u001b[1;33m=\u001b[0m \u001b[1;33m(\u001b[0m\u001b[1;36m1\u001b[0m\u001b[1;33m/\u001b[0m\u001b[1;33m(\u001b[0m\u001b[1;33m(\u001b[0m\u001b[1;33m(\u001b[0m\u001b[1;36m2\u001b[0m\u001b[1;33m*\u001b[0m\u001b[0mnp\u001b[0m\u001b[1;33m.\u001b[0m\u001b[0mpi\u001b[0m\u001b[1;33m)\u001b[0m\u001b[1;33m**\u001b[0m\u001b[0mlen\u001b[0m\u001b[1;33m(\u001b[0m\u001b[0mx\u001b[0m\u001b[1;33m.\u001b[0m\u001b[0mT\u001b[0m\u001b[1;33m)\u001b[0m \u001b[1;33m*\u001b[0m \u001b[1;33m(\u001b[0m\u001b[1;36m1\u001b[0m\u001b[1;33m)\u001b[0m\u001b[1;33m)\u001b[0m\u001b[1;33m**\u001b[0m\u001b[1;36m0.5\u001b[0m\u001b[1;33m)\u001b[0m\u001b[1;33m)\u001b[0m\u001b[1;33m*\u001b[0m \u001b[0mnp\u001b[0m\u001b[1;33m.\u001b[0m\u001b[0mexp\u001b[0m\u001b[1;33m(\u001b[0m\u001b[1;33m-\u001b[0m\u001b[1;36m0.5\u001b[0m\u001b[1;33m*\u001b[0m \u001b[0mnp\u001b[0m\u001b[1;33m.\u001b[0m\u001b[0mdot\u001b[0m\u001b[1;33m(\u001b[0m\u001b[0mnp\u001b[0m\u001b[1;33m.\u001b[0m\u001b[0mdot\u001b[0m\u001b[1;33m(\u001b[0m\u001b[1;33m(\u001b[0m\u001b[0mx\u001b[0m\u001b[1;33m-\u001b[0m\u001b[0mmean\u001b[0m\u001b[1;33m.\u001b[0m\u001b[0mT\u001b[0m\u001b[1;33m)\u001b[0m\u001b[1;33m.\u001b[0m\u001b[0mT\u001b[0m\u001b[1;33m,\u001b[0m\u001b[0mnp\u001b[0m\u001b[1;33m.\u001b[0m\u001b[0mlinalg\u001b[0m\u001b[1;33m.\u001b[0m\u001b[0minv\u001b[0m\u001b[1;33m(\u001b[0m\u001b[0mcov\u001b[0m\u001b[1;33m)\u001b[0m\u001b[1;33m)\u001b[0m \u001b[1;33m,\u001b[0m \u001b[1;33m(\u001b[0m\u001b[0mx\u001b[0m\u001b[1;33m-\u001b[0m\u001b[0mmean\u001b[0m\u001b[1;33m.\u001b[0m\u001b[0mT\u001b[0m\u001b[1;33m)\u001b[0m\u001b[1;33m)\u001b[0m\u001b[1;33m[\u001b[0m\u001b[1;36m0\u001b[0m\u001b[1;33m]\u001b[0m\u001b[1;33m[\u001b[0m\u001b[1;36m0\u001b[0m\u001b[1;33m]\u001b[0m \u001b[1;33m)\u001b[0m\u001b[1;33m\u001b[0m\u001b[0m\n\u001b[0m\u001b[0;32m      5\u001b[0m     \u001b[0mprint\u001b[0m\u001b[1;33m(\u001b[0m\u001b[0ma\u001b[0m\u001b[1;33m)\u001b[0m\u001b[1;33m\u001b[0m\u001b[0m\n",
      "\u001b[1;31mOverflowError\u001b[0m: (34, 'Result too large')"
     ]
    }
   ],
   "source": [
    "multivariate_norm_pdf(X[0],mean_dog,cov_dog)"
   ]
  },
  {
   "cell_type": "code",
   "execution_count": 158,
   "metadata": {},
   "outputs": [
    {
     "data": {
      "text/plain": [
       "array([[5.43569401e+136]])"
      ]
     },
     "execution_count": 158,
     "metadata": {},
     "output_type": "execute_result"
    }
   ],
   "source": [
    "np.exp(e)"
   ]
  },
  {
   "cell_type": "code",
   "execution_count": 142,
   "metadata": {},
   "outputs": [],
   "source": [
    "a=(X[0]-mean_cat.T)"
   ]
  },
  {
   "cell_type": "code",
   "execution_count": 143,
   "metadata": {},
   "outputs": [],
   "source": [
    "b=(X[0]-mean_cat.T).T"
   ]
  },
  {
   "cell_type": "code",
   "execution_count": 144,
   "metadata": {},
   "outputs": [],
   "source": [
    "c=np.linalg.inv(cov_cat)"
   ]
  },
  {
   "cell_type": "code",
   "execution_count": 145,
   "metadata": {},
   "outputs": [],
   "source": [
    "mu"
   ]
  },
  {
   "cell_type": "code",
   "execution_count": 146,
   "metadata": {},
   "outputs": [
    {
     "data": {
      "text/plain": [
       "(1, 5625)"
      ]
     },
     "execution_count": 146,
     "metadata": {},
     "output_type": "execute_result"
    }
   ],
   "source": [
    "d.shape"
   ]
  },
  {
   "cell_type": "code",
   "execution_count": 147,
   "metadata": {},
   "outputs": [],
   "source": [
    "e=np.dot(d,b)"
   ]
  },
  {
   "cell_type": "code",
   "execution_count": 148,
   "metadata": {},
   "outputs": [
    {
     "data": {
      "text/plain": [
       "(1, 1)"
      ]
     },
     "execution_count": 148,
     "metadata": {},
     "output_type": "execute_result"
    }
   ],
   "source": [
    "e.shape"
   ]
  },
  {
   "cell_type": "code",
   "execution_count": 74,
   "metadata": {},
   "outputs": [],
   "source": [
    "prior_cat=len(X[Y==\"cat\"])/len(X)\n",
    "prior_cog=len(X[Y==\"dog\"])/len(X)"
   ]
  },
  {
   "cell_type": "code",
   "execution_count": 75,
   "metadata": {},
   "outputs": [],
   "source": [
    "def posterior_normal(example,mean_cat,cov_cat,mean_dog,cov_dog):   \n",
    "    numerator_cat= multivariate_norm_pdf(example,mean_cat,cov_cat)*prior_cat\n",
    "    numerator_dog= multivariate_norm_pdf(example,mean_dog,cov_dog)*prior_cog\n",
    "    return numerator_cat/(numerator_cat+numerator_dog)  ,  numerator_dog/(numerator_cat+numerator_dog)\n",
    "\n"
   ]
  },
  {
   "cell_type": "code",
   "execution_count": null,
   "metadata": {},
   "outputs": [],
   "source": []
  },
  {
   "cell_type": "code",
   "execution_count": 76,
   "metadata": {},
   "outputs": [],
   "source": [
    "def predict_using_normal(xtest):\n",
    "    y_predicted=[]\n",
    "    for i in range(0,len(xtest)):\n",
    "        \n",
    "        posterior_cat,posterior_dog=posterior_normal(xtest[i],mean_cat,cov_cat,mean_dog,cov_dog)\n",
    "        if posterior_cat>posterior_dog:\n",
    "            y_predicted.append(\"cat\")\n",
    "        else:\n",
    "            y_predicted.append(\"dog\")\n",
    "    y_predicted=(np.array(y_predicted)).reshape(len(y_predicted),1)\n",
    "    return y_predicted.reshape(len(y_predicted),1)\n",
    "\n",
    "\n",
    "\n",
    "def accuracy(y_predicted,y_actual):\n",
    "    #y_actual=y_actual.reshape(len(y_actual),1)\n",
    "    return 100*(len(Y[y_predicted==y_actual])/len(y_predicted))\n",
    "    "
   ]
  },
  {
   "cell_type": "code",
   "execution_count": 88,
   "metadata": {},
   "outputs": [
    {
     "ename": "OverflowError",
     "evalue": "(34, 'Result too large')",
     "output_type": "error",
     "traceback": [
      "\u001b[1;31m---------------------------------------------------------------------------\u001b[0m",
      "\u001b[1;31mOverflowError\u001b[0m                             Traceback (most recent call last)",
      "\u001b[1;32m<ipython-input-88-bd442c10dd92>\u001b[0m in \u001b[0;36m<module>\u001b[1;34m()\u001b[0m\n\u001b[1;32m----> 1\u001b[1;33m \u001b[0mmultivariate_norm_pdf\u001b[0m\u001b[1;33m(\u001b[0m\u001b[0mX\u001b[0m\u001b[1;33m[\u001b[0m\u001b[1;36m0\u001b[0m\u001b[1;33m]\u001b[0m\u001b[1;33m,\u001b[0m\u001b[0mmean_cat\u001b[0m\u001b[1;33m,\u001b[0m\u001b[0mcov_cat\u001b[0m\u001b[1;33m)\u001b[0m\u001b[1;33m\u001b[0m\u001b[0m\n\u001b[0m\u001b[0;32m      2\u001b[0m \u001b[1;31m#posterior_normal(X[0],mean_cat,cov_cat,mean_dog,cov_dog)\u001b[0m\u001b[1;33m\u001b[0m\u001b[1;33m\u001b[0m\u001b[0m\n",
      "\u001b[1;32m<ipython-input-72-d7a1e22faa37>\u001b[0m in \u001b[0;36mmultivariate_norm_pdf\u001b[1;34m(x, mean, cov)\u001b[0m\n\u001b[0;32m      1\u001b[0m \u001b[1;32mdef\u001b[0m \u001b[0mmultivariate_norm_pdf\u001b[0m\u001b[1;33m(\u001b[0m\u001b[0mx\u001b[0m\u001b[1;33m,\u001b[0m\u001b[0mmean\u001b[0m\u001b[1;33m,\u001b[0m\u001b[0mcov\u001b[0m\u001b[1;33m)\u001b[0m\u001b[1;33m:\u001b[0m\u001b[1;33m\u001b[0m\u001b[0m\n\u001b[0;32m      2\u001b[0m \u001b[1;33m\u001b[0m\u001b[0m\n\u001b[1;32m----> 3\u001b[1;33m     \u001b[1;32mreturn\u001b[0m \u001b[1;33m(\u001b[0m\u001b[1;36m1\u001b[0m\u001b[1;33m/\u001b[0m\u001b[1;33m(\u001b[0m\u001b[1;33m(\u001b[0m\u001b[1;33m(\u001b[0m\u001b[1;36m2\u001b[0m\u001b[1;33m*\u001b[0m\u001b[0mnp\u001b[0m\u001b[1;33m.\u001b[0m\u001b[0mpi\u001b[0m\u001b[1;33m)\u001b[0m\u001b[1;33m**\u001b[0m\u001b[0mlen\u001b[0m\u001b[1;33m(\u001b[0m\u001b[0mx\u001b[0m\u001b[1;33m.\u001b[0m\u001b[0mT\u001b[0m\u001b[1;33m)\u001b[0m \u001b[1;33m*\u001b[0m \u001b[1;33m(\u001b[0m\u001b[1;36m4\u001b[0m\u001b[1;33m+\u001b[0m\u001b[0mnp\u001b[0m\u001b[1;33m.\u001b[0m\u001b[0mlinalg\u001b[0m\u001b[1;33m.\u001b[0m\u001b[0mdet\u001b[0m\u001b[1;33m(\u001b[0m\u001b[0mcov\u001b[0m\u001b[1;33m)\u001b[0m\u001b[1;33m)\u001b[0m\u001b[1;33m)\u001b[0m\u001b[1;33m**\u001b[0m\u001b[1;36m0.5\u001b[0m\u001b[1;33m)\u001b[0m\u001b[1;33m)\u001b[0m\u001b[1;33m*\u001b[0m \u001b[0mnp\u001b[0m\u001b[1;33m.\u001b[0m\u001b[0mexp\u001b[0m\u001b[1;33m(\u001b[0m\u001b[1;33m-\u001b[0m\u001b[1;36m0.5\u001b[0m\u001b[1;33m*\u001b[0m \u001b[0mnp\u001b[0m\u001b[1;33m.\u001b[0m\u001b[0mdot\u001b[0m\u001b[1;33m(\u001b[0m\u001b[0mnp\u001b[0m\u001b[1;33m.\u001b[0m\u001b[0mdot\u001b[0m\u001b[1;33m(\u001b[0m\u001b[1;33m(\u001b[0m\u001b[0mx\u001b[0m\u001b[1;33m-\u001b[0m\u001b[0mmean\u001b[0m\u001b[1;33m)\u001b[0m\u001b[1;33m.\u001b[0m\u001b[0mT\u001b[0m\u001b[1;33m,\u001b[0m\u001b[0mnp\u001b[0m\u001b[1;33m.\u001b[0m\u001b[0mlinalg\u001b[0m\u001b[1;33m.\u001b[0m\u001b[0minv\u001b[0m\u001b[1;33m(\u001b[0m\u001b[0mcov\u001b[0m\u001b[1;33m)\u001b[0m\u001b[1;33m)\u001b[0m \u001b[1;33m,\u001b[0m \u001b[1;33m(\u001b[0m\u001b[0mx\u001b[0m\u001b[1;33m-\u001b[0m\u001b[0mmean\u001b[0m\u001b[1;33m)\u001b[0m\u001b[1;33m)\u001b[0m\u001b[1;33m[\u001b[0m\u001b[1;36m0\u001b[0m\u001b[1;33m]\u001b[0m\u001b[1;33m[\u001b[0m\u001b[1;36m0\u001b[0m\u001b[1;33m]\u001b[0m \u001b[1;33m)\u001b[0m\u001b[1;33m\u001b[0m\u001b[0m\n\u001b[0m",
      "\u001b[1;31mOverflowError\u001b[0m: (34, 'Result too large')"
     ]
    }
   ],
   "source": [
    "#posterior_normal(X[0],mean_cat,cov_cat,mean_dog,cov_dog)"
   ]
  },
  {
   "cell_type": "code",
   "execution_count": 30,
   "metadata": {},
   "outputs": [],
   "source": [
    "X=pd.concat([cat_image_df,dog_image_df])"
   ]
  }
 ],
 "metadata": {
  "kernelspec": {
   "display_name": "Python 3",
   "language": "python",
   "name": "python3"
  },
  "language_info": {
   "codemirror_mode": {
    "name": "ipython",
    "version": 3
   },
   "file_extension": ".py",
   "mimetype": "text/x-python",
   "name": "python",
   "nbconvert_exporter": "python",
   "pygments_lexer": "ipython3",
   "version": "3.6.5"
  }
 },
 "nbformat": 4,
 "nbformat_minor": 2
}
