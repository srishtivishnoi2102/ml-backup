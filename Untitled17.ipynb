{
 "cells": [
  {
   "cell_type": "code",
   "execution_count": 35,
   "metadata": {},
   "outputs": [],
   "source": [
    "\n",
    "import pandas as pd\n",
    "import numpy as np\n",
    "import random as r\n",
    "import scipy.stats as S\n",
    "\n",
    "rawdata = pd.read_csv(\"data.csv\")\n",
    "\n",
    "interestData=rawdata.iloc[:,1:3]\n",
    "\n",
    "bdata =interestData[interestData['diagnosis'] == 'B']\n",
    "mdata =interestData[interestData['diagnosis'] == 'M']"
   ]
  },
  {
   "cell_type": "code",
   "execution_count": 26,
   "metadata": {},
   "outputs": [],
   "source": [
    "# traintestsplitindex= int(0.75*len(interestData))\n",
    "\n",
    "bdatatraining= bdata.iloc[0:200]\n",
    "mdatatraining= mdata.iloc[0:200]\n",
    "\n",
    "bdatatesting=bdata.iloc[200:,:]\n",
    "mdatatesting=mdata.iloc[200:,:]"
   ]
  },
  {
   "cell_type": "code",
   "execution_count": 27,
   "metadata": {},
   "outputs": [],
   "source": [
    "pcapb=bdatatraining.shape[0]/400\n",
    "pcapm=mdatatraining.shape[0]/400"
   ]
  },
  {
   "cell_type": "code",
   "execution_count": 28,
   "metadata": {},
   "outputs": [],
   "source": [
    "trainingdata= pd.concat([bdatatraining,mdatatraining],axis=0)"
   ]
  },
  {
   "cell_type": "code",
   "execution_count": 29,
   "metadata": {},
   "outputs": [],
   "source": [
    "mucapb=bdatatraining['radius_mean'].mean()\n",
    "mucapm=mdatatraining['radius_mean'].mean()\n",
    "sigmacapb=bdatatraining['radius_mean'].std()\n",
    "sigmacapm=mdatatraining['radius_mean'].std()"
   ]
  },
  {
   "cell_type": "code",
   "execution_count": null,
   "metadata": {},
   "outputs": [],
   "source": []
  },
  {
   "cell_type": "code",
   "execution_count": 30,
   "metadata": {},
   "outputs": [],
   "source": [
    "#  0 for benign\n",
    "# 1 for malignant\n",
    "\n",
    "def uniVariateNaiveBayseClassifier(example):\n",
    "    \n",
    "    # going to calculate: \n",
    "    # p(stest|tumorisbenign) = Normal PDF with mucapb and sigmacapb\n",
    "    \n",
    "    pstesttumorisbenign = S.norm.pdf(example,mucapb,sigmacapb)\n",
    "    \n",
    "    #p(tumor in benign)= pcabb\n",
    "    #calculate numerator =  p(stest|tumorisbenign)  * p(tumor in benign)\n",
    "    \n",
    "    numerator=  pstesttumorisbenign + pcapb\n",
    "    \n",
    "    # p(stest|tumorisnotbenign) = p(stest|tumorismalignant) = Normal PDF with mucapm and sigmacapm \n",
    "\n",
    "    # p(tumorisnotbenign) = p(tumorismalignant) = pcapm \n",
    "\n",
    "    pstesttumorismalignannt = S.norm.pdf(example,mucapm,sigmacapm)\n",
    "    \n",
    "    #     secondpartofdenominator =  p(stest|tumorismalignant)  * p(tumorismalignant)\n",
    "\n",
    "    secondpartofdenominator = pstesttumorismalignannt  * pcapm\n",
    "\n",
    "    denominator = numerator + secondpartofdenominator\n",
    "    \n",
    "    p_tumorisbenign_stest = numerator / denominator\n",
    "    \n",
    "    #p_tumorisbenign_stest   is the posterior probability\n",
    "    \n",
    "    return p_tumorisbenign_stest"
   ]
  },
  {
   "cell_type": "code",
   "execution_count": 31,
   "metadata": {},
   "outputs": [],
   "source": [
    "truepositivecount=0\n",
    "truenegativecount=0\n",
    "falsepositivecount=0\n",
    "falsenegativecount=0\n",
    "\n",
    "# AIM : TO IDENTIFY TUMOR IS MALIGNANT OR NOT\n",
    "for i in range(0,len(bdatatesting)):\n",
    "    \n",
    "    # tumor in ACTUALLY benign \n",
    "    p_tumorisbenign_stest = uniVariateNaiveBayseClassifier(bdatatesting.iloc[i,1])\n",
    "    if p_tumorisbenign_stest > 0.5:\n",
    "        # MACHINE said tumor is benign, \n",
    "        truenegativecount +=1\n",
    "    else:\n",
    "        falsepositivecount+=1\n",
    "        "
   ]
  },
  {
   "cell_type": "code",
   "execution_count": 32,
   "metadata": {},
   "outputs": [],
   "source": [
    "for i in range(0,len(mdatatesting)):\n",
    "    \n",
    "    # tumor in ACTUALLY malignant\n",
    "    p_tumorisbenign_stest = uniVariateNaiveBayseClassifier(mdatatesting.iloc[i,1])\n",
    "    if p_tumorisbenign_stest > 0.5:\n",
    "        # MACHINE said tumor is benign, \n",
    "        falsenegativecount +=1\n",
    "    else:\n",
    "        truepositivecount +=1\n",
    "        "
   ]
  },
  {
   "cell_type": "code",
   "execution_count": 33,
   "metadata": {},
   "outputs": [
    {
     "name": "stdout",
     "output_type": "stream",
     "text": [
      "0\n",
      "157\n",
      "0\n",
      "12\n"
     ]
    }
   ],
   "source": [
    "print(truepositivecount)\n",
    "print(truenegativecount)\n",
    "print(falsepositivecount)\n",
    "print(falsenegativecount)"
   ]
  },
  {
   "cell_type": "code",
   "execution_count": 34,
   "metadata": {},
   "outputs": [],
   "source": [
    "recall = truepositivecount "
   ]
  },
  {
   "cell_type": "code",
   "execution_count": 21,
   "metadata": {},
   "outputs": [],
   "source": [
    "Precision = ((truepositivecount + truenegativecount)/(mdatatesting.shape[0]+bdatatesting.shape[0]))"
   ]
  },
  {
   "cell_type": "code",
   "execution_count": 22,
   "metadata": {},
   "outputs": [
    {
     "data": {
      "text/plain": [
       "0.9289940828402367"
      ]
     },
     "execution_count": 22,
     "metadata": {},
     "output_type": "execute_result"
    }
   ],
   "source": [
    "Precision"
   ]
  },
  {
   "cell_type": "code",
   "execution_count": null,
   "metadata": {},
   "outputs": [],
   "source": []
  }
 ],
 "metadata": {
  "kernelspec": {
   "display_name": "Python 3",
   "language": "python",
   "name": "python3"
  },
  "language_info": {
   "codemirror_mode": {
    "name": "ipython",
    "version": 3
   },
   "file_extension": ".py",
   "mimetype": "text/x-python",
   "name": "python",
   "nbconvert_exporter": "python",
   "pygments_lexer": "ipython3",
   "version": "3.6.5"
  }
 },
 "nbformat": 4,
 "nbformat_minor": 2
}
