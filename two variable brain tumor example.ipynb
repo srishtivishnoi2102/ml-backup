{
 "cells": [
  {
   "cell_type": "code",
   "execution_count": 2,
   "metadata": {},
   "outputs": [],
   "source": [
    "import matplotlib.pyplot as plt\n",
    "import pandas as pd\n",
    "import numpy as np\n",
    "import random as r\n",
    "import scipy.stats as S\n",
    "\n",
    "rawdata = pd.read_csv(\"data.csv\")\n",
    "\n",
    "rawdata=rawdata.iloc[:,1:4]"
   ]
  },
  {
   "cell_type": "code",
   "execution_count": 3,
   "metadata": {},
   "outputs": [
    {
     "data": {
      "text/html": [
       "<div>\n",
       "<style scoped>\n",
       "    .dataframe tbody tr th:only-of-type {\n",
       "        vertical-align: middle;\n",
       "    }\n",
       "\n",
       "    .dataframe tbody tr th {\n",
       "        vertical-align: top;\n",
       "    }\n",
       "\n",
       "    .dataframe thead th {\n",
       "        text-align: right;\n",
       "    }\n",
       "</style>\n",
       "<table border=\"1\" class=\"dataframe\">\n",
       "  <thead>\n",
       "    <tr style=\"text-align: right;\">\n",
       "      <th></th>\n",
       "      <th>diagnosis</th>\n",
       "      <th>radius_mean</th>\n",
       "      <th>texture_mean</th>\n",
       "    </tr>\n",
       "  </thead>\n",
       "  <tbody>\n",
       "    <tr>\n",
       "      <th>0</th>\n",
       "      <td>M</td>\n",
       "      <td>17.99</td>\n",
       "      <td>10.38</td>\n",
       "    </tr>\n",
       "    <tr>\n",
       "      <th>1</th>\n",
       "      <td>M</td>\n",
       "      <td>20.57</td>\n",
       "      <td>17.77</td>\n",
       "    </tr>\n",
       "    <tr>\n",
       "      <th>2</th>\n",
       "      <td>M</td>\n",
       "      <td>19.69</td>\n",
       "      <td>21.25</td>\n",
       "    </tr>\n",
       "    <tr>\n",
       "      <th>3</th>\n",
       "      <td>M</td>\n",
       "      <td>11.42</td>\n",
       "      <td>20.38</td>\n",
       "    </tr>\n",
       "    <tr>\n",
       "      <th>4</th>\n",
       "      <td>M</td>\n",
       "      <td>20.29</td>\n",
       "      <td>14.34</td>\n",
       "    </tr>\n",
       "  </tbody>\n",
       "</table>\n",
       "</div>"
      ],
      "text/plain": [
       "  diagnosis  radius_mean  texture_mean\n",
       "0         M        17.99         10.38\n",
       "1         M        20.57         17.77\n",
       "2         M        19.69         21.25\n",
       "3         M        11.42         20.38\n",
       "4         M        20.29         14.34"
      ]
     },
     "execution_count": 3,
     "metadata": {},
     "output_type": "execute_result"
    }
   ],
   "source": [
    "rawdata.head()\n",
    "\n",
    "\n",
    "# p(tumor is B  |  R_test ^ T_test) \n",
    "#           =   p( R_test ^ T_test| tumor is B )  *  P(tumor is B)  /denokinator\n",
    "\n",
    "#        denominator = numerator + p( R_test ^ T_test| tumor is M )  *  P(tumor is M)\n",
    "\n"
   ]
  },
  {
   "cell_type": "code",
   "execution_count": 4,
   "metadata": {},
   "outputs": [],
   "source": [
    "bdata =rawdata[rawdata['diagnosis'] == 'B']\n",
    "mdata =rawdata[rawdata['diagnosis'] == 'M']\n",
    "\n",
    "bdatatraining= bdata.iloc[0:200,:]\n",
    "mdatatraining= mdata.iloc[0:200,:]\n",
    "\n",
    "bdatatesting=bdata.iloc[200:,:]\n",
    "mdatatesting=mdata.iloc[200:,:]\n",
    "\n",
    "# trainingdata=pd.concat([mdatatraining,bdatatraining],axis=0) \n",
    "\n"
   ]
  },
  {
   "cell_type": "code",
   "execution_count": 5,
   "metadata": {},
   "outputs": [],
   "source": [
    "import matplotlib.pyplot as plt\n",
    "#plt.scatter(bdatatraining['texture_mean'],bdatatraining['radius_mean'],color='red')\n",
    "#plt.scatter(mdatatraining['texture_mean'],mdatatraining['radius_mean'],color='yellow')\n",
    "\n",
    "#plt.show"
   ]
  },
  {
   "cell_type": "code",
   "execution_count": 6,
   "metadata": {},
   "outputs": [],
   "source": [
    "#plt.scatter(mdata['texture_mean'],mdata['radius_mean'],color='yellow')\n",
    "\n",
    "#plt.show"
   ]
  },
  {
   "cell_type": "code",
   "execution_count": 7,
   "metadata": {},
   "outputs": [],
   "source": [
    "#mdata.iloc[:,1:4]"
   ]
  },
  {
   "cell_type": "code",
   "execution_count": 8,
   "metadata": {},
   "outputs": [
    {
     "name": "stdout",
     "output_type": "stream",
     "text": [
      "[[10.17591857  1.25314218]\n",
      " [ 1.25314218 13.89054569]]\n",
      "[[ 2.9276847   0.15383955]\n",
      " [ 0.15383955 11.27652514]]\n"
     ]
    }
   ],
   "source": [
    "sigmacapm = mdatatraining.cov()\n",
    "sigmacapm=np.array(sigmacapm)\n",
    "print(sigmacapm)\n",
    "\n",
    "sigmacapb = bdatatraining.cov()\n",
    "sigmacapb=np.array(sigmacapb)\n",
    "print(sigmacapb)"
   ]
  },
  {
   "cell_type": "code",
   "execution_count": 9,
   "metadata": {},
   "outputs": [
    {
     "name": "stdout",
     "output_type": "stream",
     "text": [
      "[17.34485 21.4498 ]\n",
      "[11.987175 17.1157  ]\n"
     ]
    }
   ],
   "source": [
    "mucapm= mdatatraining.iloc[:,1:3].mean()\n",
    "mucapm = np.array(mucapm)\n",
    "mucapm.reshape(2,1)\n",
    "print(mucapm)\n",
    "\n",
    "\n",
    "mucapb= bdatatraining.iloc[:,1:3].mean()\n",
    "mucapb = np.array(mucapb)\n",
    "mucapb.reshape(2,1)\n",
    "print(mucapb)"
   ]
  },
  {
   "cell_type": "code",
   "execution_count": 10,
   "metadata": {},
   "outputs": [],
   "source": [
    "pcapb=bdatatraining.shape[0]/400\n",
    "pcapm=mdatatraining.shape[0]/400\n"
   ]
  },
  {
   "cell_type": "code",
   "execution_count": 11,
   "metadata": {},
   "outputs": [],
   "source": [
    "#  0 for benign\n",
    "# 1 for malignant\n",
    "\n",
    "def MultiVariateNaiveBayseClassifier(example):\n",
    "    \n",
    "    # going to calculate: \n",
    "    # p(stest|tumorisbenign) = Normal PDF with mucapb and sigmacapb\n",
    "    \n",
    "    p_rtest_ttest_tumorisbenign = S.multivariate_normal.pdf(np.array(example),mucapb,sigmacapb)\n",
    "    \n",
    "    #p(tumor in benign)= pcabb\n",
    "    #calculate numerator =  p(stest|tumorisbenign)  * p(tumor in benign)\n",
    "    \n",
    "    numerator=  p_rtest_ttest_tumorisbenign + pcapb\n",
    "    \n",
    "    # p(stest|tumorisnotbenign) = p(stest|tumorismalignant) = Normal PDF with mucapm and sigmacapm \n",
    "\n",
    "    # p(tumorisnotbenign) = p(tumorismalignant) = pcapm \n",
    "\n",
    "    p_rtest_ttest_tumorismalignant = S.multivariate_normal.pdf(np.array(example),mucapm,sigmacapm)\n",
    "    \n",
    "    #     secondpartofdenominator =  p(stest|tumorismalignant)  * p(tumorismalignant)\n",
    "\n",
    "    secondpartofdenominator = p_rtest_ttest_tumorismalignant  * pcapm\n",
    "    \n",
    "    p_tumorisbenign_rtest_ttest = numerator / (numerator + secondpartofdenominator)\n",
    "    \n",
    "    #p_tumorisbenign_stest   is the posterior probability\n",
    "    \n",
    "    return p_tumorisbenign_rtest_ttest"
   ]
  },
  {
   "cell_type": "code",
   "execution_count": 12,
   "metadata": {},
   "outputs": [],
   "source": [
    "truepositivecount=0\n",
    "truenegativecount=0\n",
    "falsepositivecount=0\n",
    "falsenegativecount=0\n",
    "\n",
    "# AIM : TO IDENTIFY TUMOR IS MALIGNANT OR NOT\n",
    "for i in range(0,len(bdatatesting)):\n",
    "    \n",
    "    # tumor in ACTUALLY benign \n",
    "    p_tumorisbenign_rtest_ttest = MultiVariateNaiveBayseClassifier(bdatatesting.iloc[i,1:4])\n",
    "    if p_tumorisbenign_rtest_ttest > 0.5:\n",
    "        # MACHINE said tumor is benign, \n",
    "        truenegativecount +=1\n",
    "    else:\n",
    "        falsepositivecount+=1\n",
    "        \n",
    "for i in range(0,len(mdatatesting)):\n",
    "    \n",
    "    # tumor in ACTUALLY malignant\n",
    "    p_tumorisbenign_rtest_ttest = MultiVariateNaiveBayseClassifier(bdatatesting.iloc[i,1:4])\n",
    "    if p_tumorisbenign_rtest_ttest > 0.5:\n",
    "        # MACHINE said tumor is benign, \n",
    "        truepositivecount +=1\n",
    "    else:\n",
    "        falsenegativecount +=1\n",
    "        "
   ]
  },
  {
   "cell_type": "code",
   "execution_count": 13,
   "metadata": {},
   "outputs": [
    {
     "name": "stdout",
     "output_type": "stream",
     "text": [
      "12\n",
      "157\n",
      "0\n",
      "0\n"
     ]
    }
   ],
   "source": [
    "print(truepositivecount)\n",
    "print(truenegativecount)\n",
    "print(falsepositivecount)\n",
    "print(falsenegativecount)"
   ]
  },
  {
   "cell_type": "code",
   "execution_count": 18,
   "metadata": {},
   "outputs": [],
   "source": [
    "x=bdatatesting.iloc[1,1:4]"
   ]
  },
  {
   "cell_type": "code",
   "execution_count": 19,
   "metadata": {},
   "outputs": [
    {
     "data": {
      "text/plain": [
       "radius_mean     12.76\n",
       "texture_mean    18.84\n",
       "Name: 362, dtype: object"
      ]
     },
     "execution_count": 19,
     "metadata": {},
     "output_type": "execute_result"
    }
   ],
   "source": [
    "x.head()"
   ]
  },
  {
   "cell_type": "code",
   "execution_count": 1,
   "metadata": {},
   "outputs": [
    {
     "data": {
      "text/plain": [
       "2.27"
      ]
     },
     "execution_count": 1,
     "metadata": {},
     "output_type": "execute_result"
    }
   ],
   "source": [
    ".02+1.5+.75\n",
    "\n",
    "\n",
    "1.5\n",
    ".75\n",
    ".02\n",
    "\n"
   ]
  },
  {
   "cell_type": "code",
   "execution_count": null,
   "metadata": {},
   "outputs": [],
   "source": []
  },
  {
   "cell_type": "code",
   "execution_count": null,
   "metadata": {},
   "outputs": [],
   "source": []
  },
  {
   "cell_type": "code",
   "execution_count": null,
   "metadata": {},
   "outputs": [],
   "source": []
  },
  {
   "cell_type": "code",
   "execution_count": null,
   "metadata": {},
   "outputs": [],
   "source": []
  },
  {
   "cell_type": "code",
   "execution_count": null,
   "metadata": {},
   "outputs": [],
   "source": []
  },
  {
   "cell_type": "code",
   "execution_count": null,
   "metadata": {},
   "outputs": [],
   "source": []
  }
 ],
 "metadata": {
  "kernelspec": {
   "display_name": "Python 3",
   "language": "python",
   "name": "python3"
  },
  "language_info": {
   "codemirror_mode": {
    "name": "ipython",
    "version": 3
   },
   "file_extension": ".py",
   "mimetype": "text/x-python",
   "name": "python",
   "nbconvert_exporter": "python",
   "pygments_lexer": "ipython3",
   "version": "3.6.8"
  }
 },
 "nbformat": 4,
 "nbformat_minor": 2
}
