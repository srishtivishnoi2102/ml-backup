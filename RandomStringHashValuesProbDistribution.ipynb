{
 "cells": [
  {
   "cell_type": "code",
   "execution_count": 1,
   "metadata": {},
   "outputs": [
    {
     "name": "stdout",
     "output_type": "stream",
     "text": [
      "enter minimum length of string: 2\n",
      "enter maximum length of string: 10\n"
     ]
    }
   ],
   "source": [
    "import random as r\n",
    "import matplotlib.pyplot as plt\n",
    "alp=\"ABCDEFGHIJKLMNOPQRSTUVWXYZabcdefghijklmnopqrstuvwxyz01235456789\"\n",
    "ll =int(input(\"enter minimum length of string: \"))\n",
    "ul=int(input(\"enter maximum length of string: \"))\n",
    "asciivalue={}\n",
    "small=97\n",
    "capital=65\n",
    "digit=48\n",
    "for i in range(0,len(alp)):\n",
    "    if i <26:\n",
    "        asciivalue[alp[i]]=capital     \n",
    "        capital+=1\n",
    "    elif i <52:\n",
    "        asciivalue[alp[i]]=small     \n",
    "        small+=1\n",
    "    else:\n",
    "        asciivalue[alp[i]]=digit    \n",
    "        digit+=1\n",
    "asciivalue[\" \"]=32     \n",
    "def calcHash(string):\n",
    "    hsh=0\n",
    "    for i in range(0,len(string)):\n",
    "        hsh+=(asciivalue[string[i]] + 13**(i+1))\n",
    "    return hsh\n",
    "\n",
    "#n =int(input(\"enter number of string: \"))\n",
    "#numBar = number of bar in the graph\n",
    "def StringPDP(n,numBar):\n",
    "    myset=[]\n",
    "    hashvalues=[]\n",
    "    values=[]\n",
    "    frequency=[]\n",
    "    minreading=calcHash(\"  \")\n",
    "    maxreading=calcHash(\"zzzzzzzzzz\")\n",
    "    width=(maxreading-minreading)*1.0/numBar\n",
    "    for i in range(0,n):\n",
    "        mystr=\"\"\n",
    "        for l in range(0,r.randint(ll,ul)):\n",
    "            mystr+=alp[r.randint(0,len(alp)-1)]\n",
    "        myset.append(mystr)\n",
    "    for each in myset:\n",
    "        hashvalues.append(calcHash(each))\n",
    "        \n",
    "    for i in range(0,numBar):\n",
    "        minn=minreading+i*width\n",
    "        maxx=minreading+(i+1)*width\n",
    "        f=0 \n",
    "        for x in hashvalues:\n",
    "            if minn<=x<maxx :\n",
    "                f+=1\n",
    "                hashvalues.remove(x)\n",
    "        frequency.append(f*1.0/n)\n",
    "        values.append((minn+maxx)/2)\n",
    "    plt.bar(values,frequency ,width)    \n",
    "    plt.show()\n",
    "        \n",
    "\n"
   ]
  },
  {
   "cell_type": "code",
   "execution_count": 2,
   "metadata": {},
   "outputs": [
    {
     "data": {
      "image/png": "[encoded data removed]",
      "text/plain": [
       "<matplotlib.figure.Figure at 0x1ef4cc66400>"
      ]
     },
     "metadata": {},
     "output_type": "display_data"
    }
   ],
   "source": [
    "StringPDP(50000,10)"
   ]
  },
  {
   "cell_type": "code",
   "execution_count": 3,
   "metadata": {},
   "outputs": [
    {
     "data": {
      "image/png": "[encoded data removed]",
      "text/plain": [
       "<matplotlib.figure.Figure at 0x1ef4cb6aeb8>"
      ]
     },
     "metadata": {},
     "output_type": "display_data"
    }
   ],
   "source": [
    "\n",
    "StringPDP(50000,100)"
   ]
  },
  {
   "cell_type": "code",
   "execution_count": 1,
   "metadata": {},
   "outputs": [
    {
     "ename": "NameError",
     "evalue": "name 'StringPDP' is not defined",
     "output_type": "error",
     "traceback": [
      "\u001b[1;31m---------------------------------------------------------------------------\u001b[0m",
      "\u001b[1;31mNameError\u001b[0m                                 Traceback (most recent call last)",
      "\u001b[1;32m<ipython-input-1-dcfc3b726338>\u001b[0m in \u001b[0;36m<module>\u001b[1;34m()\u001b[0m\n\u001b[1;32m----> 1\u001b[1;33m \u001b[0mStringPDP\u001b[0m\u001b[1;33m(\u001b[0m\u001b[1;36m50000\u001b[0m\u001b[1;33m,\u001b[0m\u001b[1;36m1000\u001b[0m\u001b[1;33m)\u001b[0m\u001b[1;33m\u001b[0m\u001b[0m\n\u001b[0m",
      "\u001b[1;31mNameError\u001b[0m: name 'StringPDP' is not defined"
     ]
    }
   ],
   "source": [
    "StringPDP(50000,1000)\n"
   ]
  },
  {
   "cell_type": "code",
   "execution_count": null,
   "metadata": {},
   "outputs": [],
   "source": []
  },
  {
   "cell_type": "code",
   "execution_count": null,
   "metadata": {},
   "outputs": [],
   "source": []
  },
  {
   "cell_type": "code",
   "execution_count": null,
   "metadata": {},
   "outputs": [],
   "source": []
  },
  {
   "cell_type": "code",
   "execution_count": null,
   "metadata": {},
   "outputs": [],
   "source": []
  }
 ],
 "metadata": {
  "kernelspec": {
   "display_name": "Python 3",
   "language": "python",
   "name": "python3"
  },
  "language_info": {
   "codemirror_mode": {
    "name": "ipython",
    "version": 3
   },
   "file_extension": ".py",
   "mimetype": "text/x-python",
   "name": "python",
   "nbconvert_exporter": "python",
   "pygments_lexer": "ipython3",
   "version": "3.6.4"
  }
 },
 "nbformat": 4,
 "nbformat_minor": 2
}
