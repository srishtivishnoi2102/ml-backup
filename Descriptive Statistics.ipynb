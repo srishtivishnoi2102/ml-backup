{
 "cells": [
  {
   "cell_type": "code",
   "execution_count": 1,
   "metadata": {},
   "outputs": [],
   "source": [
    "#descriptive statistics  mean nd variance:  if i dont have data, but i have mean nd variance, then ill be able to describe the entire data, nd can even generate the data\n",
    "\n",
    "# mean is the average of the data\n",
    "\n",
    "# standard deviation is the mean of the error of the reading about the mean\n",
    "\n",
    "# 3 types of learning    1. Supervised Learning\n",
    "#                        2. Unsupervised learning\n",
    "#                        3. Reinforcement learning\n",
    "\n",
    "#probability & statistics \n",
    "\n",
    "# Random variable : variable without a defined changing pattern,  e.g., y=sin(x) isnt a random variable\n",
    "\n",
    "# Probability distribution function : It is a function which tells us the probability of occurence of a specific value of a random variable.\n",
    "\n",
    "\n",
    "# 1. Gaussian Distribution Function : f(x) = e^-(x)^2. is the gaussian function`\n",
    "\n",
    "# The Gaussian Probability Distribution tells u that if u have some population of data having mean and standard deviation , then we can find out the probability of any value of ramdom variable.\n",
    " \n",
    "\n"
   ]
  },
  {
   "cell_type": "code",
   "execution_count": 4,
   "metadata": {},
   "outputs": [
    {
     "name": "stdout",
     "output_type": "stream",
     "text": [
      "95.0\n",
      "235.0\n"
     ]
    }
   ],
   "source": [
    "print(165-4*17.5)\n",
    "\n",
    "\n",
    "print(165+4*17.5)"
   ]
  },
  {
   "cell_type": "code",
   "execution_count": null,
   "metadata": {},
   "outputs": [],
   "source": [
    "# multivariant gaussian distribution:  more than one random variables e.g., z=f(x,y) also called Joint Gaussian Distribution\n",
    "\n",
    "\n",
    "# P(A ^ B) = P(A) * P(B)   if A & B are independent\n",
    "\n",
    "# Co-variance matrix : Variance in the case when more than one random variable co-exist together\n",
    "\n",
    "# Properties of Co-variance:   1. it is a SQUARE MATRIX   \n",
    "                           #   2. it is a SYMMETRIC MATRIX  and    \n",
    "                            #  3. it must be a NON-SINGULAR MATRIX i.E., INVERTIBLE\n",
    "                            #  4. IT MUST BE A POSITIVE DEFINITE MATRIX\n",
    "                            #  5. DIMENSION=  N x N, where N in the number of random variables\n",
    "                \n",
    "    # rref   stands for ROW REDUCED ECHELON FORM\n",
    "\n",
    "\n"
   ]
  }
 ],
 "metadata": {
  "kernelspec": {
   "display_name": "Python 3",
   "language": "python",
   "name": "python3"
  },
  "language_info": {
   "codemirror_mode": {
    "name": "ipython",
    "version": 3
   },
   "file_extension": ".py",
   "mimetype": "text/x-python",
   "name": "python",
   "nbconvert_exporter": "python",
   "pygments_lexer": "ipython3",
   "version": "3.6.5"
  }
 },
 "nbformat": 4,
 "nbformat_minor": 2
}
